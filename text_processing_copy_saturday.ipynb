{
 "cells": [
  {
   "cell_type": "markdown",
   "metadata": {},
   "source": [
    "# Sex and The City Script Text Analysis\n",
    "\n",
    "The purpose of this project is the analysis of the entire script of the TV Show Sex and The City. Sex and the City is an American romantic comedy-drama television series created by Darren Star and produced by HBO. \n",
    "\n",
    "# Table of Content\n",
    "0. [Downloads and Libraries](#lud)  \n",
    "\n",
    "1. [Exploratory Data Analyis](#eda)  \n",
    "2. [Text Preprocessing](#text-prepro)\n",
    "   * [Tokenization](#tokenization)\n",
    "3. [Natural Language Processing](#nlp)\n",
    "    * [Lemmatization](#lemmatization)\n",
    "    * [TF-IDF](#tfidf)\n",
    "4. [Predictive Modeling](#prediction)\n",
    "    * [Dimensionality Reduction](#dimensionality)   \n",
    "        * [Preselection of Features](#pre-feat)   \n",
    "        * [Principal Component Analysis](#pca) \n",
    "    * [Linear Regression](#linreg)\n",
    "    * [Model Comparison](#modelcomp)\n",
    "   "
   ]
  },
  {
   "cell_type": "markdown",
   "metadata": {},
   "source": [
    "## Downloads and Libraries <a class=\"anchor\" id=\"lud\"></a>"
   ]
  },
  {
   "cell_type": "code",
   "execution_count": 1,
   "metadata": {},
   "outputs": [],
   "source": [
    "import pandas as pd\n",
    "import math\n",
    "import numpy as np\n",
    "\n",
    "# NLP library imports\n",
    "import nltk\n",
    "from nltk.corpus import stopwords\n",
    "from nltk import word_tokenize\n",
    "from nltk.tokenize import word_tokenize\n",
    "\n",
    "from nltk.stem.wordnet import WordNetLemmatizer\n",
    "from nltk import word_tokenize\n",
    "from nltk.tokenize import sent_tokenize\n",
    "\n",
    "#nltk.download('punkt')\n",
    "#nltk.download('wordnet')\n",
    "#nltk.download('stopwords')"
   ]
  },
  {
   "cell_type": "markdown",
   "metadata": {},
   "source": [
    "## Exploratory Data Analyis <a class=\"anchor\" id=\"eda\"></a>\n",
    "\n",
    "The present data set consists of 39988 lines of text with an average reating of 7.52 on IMDB. The poorest rating is 7.0, the highest rating is 8.8."
   ]
  },
  {
   "cell_type": "code",
   "execution_count": 2,
   "metadata": {},
   "outputs": [
    {
     "data": {
      "text/html": [
       "<div>\n",
       "<style scoped>\n",
       "    .dataframe tbody tr th:only-of-type {\n",
       "        vertical-align: middle;\n",
       "    }\n",
       "\n",
       "    .dataframe tbody tr th {\n",
       "        vertical-align: top;\n",
       "    }\n",
       "\n",
       "    .dataframe thead th {\n",
       "        text-align: right;\n",
       "    }\n",
       "</style>\n",
       "<table border=\"1\" class=\"dataframe\">\n",
       "  <thead>\n",
       "    <tr style=\"text-align: right;\">\n",
       "      <th></th>\n",
       "      <th>Season</th>\n",
       "      <th>Episode</th>\n",
       "      <th>Speaker</th>\n",
       "      <th>Line</th>\n",
       "      <th>date_job</th>\n",
       "      <th>ep_data_name</th>\n",
       "      <th>ep_data_url</th>\n",
       "      <th>ID</th>\n",
       "      <th>Rating</th>\n",
       "      <th>S_E</th>\n",
       "    </tr>\n",
       "  </thead>\n",
       "  <tbody>\n",
       "    <tr>\n",
       "      <th>0</th>\n",
       "      <td>1</td>\n",
       "      <td>1</td>\n",
       "      <td>Carrie</td>\n",
       "      <td>Once upon a time, an English journalist came t...</td>\n",
       "      <td>NaN</td>\n",
       "      <td>Sex and the City</td>\n",
       "      <td>https://www.imdb.com/title/tt0698663/?ref_=tte...</td>\n",
       "      <td>698663</td>\n",
       "      <td>7.4</td>\n",
       "      <td>1_1</td>\n",
       "    </tr>\n",
       "    <tr>\n",
       "      <th>1</th>\n",
       "      <td>1</td>\n",
       "      <td>1</td>\n",
       "      <td>Carrie</td>\n",
       "      <td>Elizabeth was attractive and bright.</td>\n",
       "      <td>NaN</td>\n",
       "      <td>Sex and the City</td>\n",
       "      <td>https://www.imdb.com/title/tt0698663/?ref_=tte...</td>\n",
       "      <td>698663</td>\n",
       "      <td>7.4</td>\n",
       "      <td>1_1</td>\n",
       "    </tr>\n",
       "    <tr>\n",
       "      <th>2</th>\n",
       "      <td>1</td>\n",
       "      <td>1</td>\n",
       "      <td>Carrie</td>\n",
       "      <td>Right away she hooked up with one of the city'...</td>\n",
       "      <td>NaN</td>\n",
       "      <td>Sex and the City</td>\n",
       "      <td>https://www.imdb.com/title/tt0698663/?ref_=tte...</td>\n",
       "      <td>698663</td>\n",
       "      <td>7.4</td>\n",
       "      <td>1_1</td>\n",
       "    </tr>\n",
       "    <tr>\n",
       "      <th>3</th>\n",
       "      <td>1</td>\n",
       "      <td>1</td>\n",
       "      <td>Tim</td>\n",
       "      <td>The question remains-- Is this really a compan...</td>\n",
       "      <td>NaN</td>\n",
       "      <td>Sex and the City</td>\n",
       "      <td>https://www.imdb.com/title/tt0698663/?ref_=tte...</td>\n",
       "      <td>698663</td>\n",
       "      <td>7.4</td>\n",
       "      <td>1_1</td>\n",
       "    </tr>\n",
       "    <tr>\n",
       "      <th>4</th>\n",
       "      <td>1</td>\n",
       "      <td>1</td>\n",
       "      <td>Carrie</td>\n",
       "      <td>Tim was 42, a well-liked and respected investm...</td>\n",
       "      <td>NaN</td>\n",
       "      <td>Sex and the City</td>\n",
       "      <td>https://www.imdb.com/title/tt0698663/?ref_=tte...</td>\n",
       "      <td>698663</td>\n",
       "      <td>7.4</td>\n",
       "      <td>1_1</td>\n",
       "    </tr>\n",
       "  </tbody>\n",
       "</table>\n",
       "</div>"
      ],
      "text/plain": [
       "   Season  Episode Speaker                                               Line  \\\n",
       "0       1        1  Carrie  Once upon a time, an English journalist came t...   \n",
       "1       1        1  Carrie               Elizabeth was attractive and bright.   \n",
       "2       1        1  Carrie  Right away she hooked up with one of the city'...   \n",
       "3       1        1     Tim  The question remains-- Is this really a compan...   \n",
       "4       1        1  Carrie  Tim was 42, a well-liked and respected investm...   \n",
       "\n",
       "  date_job      ep_data_name  \\\n",
       "0      NaN  Sex and the City   \n",
       "1      NaN  Sex and the City   \n",
       "2      NaN  Sex and the City   \n",
       "3      NaN  Sex and the City   \n",
       "4      NaN  Sex and the City   \n",
       "\n",
       "                                         ep_data_url      ID  Rating  S_E  \n",
       "0  https://www.imdb.com/title/tt0698663/?ref_=tte...  698663     7.4  1_1  \n",
       "1  https://www.imdb.com/title/tt0698663/?ref_=tte...  698663     7.4  1_1  \n",
       "2  https://www.imdb.com/title/tt0698663/?ref_=tte...  698663     7.4  1_1  \n",
       "3  https://www.imdb.com/title/tt0698663/?ref_=tte...  698663     7.4  1_1  \n",
       "4  https://www.imdb.com/title/tt0698663/?ref_=tte...  698663     7.4  1_1  "
      ]
     },
     "execution_count": 2,
     "metadata": {},
     "output_type": "execute_result"
    }
   ],
   "source": [
    "satc_all_lines_w_rating = pd.read_csv(\"satc_all_lines_w_rating.csv\").drop([\"Unnamed: 0\"],axis=1)\n",
    "#create col with season and episode\n",
    "satc_all_lines_w_rating['S_E'] = satc_all_lines_w_rating['Season'].astype(int).astype(str)+\"_\"+satc_all_lines_w_rating['Episode'].astype(int).astype(str)\n",
    "satc_all_lines_w_rating.head()"
   ]
  },
  {
   "cell_type": "code",
   "execution_count": 3,
   "metadata": {},
   "outputs": [
    {
     "data": {
      "text/html": [
       "<div>\n",
       "<style scoped>\n",
       "    .dataframe tbody tr th:only-of-type {\n",
       "        vertical-align: middle;\n",
       "    }\n",
       "\n",
       "    .dataframe tbody tr th {\n",
       "        vertical-align: top;\n",
       "    }\n",
       "\n",
       "    .dataframe thead th {\n",
       "        text-align: right;\n",
       "    }\n",
       "</style>\n",
       "<table border=\"1\" class=\"dataframe\">\n",
       "  <thead>\n",
       "    <tr style=\"text-align: right;\">\n",
       "      <th></th>\n",
       "      <th>Season</th>\n",
       "      <th>Episode</th>\n",
       "      <th>ID</th>\n",
       "      <th>Rating</th>\n",
       "    </tr>\n",
       "  </thead>\n",
       "  <tbody>\n",
       "    <tr>\n",
       "      <th>count</th>\n",
       "      <td>39988.000000</td>\n",
       "      <td>39988.000000</td>\n",
       "      <td>39988.000000</td>\n",
       "      <td>39988.000000</td>\n",
       "    </tr>\n",
       "    <tr>\n",
       "      <th>mean</th>\n",
       "      <td>3.687756</td>\n",
       "      <td>8.895294</td>\n",
       "      <td>698654.055267</td>\n",
       "      <td>7.524682</td>\n",
       "    </tr>\n",
       "    <tr>\n",
       "      <th>std</th>\n",
       "      <td>1.695484</td>\n",
       "      <td>5.324958</td>\n",
       "      <td>27.089066</td>\n",
       "      <td>0.282150</td>\n",
       "    </tr>\n",
       "    <tr>\n",
       "      <th>min</th>\n",
       "      <td>1.000000</td>\n",
       "      <td>1.000000</td>\n",
       "      <td>698608.000000</td>\n",
       "      <td>7.000000</td>\n",
       "    </tr>\n",
       "    <tr>\n",
       "      <th>25%</th>\n",
       "      <td>2.000000</td>\n",
       "      <td>4.000000</td>\n",
       "      <td>698631.000000</td>\n",
       "      <td>7.300000</td>\n",
       "    </tr>\n",
       "    <tr>\n",
       "      <th>50%</th>\n",
       "      <td>4.000000</td>\n",
       "      <td>8.000000</td>\n",
       "      <td>698653.000000</td>\n",
       "      <td>7.500000</td>\n",
       "    </tr>\n",
       "    <tr>\n",
       "      <th>75%</th>\n",
       "      <td>5.000000</td>\n",
       "      <td>13.000000</td>\n",
       "      <td>698677.000000</td>\n",
       "      <td>7.700000</td>\n",
       "    </tr>\n",
       "    <tr>\n",
       "      <th>max</th>\n",
       "      <td>6.000000</td>\n",
       "      <td>20.000000</td>\n",
       "      <td>698701.000000</td>\n",
       "      <td>8.800000</td>\n",
       "    </tr>\n",
       "  </tbody>\n",
       "</table>\n",
       "</div>"
      ],
      "text/plain": [
       "             Season       Episode             ID        Rating\n",
       "count  39988.000000  39988.000000   39988.000000  39988.000000\n",
       "mean       3.687756      8.895294  698654.055267      7.524682\n",
       "std        1.695484      5.324958      27.089066      0.282150\n",
       "min        1.000000      1.000000  698608.000000      7.000000\n",
       "25%        2.000000      4.000000  698631.000000      7.300000\n",
       "50%        4.000000      8.000000  698653.000000      7.500000\n",
       "75%        5.000000     13.000000  698677.000000      7.700000\n",
       "max        6.000000     20.000000  698701.000000      8.800000"
      ]
     },
     "execution_count": 3,
     "metadata": {},
     "output_type": "execute_result"
    }
   ],
   "source": [
    "satc_all_lines_w_rating.describe()"
   ]
  },
  {
   "cell_type": "code",
   "execution_count": 4,
   "metadata": {},
   "outputs": [
    {
     "data": {
      "text/plain": [
       "94"
      ]
     },
     "execution_count": 4,
     "metadata": {},
     "output_type": "execute_result"
    }
   ],
   "source": [
    "len(satc_all_lines_w_rating['S_E'].unique())"
   ]
  },
  {
   "cell_type": "markdown",
   "metadata": {},
   "source": [
    "The data set contains 94 unique episodes."
   ]
  },
  {
   "cell_type": "code",
   "execution_count": 5,
   "metadata": {},
   "outputs": [
    {
     "data": {
      "text/plain": [
       "<Figure size 640x480 with 1 Axes>"
      ]
     },
     "metadata": {},
     "output_type": "display_data"
    }
   ],
   "source": [
    "# Distribution of Ratings\n",
    "import seaborn as sns \n",
    "import matplotlib.pyplot as plt\n",
    "\n",
    "# Plotting rating distribution\n",
    "X_ratings = satc_all_lines_w_rating.groupby(['S_E']).min().Rating.value_counts()\n",
    "x = sns.barplot(X_ratings.index,X_ratings,palette=\"Set2\")\n",
    "x.set(xlabel='Ratings',ylabel='Frequencies',title='Frequencies of ratings over the {} reviews'.format(satc_all_lines_w_rating.shape[0]))\n",
    "plt.show()\n",
    "#X_ratings"
   ]
  },
  {
   "cell_type": "markdown",
   "metadata": {},
   "source": [
    "## Text Preprocessing <a class=\"anchor\" id=\"#text-prepro\"></a>\n",
    "\n",
    "In order to perform an analysis of the present text, we pre-process the text (\"Line\" in our data set). We bring all words to lowercase to be able to compare words across their position in a sentence (\"Hello\" and \"hello\" should be the same word). We furthermore strip all text of special characters. "
   ]
  },
  {
   "cell_type": "code",
   "execution_count": 6,
   "metadata": {},
   "outputs": [
    {
     "name": "stdout",
     "output_type": "stream",
     "text": [
      "Before transformation: Once upon a time, an English journalist came to New York. \n",
      " After transformation: once upon a time  an english journalist came to new york \n"
     ]
    }
   ],
   "source": [
    "#text transformation\n",
    "satc_all_lines_w_rating[\"cleaned\"] = satc_all_lines_w_rating.Line.tolist()\n",
    "#all to lowercase \n",
    "satc_all_lines_w_rating.cleaned = [str(line).lower() for line in satc_all_lines_w_rating.cleaned]\n",
    "\n",
    "#remove special chars\n",
    "chars_remove = [\"@\", \"/\", \"#\", \".\", \",\", \"!\", \"?\", \"(\", \")\", \"-\", \"_\",\"’\",\"'\", \"\\\"\", \":\"]\n",
    "trans_dict = {initial:\" \" for initial in chars_remove}\n",
    "satc_all_lines_w_rating.cleaned = [line.translate(str.maketrans(trans_dict)) for line in satc_all_lines_w_rating.cleaned]\n",
    "satc_all_lines_w_rating.head()\n",
    "\n",
    "print(\"Before transformation:\",satc_all_lines_w_rating.Line[0],\"\\n After transformation:\", satc_all_lines_w_rating.cleaned[0])"
   ]
  },
  {
   "cell_type": "markdown",
   "metadata": {},
   "source": [
    "### Tokenization <a class=\"anchor\" id=\"tokenization\"></a>\n",
    "We then tokenize the text, this means, we break up the text into invidiual token."
   ]
  },
  {
   "cell_type": "code",
   "execution_count": 7,
   "metadata": {},
   "outputs": [
    {
     "name": "stdout",
     "output_type": "stream",
     "text": [
      "Before transformation: Once upon a time, an English journalist came to New York. \n",
      " After transformation: ['upon', 'time', 'english', 'journalist', 'came', 'new', 'york']\n"
     ]
    }
   ],
   "source": [
    "#We are using NLKT tokenizer to split all text up into individual tokens\n",
    "satc_all_lines_w_rating[\"tokenized\"] = [word_tokenize(line) for line in satc_all_lines_w_rating.cleaned]\n",
    "\n",
    "#Removing stopwords for topic extraction using nltk stopwords library\n",
    "stopw = stopwords.words('english')\n",
    "satc_all_lines_w_rating[\"w_o_stopwords\"] = [[token for token in line if token not in stopw if len(token)>2] for line in satc_all_lines_w_rating.tokenized]\n",
    "satc_all_lines_w_rating.head()\n",
    "\n",
    "print(\"Before transformation:\",satc_all_lines_w_rating.Line[0],\"\\n After transformation:\", satc_all_lines_w_rating.w_o_stopwords[0])"
   ]
  },
  {
   "cell_type": "code",
   "execution_count": 8,
   "metadata": {},
   "outputs": [
    {
     "data": {
      "image/png": "[encoded data removed]",
      "text/plain": [
       "<Figure size 432x288 with 1 Axes>"
      ]
     },
     "metadata": {
      "needs_background": "light"
     },
     "output_type": "display_data"
    }
   ],
   "source": [
    "all_words = []\n",
    "for line in satc_all_lines_w_rating[\"w_o_stopwords\"]:\n",
    "    for word in line:\n",
    "        all_words.append(word)\n",
    "\n",
    "dist = nltk.FreqDist(all_words)\n",
    "X = [nb[1] for nb in dist.most_common(20)]\n",
    "y = [nb[0] for nb in dist.most_common(20)]\n",
    "x = sns.barplot(np.array(X),np.array(y))\n",
    "x.set(xlabel='Word frequencies',ylabel='Words',title='Most common words in the Sex and The City Scripts')\n",
    "plt.show()"
   ]
  },
  {
   "cell_type": "code",
   "execution_count": 9,
   "metadata": {},
   "outputs": [
    {
     "data": {
      "image/png": "[encoded data removed]",
      "text/plain": [
       "<Figure size 432x288 with 1 Axes>"
      ]
     },
     "metadata": {
      "needs_background": "light"
     },
     "output_type": "display_data"
    }
   ],
   "source": [
    "#addingnan and na to the list of stopwords\n",
    "#main_chars = [\"charlotte\",\"samantha\",\"carrie\",\"miranda\"]\n",
    "new_stopw = stopw + [\"nan\",\"name\"] #+ main_chars\n",
    "satc_all_lines_w_rating[\"w_o_stopwords_2\"] = [[token for token in line if token not in new_stopw if len(token)>2] for line in satc_all_lines_w_rating.tokenized]\n",
    "\n",
    "\n",
    "all_words = []\n",
    "for line in satc_all_lines_w_rating[\"w_o_stopwords_2\"]:\n",
    "    for word in line:\n",
    "        all_words.append(word)\n",
    "\n",
    "dist = nltk.FreqDist(all_words)\n",
    "X = [nb[1] for nb in dist.most_common(20)]\n",
    "y = [nb[0] for nb in dist.most_common(20)]\n",
    "x = sns.barplot(np.array(X),np.array(y))\n",
    "x.set(xlabel='Word frequencies',ylabel='Words',title='Most common words in the Sex and The City Scripts, removing further stopwords')\n",
    "plt.show()"
   ]
  },
  {
   "cell_type": "code",
   "execution_count": 10,
   "metadata": {},
   "outputs": [],
   "source": [
    "#saving tokenized data set\n",
    "satc_all_lines_w_rating.to_csv(\"satc_all_lines_w_rating_tokenized.csv\")"
   ]
  },
  {
   "cell_type": "markdown",
   "metadata": {},
   "source": [
    "## Natural Language Processing <a class=\"anchor\" id=\"nlp\"></a>\n",
    "### Lemmatization <a class=\"anchor\" id=\"lemmatization\"></a>"
   ]
  },
  {
   "cell_type": "code",
   "execution_count": 11,
   "metadata": {},
   "outputs": [],
   "source": [
    "# apply lemmatization from wordnet in order to merge words that come from the same meaning .- for example, \"friend\" and \"friends\" should be counted as the same word\n",
    "\n",
    "def lemmatize(tokens):\n",
    "    tokens = [WordNetLemmatizer().lemmatize(WordNetLemmatizer().lemmatize(WordNetLemmatizer().lemmatize(token,pos='a'),pos='v'),pos='n') for token in tokens]\n",
    "    return tokens  \n",
    "\n",
    "satc_all_lines_w_rating[\"lemmatized\"] = [lemmatize(line) for line in satc_all_lines_w_rating.w_o_stopwords_2]"
   ]
  },
  {
   "cell_type": "code",
   "execution_count": 12,
   "metadata": {},
   "outputs": [
    {
     "name": "stdout",
     "output_type": "stream",
     "text": [
      "0    [upon, time, english, journalist, came, new, y...\n",
      "1                      [elizabeth, attractive, bright]\n",
      "2    [right, away, hooked, one, city, typically, el...\n",
      "3           [question, remains, really, company, want]\n",
      "4    [tim, well, liked, respected, investment, bank...\n",
      "5    [met, one, evening, typical, new, york, fashio...\n",
      "6                                               [like]\n",
      "7           [yes, actually, think, quite, interesting]\n",
      "8                        [feel, like, know, somewhere]\n",
      "9                            [doubtful, moved, london]\n",
      "Name: w_o_stopwords_2, dtype: object\n",
      "0    [upon, time, english, journalist, come, new, y...\n",
      "1                      [elizabeth, attractive, bright]\n",
      "2    [right, away, hook, one, city, typically, elig...\n",
      "3            [question, remain, really, company, want]\n",
      "4    [tim, well, like, respect, investment, banker,...\n",
      "5    [meet, one, even, typical, new, york, fashion,...\n",
      "6                                               [like]\n",
      "7              [yes, actually, think, quite, interest]\n",
      "8                        [feel, like, know, somewhere]\n",
      "9                             [doubtful, move, london]\n",
      "Name: lemmatized, dtype: object\n"
     ]
    }
   ],
   "source": [
    "#look at the difference in words \n",
    "print(satc_all_lines_w_rating.w_o_stopwords_2[0:10])\n",
    "print(satc_all_lines_w_rating.lemmatized[0:10])"
   ]
  },
  {
   "cell_type": "code",
   "execution_count": 13,
   "metadata": {},
   "outputs": [
    {
     "data": {
      "image/png": "[encoded data removed]",
      "text/plain": [
       "<Figure size 432x288 with 1 Axes>"
      ]
     },
     "metadata": {
      "needs_background": "light"
     },
     "output_type": "display_data"
    }
   ],
   "source": [
    "all_words = []\n",
    "for line in satc_all_lines_w_rating[\"lemmatized\"]:\n",
    "    for word in line:\n",
    "        all_words.append(word)\n",
    "\n",
    "dist = nltk.FreqDist(all_words)\n",
    "X = [nb[1] for nb in dist.most_common(20)]\n",
    "y = [nb[0] for nb in dist.most_common(20)]\n",
    "x = sns.barplot(np.array(X),np.array(y))\n",
    "x.set(xlabel='Word frequencies',ylabel='Words',title='Most common words in the Sex and The City Scripts, Lemmatized')\n",
    "plt.show()"
   ]
  },
  {
   "cell_type": "markdown",
   "metadata": {},
   "source": [
    "### TF-IDF <a class=\"anchor\" id=\"tfidf\"></a>\n",
    "\n",
    "in order to highlight words specific to an episode"
   ]
  },
  {
   "cell_type": "code",
   "execution_count": 14,
   "metadata": {},
   "outputs": [
    {
     "data": {
      "text/html": [
       "<div>\n",
       "<style scoped>\n",
       "    .dataframe tbody tr th:only-of-type {\n",
       "        vertical-align: middle;\n",
       "    }\n",
       "\n",
       "    .dataframe tbody tr th {\n",
       "        vertical-align: top;\n",
       "    }\n",
       "\n",
       "    .dataframe thead th {\n",
       "        text-align: right;\n",
       "    }\n",
       "</style>\n",
       "<table border=\"1\" class=\"dataframe\">\n",
       "  <thead>\n",
       "    <tr style=\"text-align: right;\">\n",
       "      <th></th>\n",
       "      <th>ep_data_name</th>\n",
       "      <th>ep_data_url</th>\n",
       "      <th>ID</th>\n",
       "      <th>Rating</th>\n",
       "      <th>S_E</th>\n",
       "      <th>all_text</th>\n",
       "    </tr>\n",
       "  </thead>\n",
       "  <tbody>\n",
       "    <tr>\n",
       "      <th>0</th>\n",
       "      <td>Sex and the City</td>\n",
       "      <td>https://www.imdb.com/title/tt0698663/?ref_=tte...</td>\n",
       "      <td>698663</td>\n",
       "      <td>7.4</td>\n",
       "      <td>1_1</td>\n",
       "      <td>[upon, time, english, journalist, come, new, y...</td>\n",
       "    </tr>\n",
       "    <tr>\n",
       "      <th>1</th>\n",
       "      <td>Models and Mortals</td>\n",
       "      <td>https://www.imdb.com/title/tt0698649/?ref_=tte...</td>\n",
       "      <td>698649</td>\n",
       "      <td>7.4</td>\n",
       "      <td>1_2</td>\n",
       "      <td>[date, nick, fairly, successful, sport, agent,...</td>\n",
       "    </tr>\n",
       "    <tr>\n",
       "      <th>2</th>\n",
       "      <td>Bay of Married Pigs</td>\n",
       "      <td>https://www.imdb.com/title/tt0698618/?ref_=tte...</td>\n",
       "      <td>698618</td>\n",
       "      <td>7.4</td>\n",
       "      <td>1_3</td>\n",
       "      <td>[friend, patience, husband, invite, hampton, w...</td>\n",
       "    </tr>\n",
       "    <tr>\n",
       "      <th>3</th>\n",
       "      <td>Valley of the Twenty-Something Guys</td>\n",
       "      <td>https://www.imdb.com/title/tt0698697/?ref_=tte...</td>\n",
       "      <td>698697</td>\n",
       "      <td>7.5</td>\n",
       "      <td>1_4</td>\n",
       "      <td>[seem, meet, everywhere, street, corner, party...</td>\n",
       "    </tr>\n",
       "    <tr>\n",
       "      <th>4</th>\n",
       "      <td>The Power of Female Sex</td>\n",
       "      <td>https://www.imdb.com/title/tt0698688/?ref_=tte...</td>\n",
       "      <td>698688</td>\n",
       "      <td>7.3</td>\n",
       "      <td>1_5</td>\n",
       "      <td>[host, balzac, overnight, become, restaurant, ...</td>\n",
       "    </tr>\n",
       "  </tbody>\n",
       "</table>\n",
       "</div>"
      ],
      "text/plain": [
       "                          ep_data_name  \\\n",
       "0                     Sex and the City   \n",
       "1                   Models and Mortals   \n",
       "2                  Bay of Married Pigs   \n",
       "3  Valley of the Twenty-Something Guys   \n",
       "4              The Power of Female Sex   \n",
       "\n",
       "                                         ep_data_url      ID  Rating  S_E  \\\n",
       "0  https://www.imdb.com/title/tt0698663/?ref_=tte...  698663     7.4  1_1   \n",
       "1  https://www.imdb.com/title/tt0698649/?ref_=tte...  698649     7.4  1_2   \n",
       "2  https://www.imdb.com/title/tt0698618/?ref_=tte...  698618     7.4  1_3   \n",
       "3  https://www.imdb.com/title/tt0698697/?ref_=tte...  698697     7.5  1_4   \n",
       "4  https://www.imdb.com/title/tt0698688/?ref_=tte...  698688     7.3  1_5   \n",
       "\n",
       "                                            all_text  \n",
       "0  [upon, time, english, journalist, come, new, y...  \n",
       "1  [date, nick, fairly, successful, sport, agent,...  \n",
       "2  [friend, patience, husband, invite, hampton, w...  \n",
       "3  [seem, meet, everywhere, street, corner, party...  \n",
       "4  [host, balzac, overnight, become, restaurant, ...  "
      ]
     },
     "execution_count": 14,
     "metadata": {},
     "output_type": "execute_result"
    }
   ],
   "source": [
    "#group by episode to define one episode as one document for tf-idf\n",
    "\n",
    "#initizalize new df\n",
    "satc_text_per_episode = pd.DataFrame(\n",
    "    columns=list(satc_all_lines_w_rating)[5:10])\n",
    "\n",
    "#init\n",
    "current_s_e = \"1_1\"\n",
    "all_lines = []\n",
    "\n",
    "for index, row in satc_all_lines_w_rating.iterrows():\n",
    "        if(row.S_E == current_s_e):\n",
    "            #we use the lemmatized version of the lines, change here for different choice of text preprocessing\n",
    "            all_lines.append(row.lemmatized)\n",
    "\n",
    "        if row.S_E != current_s_e:\n",
    "            #flatten all tokens for previous episode and add them to the dataframe\n",
    "            flat_all_lines = [word for line in all_lines for word in line]\n",
    "            #add a new row to new df, taking the information from the index-1 (the last s_e)\n",
    "            satc_text_per_episode = satc_text_per_episode.append({'ep_data_name': satc_all_lines_w_rating.ep_data_name[index-1],\n",
    "                                                                  'ep_data_url': satc_all_lines_w_rating.ep_data_url[index-1],\n",
    "                                                                  'ID': satc_all_lines_w_rating.ID[index-1],\n",
    "                                                                  'Rating': satc_all_lines_w_rating.Rating[index-1],\n",
    "                                                                  'S_E': satc_all_lines_w_rating.S_E[index-1],\n",
    "                                                                  'all_text': flat_all_lines}, ignore_index=True)\n",
    "            #update vars\n",
    "            all_lines = []\n",
    "            current_s_e = row.S_E\n",
    "\n",
    "\n",
    "satc_text_per_episode.head()"
   ]
  },
  {
   "cell_type": "code",
   "execution_count": 15,
   "metadata": {},
   "outputs": [],
   "source": [
    "from sklearn.feature_extraction.text import TfidfVectorizer"
   ]
  },
  {
   "cell_type": "code",
   "execution_count": 16,
   "metadata": {},
   "outputs": [
    {
     "data": {
      "text/html": [
       "<div>\n",
       "<style scoped>\n",
       "    .dataframe tbody tr th:only-of-type {\n",
       "        vertical-align: middle;\n",
       "    }\n",
       "\n",
       "    .dataframe tbody tr th {\n",
       "        vertical-align: top;\n",
       "    }\n",
       "\n",
       "    .dataframe thead th {\n",
       "        text-align: right;\n",
       "    }\n",
       "</style>\n",
       "<table border=\"1\" class=\"dataframe\">\n",
       "  <thead>\n",
       "    <tr style=\"text-align: right;\">\n",
       "      <th></th>\n",
       "      <th>S_E</th>\n",
       "      <th>ep_data_name</th>\n",
       "      <th>ID</th>\n",
       "      <th>Rating</th>\n",
       "      <th>000</th>\n",
       "      <th>00am</th>\n",
       "      <th>00pm</th>\n",
       "      <th>100</th>\n",
       "      <th>1000</th>\n",
       "      <th>101</th>\n",
       "      <th>...</th>\n",
       "      <th>zoie</th>\n",
       "      <th>zone</th>\n",
       "      <th>zoo</th>\n",
       "      <th>zooey</th>\n",
       "      <th>zorro</th>\n",
       "      <th>zsa</th>\n",
       "      <th>zsu</th>\n",
       "      <th>zucchini</th>\n",
       "      <th>zygote</th>\n",
       "      <th>éclairs</th>\n",
       "    </tr>\n",
       "  </thead>\n",
       "  <tbody>\n",
       "    <tr>\n",
       "      <th>0</th>\n",
       "      <td>1_1</td>\n",
       "      <td>Sex and the City</td>\n",
       "      <td>698663</td>\n",
       "      <td>7.4</td>\n",
       "      <td>0.000000</td>\n",
       "      <td>0.0</td>\n",
       "      <td>0.0</td>\n",
       "      <td>0.0</td>\n",
       "      <td>0.0</td>\n",
       "      <td>0.0</td>\n",
       "      <td>...</td>\n",
       "      <td>0.0</td>\n",
       "      <td>0.0</td>\n",
       "      <td>0.0</td>\n",
       "      <td>0.0</td>\n",
       "      <td>0.0</td>\n",
       "      <td>0.0</td>\n",
       "      <td>0.0</td>\n",
       "      <td>0.0</td>\n",
       "      <td>0.0</td>\n",
       "      <td>0.0</td>\n",
       "    </tr>\n",
       "    <tr>\n",
       "      <th>1</th>\n",
       "      <td>1_2</td>\n",
       "      <td>Models and Mortals</td>\n",
       "      <td>698649</td>\n",
       "      <td>7.4</td>\n",
       "      <td>0.000000</td>\n",
       "      <td>0.0</td>\n",
       "      <td>0.0</td>\n",
       "      <td>0.0</td>\n",
       "      <td>0.0</td>\n",
       "      <td>0.0</td>\n",
       "      <td>...</td>\n",
       "      <td>0.0</td>\n",
       "      <td>0.0</td>\n",
       "      <td>0.0</td>\n",
       "      <td>0.0</td>\n",
       "      <td>0.0</td>\n",
       "      <td>0.0</td>\n",
       "      <td>0.0</td>\n",
       "      <td>0.0</td>\n",
       "      <td>0.0</td>\n",
       "      <td>0.0</td>\n",
       "    </tr>\n",
       "    <tr>\n",
       "      <th>2</th>\n",
       "      <td>1_3</td>\n",
       "      <td>Bay of Married Pigs</td>\n",
       "      <td>698618</td>\n",
       "      <td>7.4</td>\n",
       "      <td>0.017015</td>\n",
       "      <td>0.0</td>\n",
       "      <td>0.0</td>\n",
       "      <td>0.0</td>\n",
       "      <td>0.0</td>\n",
       "      <td>0.0</td>\n",
       "      <td>...</td>\n",
       "      <td>0.0</td>\n",
       "      <td>0.0</td>\n",
       "      <td>0.0</td>\n",
       "      <td>0.0</td>\n",
       "      <td>0.0</td>\n",
       "      <td>0.0</td>\n",
       "      <td>0.0</td>\n",
       "      <td>0.0</td>\n",
       "      <td>0.0</td>\n",
       "      <td>0.0</td>\n",
       "    </tr>\n",
       "    <tr>\n",
       "      <th>3</th>\n",
       "      <td>1_4</td>\n",
       "      <td>Valley of the Twenty-Something Guys</td>\n",
       "      <td>698697</td>\n",
       "      <td>7.5</td>\n",
       "      <td>0.000000</td>\n",
       "      <td>0.0</td>\n",
       "      <td>0.0</td>\n",
       "      <td>0.0</td>\n",
       "      <td>0.0</td>\n",
       "      <td>0.0</td>\n",
       "      <td>...</td>\n",
       "      <td>0.0</td>\n",
       "      <td>0.0</td>\n",
       "      <td>0.0</td>\n",
       "      <td>0.0</td>\n",
       "      <td>0.0</td>\n",
       "      <td>0.0</td>\n",
       "      <td>0.0</td>\n",
       "      <td>0.0</td>\n",
       "      <td>0.0</td>\n",
       "      <td>0.0</td>\n",
       "    </tr>\n",
       "    <tr>\n",
       "      <th>4</th>\n",
       "      <td>1_5</td>\n",
       "      <td>The Power of Female Sex</td>\n",
       "      <td>698688</td>\n",
       "      <td>7.3</td>\n",
       "      <td>0.069914</td>\n",
       "      <td>0.0</td>\n",
       "      <td>0.0</td>\n",
       "      <td>0.0</td>\n",
       "      <td>0.0</td>\n",
       "      <td>0.0</td>\n",
       "      <td>...</td>\n",
       "      <td>0.0</td>\n",
       "      <td>0.0</td>\n",
       "      <td>0.0</td>\n",
       "      <td>0.0</td>\n",
       "      <td>0.0</td>\n",
       "      <td>0.0</td>\n",
       "      <td>0.0</td>\n",
       "      <td>0.0</td>\n",
       "      <td>0.0</td>\n",
       "      <td>0.0</td>\n",
       "    </tr>\n",
       "  </tbody>\n",
       "</table>\n",
       "<p>5 rows × 8926 columns</p>\n",
       "</div>"
      ],
      "text/plain": [
       "   S_E                         ep_data_name      ID  Rating       000  00am  \\\n",
       "0  1_1                     Sex and the City  698663     7.4  0.000000   0.0   \n",
       "1  1_2                   Models and Mortals  698649     7.4  0.000000   0.0   \n",
       "2  1_3                  Bay of Married Pigs  698618     7.4  0.017015   0.0   \n",
       "3  1_4  Valley of the Twenty-Something Guys  698697     7.5  0.000000   0.0   \n",
       "4  1_5              The Power of Female Sex  698688     7.3  0.069914   0.0   \n",
       "\n",
       "   00pm  100  1000  101   ...     zoie  zone  zoo  zooey  zorro  zsa  zsu  \\\n",
       "0   0.0  0.0   0.0  0.0   ...      0.0   0.0  0.0    0.0    0.0  0.0  0.0   \n",
       "1   0.0  0.0   0.0  0.0   ...      0.0   0.0  0.0    0.0    0.0  0.0  0.0   \n",
       "2   0.0  0.0   0.0  0.0   ...      0.0   0.0  0.0    0.0    0.0  0.0  0.0   \n",
       "3   0.0  0.0   0.0  0.0   ...      0.0   0.0  0.0    0.0    0.0  0.0  0.0   \n",
       "4   0.0  0.0   0.0  0.0   ...      0.0   0.0  0.0    0.0    0.0  0.0  0.0   \n",
       "\n",
       "   zucchini  zygote  éclairs  \n",
       "0       0.0     0.0      0.0  \n",
       "1       0.0     0.0      0.0  \n",
       "2       0.0     0.0      0.0  \n",
       "3       0.0     0.0      0.0  \n",
       "4       0.0     0.0      0.0  \n",
       "\n",
       "[5 rows x 8926 columns]"
      ]
     },
     "execution_count": 16,
     "metadata": {},
     "output_type": "execute_result"
    }
   ],
   "source": [
    "##create the tfidf matrix\n",
    "vect = TfidfVectorizer(analyzer ='word',ngram_range=(1,1),encoding='latin1')\n",
    "vect_transformed = vect.fit_transform([text for text in satc_text_per_episode['all_text'].astype(str)])\n",
    "\n",
    "feature_names = np.array(vect.get_feature_names())\n",
    "\n",
    "satc_tfidf = pd.concat([satc_text_per_episode[['S_E','ep_data_name','ID','Rating']],\n",
    "                        pd.DataFrame(vect_transformed.todense(), columns = feature_names)],axis=1)\n",
    "\n",
    "satc_tfidf.head()"
   ]
  },
  {
   "cell_type": "code",
   "execution_count": 17,
   "metadata": {},
   "outputs": [
    {
     "name": "stdout",
     "output_type": "stream",
     "text": [
      "Smallest tfidf:\n",
      "['tiny' 'whenever' 'familiar' 'obvious' 'track' 'skin' 'perform' 'hall'\n",
      " 'replace' 'tip']\n",
      "\n",
      "Largest tfidf: \n",
      "['laney' 'threesome' 'pattern' 'fake' 'soul' 'model' 'yankee' 'phil'\n",
      " 'javier' 'zsa']\n"
     ]
    }
   ],
   "source": [
    "#some words with smallest and largest tfids\n",
    "sorted_tfidf_index = vect_transformed.max(0).toarray()[0].argsort()\n",
    "print('Smallest tfidf:\\n{}\\n'.format(feature_names[sorted_tfidf_index[:10]]))\n",
    "print('Largest tfidf: \\n{}'.format(feature_names[sorted_tfidf_index[:-11:-1]]))"
   ]
  },
  {
   "cell_type": "markdown",
   "metadata": {},
   "source": [
    "## Predictive Modeling <a class=\"anchor\" id=\"prediction\"></a>"
   ]
  },
  {
   "cell_type": "markdown",
   "metadata": {},
   "source": [
    " ### Dimensionality Reduction  <a class=\"anchor\" id=\"dimensionality\"></a> \n",
    " #### Preselection of Features  <a class=\"anchor\" id=\"pre-feat\"></a> "
   ]
  },
  {
   "cell_type": "code",
   "execution_count": 18,
   "metadata": {},
   "outputs": [],
   "source": [
    "from collections import Counter\n",
    "\n",
    "def get_features(method ='tf', k=100):\n",
    "    k=k\n",
    "    if (method == 'tfidf'):\n",
    "        #getting topK highest tfidf words\n",
    "        top_k = feature_names[sorted_tfidf_index[:-(k+1):-1]]\n",
    "    elif (method == 'tf'):\n",
    "        #topK most common words\n",
    "        counter = Counter([item for sublist in satc_text_per_episode['all_text'] for item in sublist])\n",
    "        top_k = counter.most_common(k)\n",
    "    else:\n",
    "        top_k = None\n",
    "        print(\"Bad input!! Choose tf or tfidf as first arg\")\n",
    "    \n",
    "    return list(top_k)"
   ]
  },
  {
   "cell_type": "code",
   "execution_count": 19,
   "metadata": {},
   "outputs": [
    {
     "data": {
      "text/plain": [
       "['laney',\n",
       " 'threesome',\n",
       " 'pattern',\n",
       " 'fake',\n",
       " 'soul',\n",
       " 'model',\n",
       " 'yankee',\n",
       " 'phil',\n",
       " 'javier',\n",
       " 'zsa',\n",
       " 'church',\n",
       " 'honeymoon',\n",
       " 'shrink',\n",
       " 'ghost',\n",
       " 'sandwich',\n",
       " 'whore',\n",
       " 'rabbit',\n",
       " 'sam',\n",
       " 'cheat',\n",
       " 'dildo',\n",
       " 'karma',\n",
       " 'jim',\n",
       " 'fetish',\n",
       " 'bitsy',\n",
       " 'jeremy',\n",
       " 'atlantic',\n",
       " 'leslie',\n",
       " 'review',\n",
       " 'berger',\n",
       " 'myth',\n",
       " 'paris',\n",
       " 'change',\n",
       " 'train',\n",
       " 'gay',\n",
       " 'money',\n",
       " 'mao',\n",
       " 'weight',\n",
       " 'vogue',\n",
       " 'shoe',\n",
       " 'pregnant',\n",
       " 'stewardess',\n",
       " 'ray',\n",
       " 'raw',\n",
       " 'marry',\n",
       " 'freak',\n",
       " 'ovary',\n",
       " 'keith',\n",
       " 'game',\n",
       " 'hubbell',\n",
       " 'taddy']"
      ]
     },
     "execution_count": 19,
     "metadata": {},
     "output_type": "execute_result"
    }
   ],
   "source": [
    "features_words = get_features('tfidf',50)\n",
    "features_words"
   ]
  },
  {
   "cell_type": "markdown",
   "metadata": {},
   "source": [
    " #### Principal Component Analysis  <a class=\"anchor\" id=\"pca\"></a> "
   ]
  },
  {
   "cell_type": "code",
   "execution_count": 22,
   "metadata": {},
   "outputs": [],
   "source": [
    "from sklearn.decomposition import PCA\n",
    "\n",
    "pca = PCA(n_components=50)"
   ]
  },
  {
   "cell_type": "markdown",
   "metadata": {},
   "source": [
    "### Linear Regression <a class=\"anchor\" id=\"linreg\"></a>\n",
    "\n",
    "#### Penalized Regression using Lasso"
   ]
  },
  {
   "cell_type": "code",
   "execution_count": 23,
   "metadata": {},
   "outputs": [],
   "source": [
    "from sklearn import linear_model\n",
    "from sklearn.linear_model import LassoCV\n",
    "from sklearn.linear_model import Lasso\n",
    "\n",
    "lasso_model = LassoCV(n_alphas=100, alphas=[.01,.1,1,10,100]) \n",
    "\n",
    "features_df = satc_tfidf[satc_tfidf.columns[4:]].filter(features_words,axis=1)\n",
    "features = features_df.values\n",
    "\n",
    "target_df = satc_tfidf['Rating']\n",
    "target = target_df.values"
   ]
  },
  {
   "cell_type": "code",
   "execution_count": 80,
   "metadata": {},
   "outputs": [
    {
     "data": {
      "text/plain": [
       "0.1972472527472527"
      ]
     },
     "execution_count": 80,
     "metadata": {},
     "output_type": "execute_result"
    }
   ],
   "source": [
    "import warnings\n",
    "warnings.filterwarnings('ignore')\n",
    "\n",
    "from sklearn.model_selection import train_test_split\n",
    "import sklearn.metrics as metrics \n",
    "\n",
    "#only keep 95% of vars \n",
    "from sklearn.decomposition import PCA\n",
    "\n",
    "pca = PCA(n_components=50)\n",
    "pca\n",
    "\n",
    "\n",
    "results={}\n",
    "labels = satc_tfidf['Rating'].unique()\n",
    "num_run = 10\n",
    "\n",
    "#get ten results to account for randomness \n",
    "for i in range (num_run):\n",
    "       \n",
    "    # separate datasets into training and test datasets once, no folding\n",
    "    features_train, features_test, target_train, target_test = train_test_split(features, target, test_size=0.3)\n",
    "   \n",
    "    # train the features and target datasets and fit to a model\n",
    "    trained_lm = lasso_model.fit(features_train, target_train)\n",
    "\n",
    "\n",
    "    # predict target with feature test set using trained model\n",
    "    target_pred_train = list(trained_lm.predict(features_train))\n",
    "    target_pred_test = list(trained_lm.predict(features_test))\n",
    "\n",
    "    results[i]=[metrics.mean_squared_error(target_test, target_pred_test),\n",
    "            metrics.mean_absolute_error (target_test, target_pred_test),\n",
    "            metrics.explained_variance_score(target_test, target_pred_test),\n",
    "            metrics.r2_score(target_test, target_pred_test),\n",
    "               ]\n",
    "\n",
    "res = pd.DataFrame.from_dict(data=results,orient='index',columns=['MSE','MAbsE', 'Explained_variance_score','R^2']) \n",
    "res.MAbsE.mean()\n",
    "\n"
   ]
  },
  {
   "cell_type": "code",
   "execution_count": 81,
   "metadata": {},
   "outputs": [
    {
     "data": {
      "text/html": [
       "<div>\n",
       "<style scoped>\n",
       "    .dataframe tbody tr th:only-of-type {\n",
       "        vertical-align: middle;\n",
       "    }\n",
       "\n",
       "    .dataframe tbody tr th {\n",
       "        vertical-align: top;\n",
       "    }\n",
       "\n",
       "    .dataframe thead th {\n",
       "        text-align: right;\n",
       "    }\n",
       "</style>\n",
       "<table border=\"1\" class=\"dataframe\">\n",
       "  <thead>\n",
       "    <tr style=\"text-align: right;\">\n",
       "      <th></th>\n",
       "      <th>Name</th>\n",
       "      <th>features</th>\n",
       "      <th>pca_dim</th>\n",
       "      <th>MSE</th>\n",
       "      <th>MAbsE</th>\n",
       "      <th>Explained_variance_score</th>\n",
       "      <th>R_squared</th>\n",
       "    </tr>\n",
       "  </thead>\n",
       "  <tbody>\n",
       "    <tr>\n",
       "      <th>0</th>\n",
       "      <td>lasso</td>\n",
       "      <td>50</td>\n",
       "      <td>50</td>\n",
       "      <td>0.058384</td>\n",
       "      <td>0.193813</td>\n",
       "      <td>-1.221245e-16</td>\n",
       "      <td>-0.057847</td>\n",
       "    </tr>\n",
       "    <tr>\n",
       "      <th>1</th>\n",
       "      <td>lasso</td>\n",
       "      <td>100</td>\n",
       "      <td>50</td>\n",
       "      <td>0.062596</td>\n",
       "      <td>0.201989</td>\n",
       "      <td>0.000000e+00</td>\n",
       "      <td>-0.051350</td>\n",
       "    </tr>\n",
       "    <tr>\n",
       "      <th>2</th>\n",
       "      <td>lasso</td>\n",
       "      <td>100</td>\n",
       "      <td>10</td>\n",
       "      <td>0.054026</td>\n",
       "      <td>0.188731</td>\n",
       "      <td>-3.330669e-17</td>\n",
       "      <td>-0.048876</td>\n",
       "    </tr>\n",
       "    <tr>\n",
       "      <th>3</th>\n",
       "      <td>Tree</td>\n",
       "      <td>50</td>\n",
       "      <td>50</td>\n",
       "      <td>0.098728</td>\n",
       "      <td>0.250851</td>\n",
       "      <td>-7.273981e-01</td>\n",
       "      <td>-0.826297</td>\n",
       "    </tr>\n",
       "    <tr>\n",
       "      <th>4</th>\n",
       "      <td>Tree</td>\n",
       "      <td>100</td>\n",
       "      <td>50</td>\n",
       "      <td>0.109144</td>\n",
       "      <td>0.266705</td>\n",
       "      <td>-8.199555e-01</td>\n",
       "      <td>-0.991659</td>\n",
       "    </tr>\n",
       "    <tr>\n",
       "      <th>5</th>\n",
       "      <td>Tree</td>\n",
       "      <td>150</td>\n",
       "      <td>50</td>\n",
       "      <td>0.094359</td>\n",
       "      <td>0.248669</td>\n",
       "      <td>-5.147333e-01</td>\n",
       "      <td>-0.622676</td>\n",
       "    </tr>\n",
       "    <tr>\n",
       "      <th>6</th>\n",
       "      <td>Tree</td>\n",
       "      <td>25</td>\n",
       "      <td>None</td>\n",
       "      <td>0.096267</td>\n",
       "      <td>0.252907</td>\n",
       "      <td>-7.208052e-01</td>\n",
       "      <td>-0.775899</td>\n",
       "    </tr>\n",
       "    <tr>\n",
       "      <th>7</th>\n",
       "      <td>Tree</td>\n",
       "      <td>35</td>\n",
       "      <td>None</td>\n",
       "      <td>0.107924</td>\n",
       "      <td>0.266064</td>\n",
       "      <td>-7.821868e-01</td>\n",
       "      <td>-0.869281</td>\n",
       "    </tr>\n",
       "    <tr>\n",
       "      <th>8</th>\n",
       "      <td>Tree</td>\n",
       "      <td>50</td>\n",
       "      <td>None</td>\n",
       "      <td>0.092091</td>\n",
       "      <td>0.241911</td>\n",
       "      <td>-5.984738e-01</td>\n",
       "      <td>-0.658220</td>\n",
       "    </tr>\n",
       "    <tr>\n",
       "      <th>9</th>\n",
       "      <td>Tree</td>\n",
       "      <td>100</td>\n",
       "      <td>None</td>\n",
       "      <td>0.113289</td>\n",
       "      <td>0.264696</td>\n",
       "      <td>-7.269802e-01</td>\n",
       "      <td>-0.879479</td>\n",
       "    </tr>\n",
       "    <tr>\n",
       "      <th>10</th>\n",
       "      <td>Tree</td>\n",
       "      <td>150</td>\n",
       "      <td>None</td>\n",
       "      <td>0.111056</td>\n",
       "      <td>0.261486</td>\n",
       "      <td>-7.491931e-01</td>\n",
       "      <td>-0.856337</td>\n",
       "    </tr>\n",
       "    <tr>\n",
       "      <th>11</th>\n",
       "      <td>xgb</td>\n",
       "      <td>50</td>\n",
       "      <td>None</td>\n",
       "      <td>0.073484</td>\n",
       "      <td>0.211533</td>\n",
       "      <td>-1.080091e-01</td>\n",
       "      <td>-0.192176</td>\n",
       "    </tr>\n",
       "    <tr>\n",
       "      <th>12</th>\n",
       "      <td>xgb</td>\n",
       "      <td>100</td>\n",
       "      <td>None</td>\n",
       "      <td>0.067359</td>\n",
       "      <td>0.209428</td>\n",
       "      <td>-1.910212e-01</td>\n",
       "      <td>-0.255382</td>\n",
       "    </tr>\n",
       "    <tr>\n",
       "      <th>13</th>\n",
       "      <td>xgb</td>\n",
       "      <td>150</td>\n",
       "      <td>None</td>\n",
       "      <td>0.066458</td>\n",
       "      <td>0.209394</td>\n",
       "      <td>-1.324175e-01</td>\n",
       "      <td>-0.182930</td>\n",
       "    </tr>\n",
       "    <tr>\n",
       "      <th>14</th>\n",
       "      <td>xgb</td>\n",
       "      <td>50</td>\n",
       "      <td>50</td>\n",
       "      <td>0.074979</td>\n",
       "      <td>0.218395</td>\n",
       "      <td>-3.080446e-01</td>\n",
       "      <td>-0.381345</td>\n",
       "    </tr>\n",
       "    <tr>\n",
       "      <th>15</th>\n",
       "      <td>xgb</td>\n",
       "      <td>50</td>\n",
       "      <td>2</td>\n",
       "      <td>0.079086</td>\n",
       "      <td>0.222199</td>\n",
       "      <td>-3.526753e-01</td>\n",
       "      <td>-0.396716</td>\n",
       "    </tr>\n",
       "  </tbody>\n",
       "</table>\n",
       "</div>"
      ],
      "text/plain": [
       "     Name features pca_dim       MSE     MAbsE  Explained_variance_score  \\\n",
       "0   lasso       50      50  0.058384  0.193813             -1.221245e-16   \n",
       "1   lasso      100      50  0.062596  0.201989              0.000000e+00   \n",
       "2   lasso      100      10  0.054026  0.188731             -3.330669e-17   \n",
       "3    Tree       50      50  0.098728  0.250851             -7.273981e-01   \n",
       "4    Tree      100      50  0.109144  0.266705             -8.199555e-01   \n",
       "5    Tree      150      50  0.094359  0.248669             -5.147333e-01   \n",
       "6    Tree       25    None  0.096267  0.252907             -7.208052e-01   \n",
       "7    Tree       35    None  0.107924  0.266064             -7.821868e-01   \n",
       "8    Tree       50    None  0.092091  0.241911             -5.984738e-01   \n",
       "9    Tree      100    None  0.113289  0.264696             -7.269802e-01   \n",
       "10   Tree      150    None  0.111056  0.261486             -7.491931e-01   \n",
       "11    xgb       50    None  0.073484  0.211533             -1.080091e-01   \n",
       "12    xgb      100    None  0.067359  0.209428             -1.910212e-01   \n",
       "13    xgb      150    None  0.066458  0.209394             -1.324175e-01   \n",
       "14    xgb       50      50  0.074979  0.218395             -3.080446e-01   \n",
       "15    xgb       50       2  0.079086  0.222199             -3.526753e-01   \n",
       "\n",
       "    R_squared  \n",
       "0   -0.057847  \n",
       "1   -0.051350  \n",
       "2   -0.048876  \n",
       "3   -0.826297  \n",
       "4   -0.991659  \n",
       "5   -0.622676  \n",
       "6   -0.775899  \n",
       "7   -0.869281  \n",
       "8   -0.658220  \n",
       "9   -0.879479  \n",
       "10  -0.856337  \n",
       "11  -0.192176  \n",
       "12  -0.255382  \n",
       "13  -0.182930  \n",
       "14  -0.381345  \n",
       "15  -0.396716  "
      ]
     },
     "execution_count": 81,
     "metadata": {},
     "output_type": "execute_result"
    }
   ],
   "source": [
    "model_comparison_df"
   ]
  },
  {
   "cell_type": "markdown",
   "metadata": {},
   "source": [
    "### Regression Trees\n"
   ]
  },
  {
   "cell_type": "code",
   "execution_count": 26,
   "metadata": {},
   "outputs": [
    {
     "data": {
      "text/plain": [
       "93"
      ]
     },
     "execution_count": 26,
     "metadata": {},
     "output_type": "execute_result"
    }
   ],
   "source": [
    "# Get the predictors and the response values\n",
    "X = satc_tfidf[satc_tfidf.columns[4:]].filter(features_words,axis=1).values\n",
    "\n",
    "y = satc_tfidf['Rating'].values\n",
    "# The lab uses a 50/50 split. We'll do the same\n",
    "X_train, X_test, y_train, y_test = train_test_split(X, y, train_size=0.5, random_state=0)\n",
    "\n",
    "satc_tfidf.head()\n",
    "len(X_train)\n",
    "len(satc_tfidf[satc_tfidf.columns[4:]].filter(features_words,axis=1).values)"
   ]
  },
  {
   "cell_type": "code",
   "execution_count": 27,
   "metadata": {},
   "outputs": [
    {
     "data": {
      "text/plain": [
       "DecisionTreeRegressor(criterion='mse', max_depth=None, max_features=None,\n",
       "           max_leaf_nodes=None, min_impurity_decrease=0.0,\n",
       "           min_impurity_split=None, min_samples_leaf=1,\n",
       "           min_samples_split=10, min_weight_fraction_leaf=0.0,\n",
       "           presort=False, random_state=None, splitter='best')"
      ]
     },
     "execution_count": 27,
     "metadata": {},
     "output_type": "execute_result"
    }
   ],
   "source": [
    "from sklearn.tree import DecisionTreeRegressor\n",
    "from sklearn.ensemble import RandomForestRegressor\n",
    "\n",
    "from sklearn.tree import tree, export_graphviz\n",
    "import graphviz\n",
    "\n",
    "\n",
    "# Create an sklearn decision tree object using the mse metric for splitting, considering all the features and \n",
    "# splitting if there are more than 10 samples at a node.\n",
    "tree = DecisionTreeRegressor(max_features=None, min_samples_split=10)\n",
    "tree_est = tree.fit(X_train, y_train)\n",
    "tree_est"
   ]
  },
  {
   "cell_type": "code",
   "execution_count": 28,
   "metadata": {},
   "outputs": [
    {
     "data": {
      "image/png": "[encoded data removed]",
      "text/plain": [
       "<IPython.core.display.Image object>"
      ]
     },
     "execution_count": 28,
     "metadata": {},
     "output_type": "execute_result"
    }
   ],
   "source": [
    "from IPython.display import Image, display\n",
    "\n",
    "\n",
    "# use sklearn's export to generate the dot-data string file with all the nodes and their props.\n",
    "dot_data = export_graphviz(tree_est, out_file='boston_tree.dot',feature_names=satc_tfidf[satc_tfidf.columns[4:]].filter(features_words,axis=1).columns[0:],filled=True, \n",
    "                           rounded=True, special_characters=True)\n",
    "\n",
    "with open('boston_tree.dot') as f:\n",
    "    dot_graph = f.read()  \n",
    "\n",
    "# create the source object\n",
    "I = graphviz.Source(dot_graph, format='png', engine='dot')\n",
    "# Use ipython Image to shrink the rendered image of the source obj to fit into jupyter nb.\n",
    "Image(I.render())\n"
   ]
  },
  {
   "cell_type": "code",
   "execution_count": 29,
   "metadata": {},
   "outputs": [
    {
     "data": {
      "text/plain": [
       "freak         0.435662\n",
       "shoe          0.215779\n",
       "paris         0.104963\n",
       "marry         0.091520\n",
       "whore         0.053496\n",
       "myth          0.040974\n",
       "ray           0.034384\n",
       "threesome     0.013290\n",
       "fake          0.009933\n",
       "sandwich      0.000000\n",
       "taddy         0.000000\n",
       "rabbit        0.000000\n",
       "sam           0.000000\n",
       "shrink        0.000000\n",
       "cheat         0.000000\n",
       "dildo         0.000000\n",
       "ghost         0.000000\n",
       "zsa           0.000000\n",
       "honeymoon     0.000000\n",
       "church        0.000000\n",
       "jim           0.000000\n",
       "javier        0.000000\n",
       "phil          0.000000\n",
       "yankee        0.000000\n",
       "model         0.000000\n",
       "soul          0.000000\n",
       "pattern       0.000000\n",
       "karma         0.000000\n",
       "jeremy        0.000000\n",
       "fetish        0.000000\n",
       "mao           0.000000\n",
       "game          0.000000\n",
       "keith         0.000000\n",
       "ovary         0.000000\n",
       "raw           0.000000\n",
       "stewardess    0.000000\n",
       "pregnant      0.000000\n",
       "vogue         0.000000\n",
       "weight        0.000000\n",
       "money         0.000000\n",
       "bitsy         0.000000\n",
       "gay           0.000000\n",
       "train         0.000000\n",
       "change        0.000000\n",
       "berger        0.000000\n",
       "review        0.000000\n",
       "leslie        0.000000\n",
       "atlantic      0.000000\n",
       "hubbell       0.000000\n",
       "laney         0.000000\n",
       "dtype: float64"
      ]
     },
     "execution_count": 29,
     "metadata": {},
     "output_type": "execute_result"
    }
   ],
   "source": [
    "feature_importances = pd.Series(data=tree.feature_importances_, index=list(satc_tfidf[satc_tfidf.columns[4:]].filter(features_words,axis=1)))\n",
    "feature_importances.sort_values(axis=0, ascending=False)"
   ]
  },
  {
   "cell_type": "code",
   "execution_count": 30,
   "metadata": {},
   "outputs": [
    {
     "name": "stdout",
     "output_type": "stream",
     "text": [
      "Test MSE =  0.06878079886406885\n"
     ]
    },
    {
     "data": {
      "image/png": "[encoded data removed]",
      "text/plain": [
       "<Figure size 576x432 with 1 Axes>"
      ]
     },
     "metadata": {
      "needs_background": "light"
     },
     "output_type": "display_data"
    }
   ],
   "source": [
    "# Get the predictions from the tree for the test set\n",
    "y_pred = tree_est.predict(X_test)\n",
    "\n",
    "# Scatter plot the predicted versus actual values\n",
    "fig,ax = plt.subplots(1,1, figsize=(8,6));\n",
    "ax.scatter(y_pred, y_test, facecolor='None', edgecolor='b');\n",
    "# add a reference unity line\n",
    "ax.plot([min(y_pred), max(y_pred)], [min(y_test), max(y_test)], linestyle='--', color='k');\n",
    "ax.set_xlabel('y_predicted')\n",
    "ax.set_ylabel('y_actual')\n",
    "\n",
    "# print the mse\n",
    "mse_dt = np.mean((y_pred-y_test)**2)\n",
    "print(\"Test MSE = \", mse_dt)"
   ]
  },
  {
   "cell_type": "code",
   "execution_count": 31,
   "metadata": {},
   "outputs": [],
   "source": [
    "features_words = get_features('tfidf',150)"
   ]
  },
  {
   "cell_type": "code",
   "execution_count": 32,
   "metadata": {},
   "outputs": [],
   "source": [
    "error_rates_regression_tree=[metrics.mean_squared_error(y_test, y_pred),\n",
    "            metrics.mean_absolute_error (y_test, y_pred),\n",
    "            metrics.explained_variance_score(y_test, y_pred),\n",
    "            metrics.r2_score(y_test, y_pred)]"
   ]
  },
  {
   "cell_type": "code",
   "execution_count": 33,
   "metadata": {},
   "outputs": [
    {
     "data": {
      "text/plain": [
       "[0.06878079886406885,\n",
       " 0.21854103343465037,\n",
       " -0.3331709309019115,\n",
       " -0.3582762800887549]"
      ]
     },
     "execution_count": 33,
     "metadata": {},
     "output_type": "execute_result"
    }
   ],
   "source": [
    "error_rates_regression_tree"
   ]
  },
  {
   "cell_type": "markdown",
   "metadata": {},
   "source": [
    "## Bagging Model"
   ]
  },
  {
   "cell_type": "code",
   "execution_count": 34,
   "metadata": {},
   "outputs": [],
   "source": [
    "from sklearn.ensemble import RandomForestRegressor\n",
    "\n",
    "bagger = RandomForestRegressor(n_estimators=500)\n",
    "bag_est =  bagger.fit(X_train, y_train)\n"
   ]
  },
  {
   "cell_type": "code",
   "execution_count": 35,
   "metadata": {},
   "outputs": [
    {
     "name": "stdout",
     "output_type": "stream",
     "text": [
      "Test MSE =  0.05441959148935897\n"
     ]
    },
    {
     "data": {
      "image/png": "[encoded data removed]",
      "text/plain": [
       "<Figure size 576x432 with 1 Axes>"
      ]
     },
     "metadata": {
      "needs_background": "light"
     },
     "output_type": "display_data"
    }
   ],
   "source": [
    "y_pred = bagger.predict(X_test)\n",
    "\n",
    "# Plot the predicted vs the actual medv response\n",
    "fig, ax = plt.subplots(1,1, figsize=(8,6))\n",
    "ax.scatter(y_pred, y_test, facecolor='None', edgecolor='b')\n",
    "# add a reference unity line\n",
    "ax.plot([min(y_pred), max(y_pred)], [min(y_test), max(y_test)], linestyle='--', color='k');\n",
    "ax.set_xlabel('y_predicted')\n",
    "ax.set_ylabel('y_actual')\n",
    "\n",
    "mse_ba = np.mean((y_pred-y_test)**2)\n",
    "print(\"Test MSE = \", mse_ba)"
   ]
  },
  {
   "cell_type": "code",
   "execution_count": 36,
   "metadata": {},
   "outputs": [],
   "source": [
    "error_rates_bagging=[metrics.mean_squared_error(y_test, y_pred),\n",
    "            metrics.mean_absolute_error (y_test, y_pred),\n",
    "            metrics.explained_variance_score(y_test, y_pred),\n",
    "            metrics.r2_score(y_test, y_pred)]"
   ]
  },
  {
   "cell_type": "code",
   "execution_count": 37,
   "metadata": {},
   "outputs": [
    {
     "data": {
      "text/plain": [
       "[0.05441959148935897,\n",
       " 0.19730212765956703,\n",
       " -0.07319901305197374,\n",
       " -0.07467260504196327]"
      ]
     },
     "execution_count": 37,
     "metadata": {},
     "output_type": "execute_result"
    }
   ],
   "source": [
    "error_rates_bagging"
   ]
  },
  {
   "cell_type": "markdown",
   "metadata": {},
   "source": [
    "# Random Forest"
   ]
  },
  {
   "cell_type": "code",
   "execution_count": null,
   "metadata": {},
   "outputs": [],
   "source": []
  },
  {
   "cell_type": "markdown",
   "metadata": {},
   "source": [
    "## XG Boost"
   ]
  },
  {
   "cell_type": "code",
   "execution_count": 90,
   "metadata": {},
   "outputs": [],
   "source": [
    "import xgboost as xgb\n",
    "features_df \n",
    "#target_df\n",
    "test_df = pd.concat([target_df,features_df],axis=1)[0:60]\n",
    "train_df = pd.concat([target_df,features_df],axis=1)[60:]\n",
    "#train_df = pd.concat([target_df,features_df],axis=1)"
   ]
  },
  {
   "cell_type": "code",
   "execution_count": 86,
   "metadata": {},
   "outputs": [],
   "source": [
    "model = xgb.XGBRegressor( max_depth=4)"
   ]
  },
  {
   "cell_type": "code",
   "execution_count": 73,
   "metadata": {},
   "outputs": [
    {
     "data": {
      "text/plain": [
       "XGBRegressor(base_score=0.5, booster='gbtree', colsample_bylevel=1,\n",
       "       colsample_bytree=1, gamma=0, importance_type='gain',\n",
       "       learning_rate=0.1, max_delta_step=0, max_depth=4,\n",
       "       min_child_weight=1, missing=None, n_estimators=100, n_jobs=1,\n",
       "       nthread=None, objective='reg:linear', random_state=0, reg_alpha=0,\n",
       "       reg_lambda=1, scale_pos_weight=1, seed=None, silent=True,\n",
       "       subsample=1)"
      ]
     },
     "execution_count": 73,
     "metadata": {},
     "output_type": "execute_result"
    }
   ],
   "source": [
    "model.fit(features_train,target_train)"
   ]
  },
  {
   "cell_type": "code",
   "execution_count": 74,
   "metadata": {},
   "outputs": [],
   "source": [
    "y_pred = model.predict(features_test)"
   ]
  },
  {
   "cell_type": "code",
   "execution_count": 75,
   "metadata": {},
   "outputs": [
    {
     "name": "stdout",
     "output_type": "stream",
     "text": [
      "Test MSE =  0.11832121043307255\n"
     ]
    },
    {
     "data": {
      "image/png": "[encoded data removed]",
      "text/plain": [
       "<Figure size 576x432 with 1 Axes>"
      ]
     },
     "metadata": {
      "needs_background": "light"
     },
     "output_type": "display_data"
    }
   ],
   "source": [
    "y_test=target_test\n",
    "# Plot the predicted vs the actual medv response\n",
    "fig, ax = plt.subplots(1,1, figsize=(8,6))\n",
    "ax.scatter(y_pred, y_test, facecolor='None', edgecolor='b')\n",
    "# add a reference unity line\n",
    "ax.plot([min(y_pred), max(y_pred)], [min(y_test), max(y_test)], linestyle='--', color='k');\n",
    "ax.set_xlabel('y_predicted')\n",
    "ax.set_ylabel('y_actual')\n",
    "\n",
    "mse_ba = np.mean((y_pred-y_test)**2)\n",
    "print(\"Test MSE = \", mse_ba)"
   ]
  },
  {
   "cell_type": "code",
   "execution_count": 77,
   "metadata": {},
   "outputs": [],
   "source": [
    "#pd.DataFrame(y_test,y_pred)"
   ]
  },
  {
   "cell_type": "code",
   "execution_count": 78,
   "metadata": {},
   "outputs": [],
   "source": [
    "error_rates_xgboost=[metrics.mean_squared_error(y_test, y_pred),\n",
    "            metrics.mean_absolute_error (y_test, y_pred),\n",
    "            metrics.explained_variance_score(y_test, y_pred),\n",
    "            metrics.r2_score(y_test, y_pred)]"
   ]
  },
  {
   "cell_type": "code",
   "execution_count": 79,
   "metadata": {},
   "outputs": [
    {
     "data": {
      "text/plain": [
       "[0.11832121043307255,\n",
       " 0.2861290727342878,\n",
       " -0.9197090049696477,\n",
       " -1.0468629518872228]"
      ]
     },
     "execution_count": 79,
     "metadata": {},
     "output_type": "execute_result"
    }
   ],
   "source": [
    "error_rates_xgboost\n"
   ]
  },
  {
   "cell_type": "markdown",
   "metadata": {},
   "source": [
    "### Model Comparison <a class=\"anchor\" id=\"modelcomp\"></a>"
   ]
  },
  {
   "cell_type": "code",
   "execution_count": 116,
   "metadata": {},
   "outputs": [],
   "source": [
    "#evaluate_model needs as arguments the number of features, pca dimensions (set None if no PCA), and the model you would like to evaluare \n",
    "#as well as the dataframe with tfdif scores \n",
    "\n",
    "def evaluate_model(modelname,model,number_of_features,pca_dim,df):\n",
    "    \n",
    "    #get the words that we will look at in the analysis\n",
    "    selected_words = get_features('tfidf',number_of_features)\n",
    "    \n",
    "    #define the features and targets \n",
    "    features = df[df.columns[4:]].filter(selected_words,axis=1).values\n",
    "    target= df['Rating'].values\n",
    "\n",
    "    #if pca_dim != None, create the pca model \n",
    "    if pca_dim: \n",
    "        pca = PCA(n_components=pca_dim)\n",
    "\n",
    "    \n",
    "    results={}\n",
    "    #labels = satc_tfidf['Rating'].unique()\n",
    "    num_run = 20\n",
    "\n",
    "    #get ten results to account for randomness \n",
    "    for i in range (num_run):\n",
    "\n",
    "        # separate datasets into training and test datasets once, no folding\n",
    "        features_train, features_test, target_train, target_test = train_test_split(features, target, test_size=0.3)\n",
    "        \n",
    "        #if pca, apply the dim reduction \n",
    "        if pca_dim: \n",
    "                features_train = pca.fit_transform(features_train)\n",
    "                features_test = pca.transform(features_test)\n",
    "\n",
    "        # train the features and target datasets and fit to a model\n",
    "        trained_model = model.fit(features_train, target_train)\n",
    "\n",
    "\n",
    "        # predict target with feature test set using trained model\n",
    "        target_pred_train = list(trained_model.predict(features_train))\n",
    "        target_pred_test = list(trained_model.predict(features_test))\n",
    "\n",
    "        results[i]=[metrics.mean_squared_error(target_test, target_pred_test),\n",
    "                metrics.mean_absolute_error (target_test, target_pred_test),\n",
    "                metrics.explained_variance_score(target_test, target_pred_test),\n",
    "                metrics.r2_score(target_test, target_pred_test),\n",
    "                   ]\n",
    "\n",
    "    results = pd.DataFrame.from_dict(data=results,orient='index',columns=['MSE','MAbsE', 'Explained_variance_score','R_squared']) \n",
    "    model_details_and_averages = [\n",
    "    str(modelname),\n",
    "    number_of_features,pca_dim,\n",
    "    results.MSE.mean(),\n",
    "    results.MAbsE.mean(),\n",
    "    results.Explained_variance_score.mean(),\n",
    "    results.R_squared.mean(),\n",
    "    ]\n",
    "\n",
    "    \n",
    "    return results,model_details_and_averages \n",
    "#evaluate_model(\"Lasso\",lasso_model,50,50,satc_tfidf)[1]"
   ]
  },
  {
   "cell_type": "code",
   "execution_count": null,
   "metadata": {},
   "outputs": [],
   "source": [
    "import xgboost as xgb\n",
    "\n",
    "model_comparison_df = pd.DataFrame(columns=[\"Name\",\"features\",\"pca_dim\",'MSE','MAbsE', 'Explained_variance_score','R_squared'])\n",
    "#evaluate_model(model, number_of_features,pca_dim,df):\n",
    "\n",
    "#get model scores, average of ten iterations \n",
    "lasso = evaluate_model(\"lasso\",lasso_model,50,50,satc_tfidf)[1]\n",
    "\n",
    "#add to model comparison df \n",
    "model_comparison_df.loc[len(model_comparison_df)] = lasso\n",
    "\n",
    "#add new models to compare like this\n",
    "model_comparison_df.loc[len(model_comparison_df)] = evaluate_model(\"lasso\",lasso_model,100,50,satc_tfidf)[1]\n",
    "\n",
    "model_comparison_df.loc[len(model_comparison_df)] = evaluate_model(\"lasso\",lasso_model,100,10,satc_tfidf)[1]\n",
    "\n",
    "#Decision Tree Regressor\n",
    "tree = DecisionTreeRegressor(max_features=None, min_samples_split=10)\n",
    "model_comparison_df.loc[len(model_comparison_df)] = evaluate_model(\"Tree\",tree,50,50,satc_tfidf)[1]\n",
    "model_comparison_df.loc[len(model_comparison_df)] = evaluate_model(\"Tree\",tree,100,50,satc_tfidf)[1]\n",
    "model_comparison_df.loc[len(model_comparison_df)] = evaluate_model(\"Tree\",tree,150,50,satc_tfidf)[1]\n",
    "model_comparison_df.loc[len(model_comparison_df)] = evaluate_model(\"Tree\",tree,25,None,satc_tfidf)[1]\n",
    "model_comparison_df.loc[len(model_comparison_df)] = evaluate_model(\"Tree\",tree,35,None,satc_tfidf)[1]\n",
    "\n",
    "model_comparison_df.loc[len(model_comparison_df)] = evaluate_model(\"Tree\",tree,50,None,satc_tfidf)[1]\n",
    "model_comparison_df.loc[len(model_comparison_df)] = evaluate_model(\"Tree\",tree,100,None,satc_tfidf)[1]\n",
    "model_comparison_df.loc[len(model_comparison_df)] = evaluate_model(\"Tree\",tree,150,None,satc_tfidf)[1]\n",
    "\n",
    "#bagging\n",
    "bagger = RandomForestRegressor(n_estimators=500)\n",
    "model_comparison_df.loc[len(model_comparison_df)] = evaluate_model(\"Bagging\",bagger,50,None,satc_tfidf)[1]\n",
    "model_comparison_df.loc[len(model_comparison_df)] = evaluate_model(\"Bagging\",bagger,100,None,satc_tfidf)[1]\n",
    "model_comparison_df.loc[len(model_comparison_df)] = evaluate_model(\"Bagging\",bagger,150,None,satc_tfidf)[1]\n",
    "model_comparison_df.loc[len(model_comparison_df)] = evaluate_model(\"Bagging\",bagger,50,50,satc_tfidf)[1]\n",
    "model_comparison_df.loc[len(model_comparison_df)] = evaluate_model(\"Bagging\",bagger,100,25,satc_tfidf)[1]\n",
    "model_comparison_df.loc[len(model_comparison_df)] = evaluate_model(\"Bagging\",bagger,150,2,satc_tfidf)[1]\n",
    "\n",
    "#XGB\n",
    "xgb_2 = xgb.XGBRegressor(max_depth=2)\n",
    "model_comparison_df.loc[len(model_comparison_df)] = evaluate_model(\"xgb_2\",xgb_2,50,None,satc_tfidf)[1]\n",
    "model_comparison_df.loc[len(model_comparison_df)] = evaluate_model(\"xgb_2\",xgb_2,2000,20,satc_tfidf)[1]\n",
    "\n",
    "xgb = xgb.XGBRegressor(max_depth=4)\n",
    "model_comparison_df.loc[len(model_comparison_df)] = evaluate_model(\"xgb\",xgb,50,None,satc_tfidf)[1]\n",
    "model_comparison_df.loc[len(model_comparison_df)] = evaluate_model(\"xgb\",xgb,100,None,satc_tfidf)[1]\n",
    "xgb_10 = xgb.XGBRegressor(max_depth=10)\n",
    "model_comparison_df.loc[len(model_comparison_df)] = evaluate_model(\"xgb_10\",xgb_10,150,None,satc_tfidf)[1]\n",
    "model_comparison_df.loc[len(model_comparison_df)] = evaluate_model(\"xgb\",xgb,50,50,satc_tfidf)[1]\n",
    "model_comparison_df.loc[len(model_comparison_df)] = evaluate_model(\"xgb\",xgb,50,2,satc_tfidf)[1]"
   ]
  },
  {
   "cell_type": "code",
   "execution_count": 136,
   "metadata": {},
   "outputs": [
    {
     "data": {
      "text/html": [
       "<div>\n",
       "<style scoped>\n",
       "    .dataframe tbody tr th:only-of-type {\n",
       "        vertical-align: middle;\n",
       "    }\n",
       "\n",
       "    .dataframe tbody tr th {\n",
       "        vertical-align: top;\n",
       "    }\n",
       "\n",
       "    .dataframe thead th {\n",
       "        text-align: right;\n",
       "    }\n",
       "</style>\n",
       "<table border=\"1\" class=\"dataframe\">\n",
       "  <thead>\n",
       "    <tr style=\"text-align: right;\">\n",
       "      <th></th>\n",
       "      <th>Name</th>\n",
       "      <th>features</th>\n",
       "      <th>pca_dim</th>\n",
       "      <th>MSE</th>\n",
       "      <th>MAbsE</th>\n",
       "      <th>Explained_variance_score</th>\n",
       "      <th>R_squared</th>\n",
       "    </tr>\n",
       "  </thead>\n",
       "  <tbody>\n",
       "    <tr>\n",
       "      <th>0</th>\n",
       "      <td>lasso</td>\n",
       "      <td>50</td>\n",
       "      <td>50</td>\n",
       "      <td>0.057249</td>\n",
       "      <td>0.189385</td>\n",
       "      <td>1.110223e-17</td>\n",
       "      <td>-0.039935</td>\n",
       "    </tr>\n",
       "    <tr>\n",
       "      <th>1</th>\n",
       "      <td>lasso</td>\n",
       "      <td>100</td>\n",
       "      <td>50</td>\n",
       "      <td>0.061211</td>\n",
       "      <td>0.195228</td>\n",
       "      <td>0.000000e+00</td>\n",
       "      <td>-0.052946</td>\n",
       "    </tr>\n",
       "    <tr>\n",
       "      <th>2</th>\n",
       "      <td>lasso</td>\n",
       "      <td>100</td>\n",
       "      <td>10</td>\n",
       "      <td>0.060030</td>\n",
       "      <td>0.196478</td>\n",
       "      <td>-5.551115e-17</td>\n",
       "      <td>-0.024826</td>\n",
       "    </tr>\n",
       "    <tr>\n",
       "      <th>3</th>\n",
       "      <td>Tree</td>\n",
       "      <td>50</td>\n",
       "      <td>50</td>\n",
       "      <td>0.104076</td>\n",
       "      <td>0.257142</td>\n",
       "      <td>-9.214826e-01</td>\n",
       "      <td>-1.016208</td>\n",
       "    </tr>\n",
       "    <tr>\n",
       "      <th>4</th>\n",
       "      <td>Tree</td>\n",
       "      <td>100</td>\n",
       "      <td>50</td>\n",
       "      <td>0.115370</td>\n",
       "      <td>0.276683</td>\n",
       "      <td>-7.921817e-01</td>\n",
       "      <td>-0.970213</td>\n",
       "    </tr>\n",
       "    <tr>\n",
       "      <th>5</th>\n",
       "      <td>Tree</td>\n",
       "      <td>150</td>\n",
       "      <td>50</td>\n",
       "      <td>0.109950</td>\n",
       "      <td>0.267951</td>\n",
       "      <td>-6.803983e-01</td>\n",
       "      <td>-0.898177</td>\n",
       "    </tr>\n",
       "    <tr>\n",
       "      <th>6</th>\n",
       "      <td>Tree</td>\n",
       "      <td>25</td>\n",
       "      <td>None</td>\n",
       "      <td>0.083121</td>\n",
       "      <td>0.229646</td>\n",
       "      <td>-5.329956e-01</td>\n",
       "      <td>-0.647407</td>\n",
       "    </tr>\n",
       "    <tr>\n",
       "      <th>7</th>\n",
       "      <td>Tree</td>\n",
       "      <td>35</td>\n",
       "      <td>None</td>\n",
       "      <td>0.100312</td>\n",
       "      <td>0.258161</td>\n",
       "      <td>-6.747688e-01</td>\n",
       "      <td>-0.783547</td>\n",
       "    </tr>\n",
       "    <tr>\n",
       "      <th>8</th>\n",
       "      <td>Tree</td>\n",
       "      <td>50</td>\n",
       "      <td>None</td>\n",
       "      <td>0.086201</td>\n",
       "      <td>0.230958</td>\n",
       "      <td>-4.817428e-01</td>\n",
       "      <td>-0.551474</td>\n",
       "    </tr>\n",
       "    <tr>\n",
       "      <th>9</th>\n",
       "      <td>Tree</td>\n",
       "      <td>100</td>\n",
       "      <td>None</td>\n",
       "      <td>0.104534</td>\n",
       "      <td>0.254026</td>\n",
       "      <td>-8.048554e-01</td>\n",
       "      <td>-0.883469</td>\n",
       "    </tr>\n",
       "    <tr>\n",
       "      <th>10</th>\n",
       "      <td>Tree</td>\n",
       "      <td>150</td>\n",
       "      <td>None</td>\n",
       "      <td>0.104505</td>\n",
       "      <td>0.248562</td>\n",
       "      <td>-6.870551e-01</td>\n",
       "      <td>-0.769426</td>\n",
       "    </tr>\n",
       "    <tr>\n",
       "      <th>11</th>\n",
       "      <td>Bagging</td>\n",
       "      <td>50</td>\n",
       "      <td>None</td>\n",
       "      <td>0.064643</td>\n",
       "      <td>0.200845</td>\n",
       "      <td>-4.537487e-02</td>\n",
       "      <td>-0.121668</td>\n",
       "    </tr>\n",
       "    <tr>\n",
       "      <th>12</th>\n",
       "      <td>Bagging</td>\n",
       "      <td>100</td>\n",
       "      <td>None</td>\n",
       "      <td>0.062378</td>\n",
       "      <td>0.200907</td>\n",
       "      <td>-9.247230e-02</td>\n",
       "      <td>-0.176032</td>\n",
       "    </tr>\n",
       "    <tr>\n",
       "      <th>13</th>\n",
       "      <td>Bagging</td>\n",
       "      <td>150</td>\n",
       "      <td>None</td>\n",
       "      <td>0.054819</td>\n",
       "      <td>0.188296</td>\n",
       "      <td>2.601731e-02</td>\n",
       "      <td>-0.023593</td>\n",
       "    </tr>\n",
       "    <tr>\n",
       "      <th>14</th>\n",
       "      <td>Bagging</td>\n",
       "      <td>50</td>\n",
       "      <td>50</td>\n",
       "      <td>0.063646</td>\n",
       "      <td>0.203552</td>\n",
       "      <td>-6.410367e-02</td>\n",
       "      <td>-0.145638</td>\n",
       "    </tr>\n",
       "    <tr>\n",
       "      <th>15</th>\n",
       "      <td>Bagging</td>\n",
       "      <td>100</td>\n",
       "      <td>25</td>\n",
       "      <td>0.070243</td>\n",
       "      <td>0.218184</td>\n",
       "      <td>-1.411900e-01</td>\n",
       "      <td>-0.248381</td>\n",
       "    </tr>\n",
       "    <tr>\n",
       "      <th>16</th>\n",
       "      <td>Bagging</td>\n",
       "      <td>150</td>\n",
       "      <td>2</td>\n",
       "      <td>0.070403</td>\n",
       "      <td>0.211264</td>\n",
       "      <td>-1.147786e-01</td>\n",
       "      <td>-0.152746</td>\n",
       "    </tr>\n",
       "    <tr>\n",
       "      <th>17</th>\n",
       "      <td>xgb_2</td>\n",
       "      <td>50</td>\n",
       "      <td>None</td>\n",
       "      <td>0.068058</td>\n",
       "      <td>0.206259</td>\n",
       "      <td>-9.440405e-02</td>\n",
       "      <td>-0.157004</td>\n",
       "    </tr>\n",
       "    <tr>\n",
       "      <th>18</th>\n",
       "      <td>xgb_2</td>\n",
       "      <td>2000</td>\n",
       "      <td>20</td>\n",
       "      <td>0.071241</td>\n",
       "      <td>0.209425</td>\n",
       "      <td>-7.824334e-02</td>\n",
       "      <td>-0.185242</td>\n",
       "    </tr>\n",
       "    <tr>\n",
       "      <th>19</th>\n",
       "      <td>xgb</td>\n",
       "      <td>50</td>\n",
       "      <td>None</td>\n",
       "      <td>0.064600</td>\n",
       "      <td>0.200144</td>\n",
       "      <td>-1.665670e-01</td>\n",
       "      <td>-0.252395</td>\n",
       "    </tr>\n",
       "    <tr>\n",
       "      <th>20</th>\n",
       "      <td>xgb</td>\n",
       "      <td>100</td>\n",
       "      <td>None</td>\n",
       "      <td>0.070080</td>\n",
       "      <td>0.207449</td>\n",
       "      <td>-2.154057e-01</td>\n",
       "      <td>-0.307520</td>\n",
       "    </tr>\n",
       "  </tbody>\n",
       "</table>\n",
       "</div>"
      ],
      "text/plain": [
       "       Name features pca_dim       MSE     MAbsE  Explained_variance_score  \\\n",
       "0     lasso       50      50  0.057249  0.189385              1.110223e-17   \n",
       "1     lasso      100      50  0.061211  0.195228              0.000000e+00   \n",
       "2     lasso      100      10  0.060030  0.196478             -5.551115e-17   \n",
       "3      Tree       50      50  0.104076  0.257142             -9.214826e-01   \n",
       "4      Tree      100      50  0.115370  0.276683             -7.921817e-01   \n",
       "5      Tree      150      50  0.109950  0.267951             -6.803983e-01   \n",
       "6      Tree       25    None  0.083121  0.229646             -5.329956e-01   \n",
       "7      Tree       35    None  0.100312  0.258161             -6.747688e-01   \n",
       "8      Tree       50    None  0.086201  0.230958             -4.817428e-01   \n",
       "9      Tree      100    None  0.104534  0.254026             -8.048554e-01   \n",
       "10     Tree      150    None  0.104505  0.248562             -6.870551e-01   \n",
       "11  Bagging       50    None  0.064643  0.200845             -4.537487e-02   \n",
       "12  Bagging      100    None  0.062378  0.200907             -9.247230e-02   \n",
       "13  Bagging      150    None  0.054819  0.188296              2.601731e-02   \n",
       "14  Bagging       50      50  0.063646  0.203552             -6.410367e-02   \n",
       "15  Bagging      100      25  0.070243  0.218184             -1.411900e-01   \n",
       "16  Bagging      150       2  0.070403  0.211264             -1.147786e-01   \n",
       "17    xgb_2       50    None  0.068058  0.206259             -9.440405e-02   \n",
       "18    xgb_2     2000      20  0.071241  0.209425             -7.824334e-02   \n",
       "19      xgb       50    None  0.064600  0.200144             -1.665670e-01   \n",
       "20      xgb      100    None  0.070080  0.207449             -2.154057e-01   \n",
       "\n",
       "    R_squared  \n",
       "0   -0.039935  \n",
       "1   -0.052946  \n",
       "2   -0.024826  \n",
       "3   -1.016208  \n",
       "4   -0.970213  \n",
       "5   -0.898177  \n",
       "6   -0.647407  \n",
       "7   -0.783547  \n",
       "8   -0.551474  \n",
       "9   -0.883469  \n",
       "10  -0.769426  \n",
       "11  -0.121668  \n",
       "12  -0.176032  \n",
       "13  -0.023593  \n",
       "14  -0.145638  \n",
       "15  -0.248381  \n",
       "16  -0.152746  \n",
       "17  -0.157004  \n",
       "18  -0.185242  \n",
       "19  -0.252395  \n",
       "20  -0.307520  "
      ]
     },
     "execution_count": 136,
     "metadata": {},
     "output_type": "execute_result"
    }
   ],
   "source": [
    "model_comparison_df"
   ]
  },
  {
   "cell_type": "code",
   "execution_count": null,
   "metadata": {},
   "outputs": [],
   "source": []
  },
  {
   "cell_type": "code",
   "execution_count": null,
   "metadata": {},
   "outputs": [],
   "source": [
    "xgb_2 = xgb.XGBRegressor(max_depth=2)\n",
    "evaluate_model(\"xgb\",xgb_2,50,None,satc_tfidf)[1]\n"
   ]
  },
  {
   "cell_type": "code",
   "execution_count": null,
   "metadata": {},
   "outputs": [],
   "source": []
  },
  {
   "cell_type": "code",
   "execution_count": null,
   "metadata": {},
   "outputs": [],
   "source": []
  }
 ],
 "metadata": {
  "kernelspec": {
   "display_name": "Python 3",
   "language": "python",
   "name": "python3"
  },
  "language_info": {
   "codemirror_mode": {
    "name": "ipython",
    "version": 3
   },
   "file_extension": ".py",
   "mimetype": "text/x-python",
   "name": "python",
   "nbconvert_exporter": "python",
   "pygments_lexer": "ipython3",
   "version": "3.7.1"
  }
 },
 "nbformat": 4,
 "nbformat_minor": 2
}
