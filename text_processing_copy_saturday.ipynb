{
 "cells": [
  {
   "cell_type": "markdown",
   "metadata": {},
   "source": [
    "# Sex and The City Script Text Analysis\n",
    "\n",
    "The purpose of this project is the analysis of the entire script of the TV Show Sex and The City. Sex and the City is an American romantic comedy-drama television series created by Darren Star and produced by HBO. \n",
    "\n",
    "# Table of Content\n",
    "0. [Downloads and Libraries](#lud)  \n",
    "\n",
    "1. [Exploratory Data Analyis](#eda)  \n",
    "2. [Text Preprocessing](#text-prepro)\n",
    "   * [Tokenization](#tokenization)\n",
    "3. [Natural Language Processing](#nlp)\n",
    "    * [Lemmatization](#lemmatization)\n",
    "    * [TF-IDF](#tfidf)\n",
    "4. [Predictive Modeling](#prediction)\n",
    "    * [Dimensionality Reduction](#dimensionality)   \n",
    "        * [Preselection of Features](#pre-feat)   \n",
    "        * [Principal Component Analysis](#pca) \n",
    "    * [Linear Regression](#linreg)\n",
    "    * [Regression Trees](#regtrees) \n",
    "    * [Bagging Model](#bagging) \n",
    "    * [XGBoost](#xgb) \n",
    "    * [Prediction Including the Lines per Character ](#lpc)\n",
    "    * [Model Comparison](#modelcomp)\n",
    "   "
   ]
  },
  {
   "cell_type": "markdown",
   "metadata": {},
   "source": [
    "## Downloads and Libraries <a class=\"anchor\" id=\"lud\"></a>"
   ]
  },
  {
   "cell_type": "code",
   "execution_count": 2,
   "metadata": {
    "collapsed": true
   },
   "outputs": [],
   "source": [
    "import pandas as pd\n",
    "import math\n",
    "import numpy as np\n",
    "\n",
    "import seaborn as sns \n",
    "import matplotlib.pyplot as plt\n",
    "\n",
    "# NLP library imports\n",
    "import nltk\n",
    "from nltk.corpus import stopwords\n",
    "from nltk import word_tokenize\n",
    "from nltk.tokenize import word_tokenize\n",
    "\n",
    "from nltk.stem.wordnet import WordNetLemmatizer\n",
    "from nltk import word_tokenize\n",
    "from nltk.tokenize import sent_tokenize\n",
    "\n",
    "#nltk.download('punkt')\n",
    "#nltk.download('wordnet')\n",
    "#nltk.download('stopwords')\n",
    "\n",
    "#Skelarn for TfIdf \n",
    "from sklearn.feature_extraction.text import TfidfVectorizer\n",
    "\n",
    "#Sklearn for linear regression \n",
    "from sklearn import linear_model\n",
    "from sklearn.linear_model import LassoCV\n",
    "from sklearn.linear_model import Lasso\n",
    "from sklearn.linear_model import LinearRegression\n",
    "\n",
    "#Plot Libraries\n",
    "from  matplotlib import pyplot\n",
    "import seaborn\n",
    "\n",
    "#graphing\n",
    "%matplotlib inline"
   ]
  },
  {
   "cell_type": "markdown",
   "metadata": {},
   "source": [
    "## Exploratory Data Analyis <a class=\"anchor\" id=\"eda\"></a>\n",
    "\n",
    "The present data set consists of 39988 lines of text with an average reating of 7.52 on IMDB. The poorest rating is 7.0, the highest rating is 8.8. The data set contains 94 unique episodes."
   ]
  },
  {
   "cell_type": "code",
   "execution_count": 3,
   "metadata": {},
   "outputs": [
    {
     "data": {
      "text/html": [
       "<div>\n",
       "<style scoped>\n",
       "    .dataframe tbody tr th:only-of-type {\n",
       "        vertical-align: middle;\n",
       "    }\n",
       "\n",
       "    .dataframe tbody tr th {\n",
       "        vertical-align: top;\n",
       "    }\n",
       "\n",
       "    .dataframe thead th {\n",
       "        text-align: right;\n",
       "    }\n",
       "</style>\n",
       "<table border=\"1\" class=\"dataframe\">\n",
       "  <thead>\n",
       "    <tr style=\"text-align: right;\">\n",
       "      <th></th>\n",
       "      <th>Season</th>\n",
       "      <th>Episode</th>\n",
       "      <th>Speaker</th>\n",
       "      <th>Line</th>\n",
       "      <th>date_job</th>\n",
       "      <th>ep_data_name</th>\n",
       "      <th>ep_data_url</th>\n",
       "      <th>ID</th>\n",
       "      <th>Rating</th>\n",
       "      <th>S_E</th>\n",
       "    </tr>\n",
       "  </thead>\n",
       "  <tbody>\n",
       "    <tr>\n",
       "      <th>0</th>\n",
       "      <td>1</td>\n",
       "      <td>1</td>\n",
       "      <td>Carrie</td>\n",
       "      <td>Once upon a time, an English journalist came t...</td>\n",
       "      <td>NaN</td>\n",
       "      <td>Sex and the City</td>\n",
       "      <td>https://www.imdb.com/title/tt0698663/?ref_=tte...</td>\n",
       "      <td>698663</td>\n",
       "      <td>7.4</td>\n",
       "      <td>1_1</td>\n",
       "    </tr>\n",
       "    <tr>\n",
       "      <th>1</th>\n",
       "      <td>1</td>\n",
       "      <td>1</td>\n",
       "      <td>Carrie</td>\n",
       "      <td>Elizabeth was attractive and bright.</td>\n",
       "      <td>NaN</td>\n",
       "      <td>Sex and the City</td>\n",
       "      <td>https://www.imdb.com/title/tt0698663/?ref_=tte...</td>\n",
       "      <td>698663</td>\n",
       "      <td>7.4</td>\n",
       "      <td>1_1</td>\n",
       "    </tr>\n",
       "    <tr>\n",
       "      <th>2</th>\n",
       "      <td>1</td>\n",
       "      <td>1</td>\n",
       "      <td>Carrie</td>\n",
       "      <td>Right away she hooked up with one of the city'...</td>\n",
       "      <td>NaN</td>\n",
       "      <td>Sex and the City</td>\n",
       "      <td>https://www.imdb.com/title/tt0698663/?ref_=tte...</td>\n",
       "      <td>698663</td>\n",
       "      <td>7.4</td>\n",
       "      <td>1_1</td>\n",
       "    </tr>\n",
       "    <tr>\n",
       "      <th>3</th>\n",
       "      <td>1</td>\n",
       "      <td>1</td>\n",
       "      <td>Tim</td>\n",
       "      <td>The question remains-- Is this really a compan...</td>\n",
       "      <td>NaN</td>\n",
       "      <td>Sex and the City</td>\n",
       "      <td>https://www.imdb.com/title/tt0698663/?ref_=tte...</td>\n",
       "      <td>698663</td>\n",
       "      <td>7.4</td>\n",
       "      <td>1_1</td>\n",
       "    </tr>\n",
       "    <tr>\n",
       "      <th>4</th>\n",
       "      <td>1</td>\n",
       "      <td>1</td>\n",
       "      <td>Carrie</td>\n",
       "      <td>Tim was 42, a well-liked and respected investm...</td>\n",
       "      <td>NaN</td>\n",
       "      <td>Sex and the City</td>\n",
       "      <td>https://www.imdb.com/title/tt0698663/?ref_=tte...</td>\n",
       "      <td>698663</td>\n",
       "      <td>7.4</td>\n",
       "      <td>1_1</td>\n",
       "    </tr>\n",
       "  </tbody>\n",
       "</table>\n",
       "</div>"
      ],
      "text/plain": [
       "   Season  Episode Speaker                                               Line  \\\n",
       "0       1        1  Carrie  Once upon a time, an English journalist came t...   \n",
       "1       1        1  Carrie               Elizabeth was attractive and bright.   \n",
       "2       1        1  Carrie  Right away she hooked up with one of the city'...   \n",
       "3       1        1     Tim  The question remains-- Is this really a compan...   \n",
       "4       1        1  Carrie  Tim was 42, a well-liked and respected investm...   \n",
       "\n",
       "  date_job      ep_data_name  \\\n",
       "0      NaN  Sex and the City   \n",
       "1      NaN  Sex and the City   \n",
       "2      NaN  Sex and the City   \n",
       "3      NaN  Sex and the City   \n",
       "4      NaN  Sex and the City   \n",
       "\n",
       "                                         ep_data_url      ID  Rating  S_E  \n",
       "0  https://www.imdb.com/title/tt0698663/?ref_=tte...  698663     7.4  1_1  \n",
       "1  https://www.imdb.com/title/tt0698663/?ref_=tte...  698663     7.4  1_1  \n",
       "2  https://www.imdb.com/title/tt0698663/?ref_=tte...  698663     7.4  1_1  \n",
       "3  https://www.imdb.com/title/tt0698663/?ref_=tte...  698663     7.4  1_1  \n",
       "4  https://www.imdb.com/title/tt0698663/?ref_=tte...  698663     7.4  1_1  "
      ]
     },
     "execution_count": 3,
     "metadata": {},
     "output_type": "execute_result"
    }
   ],
   "source": [
    "satc_all_lines_w_rating = pd.read_csv(\"satc_all_lines_w_rating.csv\").drop([\"Unnamed: 0\"],axis=1)\n",
    "#create col with season and episode\n",
    "satc_all_lines_w_rating['S_E'] = satc_all_lines_w_rating['Season'].astype(int).astype(str)+\"_\"+satc_all_lines_w_rating['Episode'].astype(int).astype(str)\n",
    "satc_all_lines_w_rating.head()"
   ]
  },
  {
   "cell_type": "code",
   "execution_count": 4,
   "metadata": {},
   "outputs": [
    {
     "data": {
      "text/html": [
       "<div>\n",
       "<style scoped>\n",
       "    .dataframe tbody tr th:only-of-type {\n",
       "        vertical-align: middle;\n",
       "    }\n",
       "\n",
       "    .dataframe tbody tr th {\n",
       "        vertical-align: top;\n",
       "    }\n",
       "\n",
       "    .dataframe thead th {\n",
       "        text-align: right;\n",
       "    }\n",
       "</style>\n",
       "<table border=\"1\" class=\"dataframe\">\n",
       "  <thead>\n",
       "    <tr style=\"text-align: right;\">\n",
       "      <th></th>\n",
       "      <th>Season</th>\n",
       "      <th>Episode</th>\n",
       "      <th>ID</th>\n",
       "      <th>Rating</th>\n",
       "    </tr>\n",
       "  </thead>\n",
       "  <tbody>\n",
       "    <tr>\n",
       "      <th>count</th>\n",
       "      <td>39988.000000</td>\n",
       "      <td>39988.000000</td>\n",
       "      <td>39988.000000</td>\n",
       "      <td>39988.000000</td>\n",
       "    </tr>\n",
       "    <tr>\n",
       "      <th>mean</th>\n",
       "      <td>3.687756</td>\n",
       "      <td>8.895294</td>\n",
       "      <td>698654.055267</td>\n",
       "      <td>7.524682</td>\n",
       "    </tr>\n",
       "    <tr>\n",
       "      <th>std</th>\n",
       "      <td>1.695484</td>\n",
       "      <td>5.324958</td>\n",
       "      <td>27.089066</td>\n",
       "      <td>0.282150</td>\n",
       "    </tr>\n",
       "    <tr>\n",
       "      <th>min</th>\n",
       "      <td>1.000000</td>\n",
       "      <td>1.000000</td>\n",
       "      <td>698608.000000</td>\n",
       "      <td>7.000000</td>\n",
       "    </tr>\n",
       "    <tr>\n",
       "      <th>25%</th>\n",
       "      <td>2.000000</td>\n",
       "      <td>4.000000</td>\n",
       "      <td>698631.000000</td>\n",
       "      <td>7.300000</td>\n",
       "    </tr>\n",
       "    <tr>\n",
       "      <th>50%</th>\n",
       "      <td>4.000000</td>\n",
       "      <td>8.000000</td>\n",
       "      <td>698653.000000</td>\n",
       "      <td>7.500000</td>\n",
       "    </tr>\n",
       "    <tr>\n",
       "      <th>75%</th>\n",
       "      <td>5.000000</td>\n",
       "      <td>13.000000</td>\n",
       "      <td>698677.000000</td>\n",
       "      <td>7.700000</td>\n",
       "    </tr>\n",
       "    <tr>\n",
       "      <th>max</th>\n",
       "      <td>6.000000</td>\n",
       "      <td>20.000000</td>\n",
       "      <td>698701.000000</td>\n",
       "      <td>8.800000</td>\n",
       "    </tr>\n",
       "  </tbody>\n",
       "</table>\n",
       "</div>"
      ],
      "text/plain": [
       "             Season       Episode             ID        Rating\n",
       "count  39988.000000  39988.000000   39988.000000  39988.000000\n",
       "mean       3.687756      8.895294  698654.055267      7.524682\n",
       "std        1.695484      5.324958      27.089066      0.282150\n",
       "min        1.000000      1.000000  698608.000000      7.000000\n",
       "25%        2.000000      4.000000  698631.000000      7.300000\n",
       "50%        4.000000      8.000000  698653.000000      7.500000\n",
       "75%        5.000000     13.000000  698677.000000      7.700000\n",
       "max        6.000000     20.000000  698701.000000      8.800000"
      ]
     },
     "execution_count": 4,
     "metadata": {},
     "output_type": "execute_result"
    }
   ],
   "source": [
    "satc_all_lines_w_rating.describe()"
   ]
  },
  {
   "cell_type": "code",
   "execution_count": 5,
   "metadata": {},
   "outputs": [
    {
     "data": {
      "text/plain": [
       "94"
      ]
     },
     "execution_count": 5,
     "metadata": {},
     "output_type": "execute_result"
    }
   ],
   "source": [
    "len(satc_all_lines_w_rating['S_E'].unique())"
   ]
  },
  {
   "cell_type": "code",
   "execution_count": 6,
   "metadata": {},
   "outputs": [
    {
     "name": "stderr",
     "output_type": "stream",
     "text": [
      "C:\\Users\\dorar_000\\Anaconda3\\lib\\site-packages\\seaborn\\categorical.py:1460: FutureWarning: remove_na is deprecated and is a private function. Do not use.\n",
      "  stat_data = remove_na(group_data)\n"
     ]
    },
    {
     "data": {
      "image/png": "[encoded data removed]",
      "text/plain": [
       "<matplotlib.figure.Figure at 0x1f47eff8208>"
      ]
     },
     "metadata": {},
     "output_type": "display_data"
    }
   ],
   "source": [
    "# Plotting rating distribution\n",
    "X_ratings = satc_all_lines_w_rating.groupby(['S_E']).min().Rating.value_counts()\n",
    "x = sns.barplot(X_ratings.index,X_ratings)\n",
    "x.set(xlabel='Ratings',ylabel='Frequencies',title='Frequencies of ratings'.format(satc_all_lines_w_rating.shape[0]))\n",
    "plt.show()\n",
    "#X_ratings"
   ]
  },
  {
   "cell_type": "markdown",
   "metadata": {},
   "source": [
    "## Text Preprocessing <a class=\"anchor\" id=\"#text-prepro\"></a>\n",
    "\n",
    "In order to perform an analysis of the present text, we pre-process the text (represented by seperate lines in our data set). We bring all words to lowercase to be able to compare words across their position in a sentence (\"Hello\" and \"hello\" should be the same word). We furthermore strip all text of special characters. "
   ]
  },
  {
   "cell_type": "code",
   "execution_count": 7,
   "metadata": {},
   "outputs": [
    {
     "name": "stdout",
     "output_type": "stream",
     "text": [
      "Before transformation: Once upon a time, an English journalist came to New York. \n",
      " After transformation: once upon a time  an english journalist came to new york \n"
     ]
    },
    {
     "data": {
      "text/html": [
       "<div>\n",
       "<style scoped>\n",
       "    .dataframe tbody tr th:only-of-type {\n",
       "        vertical-align: middle;\n",
       "    }\n",
       "\n",
       "    .dataframe tbody tr th {\n",
       "        vertical-align: top;\n",
       "    }\n",
       "\n",
       "    .dataframe thead th {\n",
       "        text-align: right;\n",
       "    }\n",
       "</style>\n",
       "<table border=\"1\" class=\"dataframe\">\n",
       "  <thead>\n",
       "    <tr style=\"text-align: right;\">\n",
       "      <th></th>\n",
       "      <th>Season</th>\n",
       "      <th>Episode</th>\n",
       "      <th>Speaker</th>\n",
       "      <th>Line</th>\n",
       "      <th>date_job</th>\n",
       "      <th>ep_data_name</th>\n",
       "      <th>ep_data_url</th>\n",
       "      <th>ID</th>\n",
       "      <th>Rating</th>\n",
       "      <th>S_E</th>\n",
       "      <th>cleaned</th>\n",
       "    </tr>\n",
       "  </thead>\n",
       "  <tbody>\n",
       "    <tr>\n",
       "      <th>0</th>\n",
       "      <td>1</td>\n",
       "      <td>1</td>\n",
       "      <td>Carrie</td>\n",
       "      <td>Once upon a time, an English journalist came t...</td>\n",
       "      <td>NaN</td>\n",
       "      <td>Sex and the City</td>\n",
       "      <td>https://www.imdb.com/title/tt0698663/?ref_=tte...</td>\n",
       "      <td>698663</td>\n",
       "      <td>7.4</td>\n",
       "      <td>1_1</td>\n",
       "      <td>once upon a time  an english journalist came t...</td>\n",
       "    </tr>\n",
       "    <tr>\n",
       "      <th>1</th>\n",
       "      <td>1</td>\n",
       "      <td>1</td>\n",
       "      <td>Carrie</td>\n",
       "      <td>Elizabeth was attractive and bright.</td>\n",
       "      <td>NaN</td>\n",
       "      <td>Sex and the City</td>\n",
       "      <td>https://www.imdb.com/title/tt0698663/?ref_=tte...</td>\n",
       "      <td>698663</td>\n",
       "      <td>7.4</td>\n",
       "      <td>1_1</td>\n",
       "      <td>elizabeth was attractive and bright</td>\n",
       "    </tr>\n",
       "    <tr>\n",
       "      <th>2</th>\n",
       "      <td>1</td>\n",
       "      <td>1</td>\n",
       "      <td>Carrie</td>\n",
       "      <td>Right away she hooked up with one of the city'...</td>\n",
       "      <td>NaN</td>\n",
       "      <td>Sex and the City</td>\n",
       "      <td>https://www.imdb.com/title/tt0698663/?ref_=tte...</td>\n",
       "      <td>698663</td>\n",
       "      <td>7.4</td>\n",
       "      <td>1_1</td>\n",
       "      <td>right away she hooked up with one of the city ...</td>\n",
       "    </tr>\n",
       "    <tr>\n",
       "      <th>3</th>\n",
       "      <td>1</td>\n",
       "      <td>1</td>\n",
       "      <td>Tim</td>\n",
       "      <td>The question remains-- Is this really a compan...</td>\n",
       "      <td>NaN</td>\n",
       "      <td>Sex and the City</td>\n",
       "      <td>https://www.imdb.com/title/tt0698663/?ref_=tte...</td>\n",
       "      <td>698663</td>\n",
       "      <td>7.4</td>\n",
       "      <td>1_1</td>\n",
       "      <td>the question remains   is this really a compan...</td>\n",
       "    </tr>\n",
       "    <tr>\n",
       "      <th>4</th>\n",
       "      <td>1</td>\n",
       "      <td>1</td>\n",
       "      <td>Carrie</td>\n",
       "      <td>Tim was 42, a well-liked and respected investm...</td>\n",
       "      <td>NaN</td>\n",
       "      <td>Sex and the City</td>\n",
       "      <td>https://www.imdb.com/title/tt0698663/?ref_=tte...</td>\n",
       "      <td>698663</td>\n",
       "      <td>7.4</td>\n",
       "      <td>1_1</td>\n",
       "      <td>tim was 42  a well liked and respected investm...</td>\n",
       "    </tr>\n",
       "  </tbody>\n",
       "</table>\n",
       "</div>"
      ],
      "text/plain": [
       "   Season  Episode Speaker                                               Line  \\\n",
       "0       1        1  Carrie  Once upon a time, an English journalist came t...   \n",
       "1       1        1  Carrie               Elizabeth was attractive and bright.   \n",
       "2       1        1  Carrie  Right away she hooked up with one of the city'...   \n",
       "3       1        1     Tim  The question remains-- Is this really a compan...   \n",
       "4       1        1  Carrie  Tim was 42, a well-liked and respected investm...   \n",
       "\n",
       "  date_job      ep_data_name  \\\n",
       "0      NaN  Sex and the City   \n",
       "1      NaN  Sex and the City   \n",
       "2      NaN  Sex and the City   \n",
       "3      NaN  Sex and the City   \n",
       "4      NaN  Sex and the City   \n",
       "\n",
       "                                         ep_data_url      ID  Rating  S_E  \\\n",
       "0  https://www.imdb.com/title/tt0698663/?ref_=tte...  698663     7.4  1_1   \n",
       "1  https://www.imdb.com/title/tt0698663/?ref_=tte...  698663     7.4  1_1   \n",
       "2  https://www.imdb.com/title/tt0698663/?ref_=tte...  698663     7.4  1_1   \n",
       "3  https://www.imdb.com/title/tt0698663/?ref_=tte...  698663     7.4  1_1   \n",
       "4  https://www.imdb.com/title/tt0698663/?ref_=tte...  698663     7.4  1_1   \n",
       "\n",
       "                                             cleaned  \n",
       "0  once upon a time  an english journalist came t...  \n",
       "1               elizabeth was attractive and bright   \n",
       "2  right away she hooked up with one of the city ...  \n",
       "3  the question remains   is this really a compan...  \n",
       "4  tim was 42  a well liked and respected investm...  "
      ]
     },
     "execution_count": 7,
     "metadata": {},
     "output_type": "execute_result"
    }
   ],
   "source": [
    "#text transformation\n",
    "satc_all_lines_w_rating[\"cleaned\"] = satc_all_lines_w_rating.Line.tolist()\n",
    "#all to lowercase \n",
    "satc_all_lines_w_rating.cleaned = [str(line).lower() for line in satc_all_lines_w_rating.cleaned]\n",
    "\n",
    "#remove special chars\n",
    "chars_remove = [\"@\", \"/\", \"#\", \".\", \",\", \"!\", \"?\", \"(\", \")\", \"-\", \"_\",\"’\",\"'\", \"\\\"\", \":\"]\n",
    "trans_dict = {initial:\" \" for initial in chars_remove}\n",
    "satc_all_lines_w_rating.cleaned = [line.translate(str.maketrans(trans_dict)) for line in satc_all_lines_w_rating.cleaned]\n",
    "satc_all_lines_w_rating.head()\n",
    "\n",
    "print(\"Before transformation:\",satc_all_lines_w_rating.Line[0],\"\\n After transformation:\", satc_all_lines_w_rating.cleaned[0])\n",
    "satc_all_lines_w_rating.head()"
   ]
  },
  {
   "cell_type": "markdown",
   "metadata": {},
   "source": [
    "### Tokenization <a class=\"anchor\" id=\"tokenization\"></a>\n",
    "We then tokenize the text, this means, we break up the text into invidiual tokens. We are using the NLTK tokenize package and are splitting sentences up into single tokens using word_tokenize. The method invoked by word_tokenize is using the \"Treebank tokenizer\", a tokenizer that uses regular expressions to tokenize text.\n",
    "\n",
    "After tokenization, we remove stopwords from the text, using the english stopwords from NLTK. Stopwords are language specific word that carry no meaning for the purpose of a text analyis."
   ]
  },
  {
   "cell_type": "code",
   "execution_count": 8,
   "metadata": {},
   "outputs": [
    {
     "name": "stdout",
     "output_type": "stream",
     "text": [
      "179 stopwords are included in the stopwords corpus for the English language, containing words such as['himself', 'she', \"she's\", 'her', 'hers', 'herself', 'it', \"it's\", 'its', 'itself', 'they', 'them', 'their', 'theirs']\n"
     ]
    }
   ],
   "source": [
    "print(str(len(stopwords.words(\"english\")) ) +\" stopwords are included in the stopwords corpus for the English language, containing words such as\" + str(stopwords.words(\"english\")[20:34]))"
   ]
  },
  {
   "cell_type": "code",
   "execution_count": 9,
   "metadata": {},
   "outputs": [
    {
     "name": "stdout",
     "output_type": "stream",
     "text": [
      "Before transformation: Once upon a time, an English journalist came to New York. \n",
      " After transformation: ['upon', 'time', 'english', 'journalist', 'came', 'new', 'york']\n"
     ]
    }
   ],
   "source": [
    "#We are using NLKT tokenizer to split all text up into individual tokens\n",
    "satc_all_lines_w_rating[\"tokenized\"] = [word_tokenize(line) for line in satc_all_lines_w_rating.cleaned]\n",
    "\n",
    "#Removing stopwords for topic extraction using nltk stopwords library\n",
    "stopw = stopwords.words('english')\n",
    "satc_all_lines_w_rating[\"w_o_stopwords\"] = [[token for token in line if token not in stopw if len(token)>2] for line in satc_all_lines_w_rating.tokenized]\n",
    "satc_all_lines_w_rating.head()\n",
    "\n",
    "print(\"Before transformation:\",satc_all_lines_w_rating.Line[0],\"\\n After transformation:\", satc_all_lines_w_rating.w_o_stopwords[0])"
   ]
  },
  {
   "cell_type": "code",
   "execution_count": 10,
   "metadata": {},
   "outputs": [
    {
     "name": "stderr",
     "output_type": "stream",
     "text": [
      "C:\\Users\\dorar_000\\Anaconda3\\lib\\site-packages\\seaborn\\categorical.py:1460: FutureWarning: remove_na is deprecated and is a private function. Do not use.\n",
      "  stat_data = remove_na(group_data)\n"
     ]
    },
    {
     "data": {
      "image/png": "[encoded data removed]",
      "text/plain": [
       "<matplotlib.figure.Figure at 0x1f40571b630>"
      ]
     },
     "metadata": {},
     "output_type": "display_data"
    }
   ],
   "source": [
    "all_words = []\n",
    "for line in satc_all_lines_w_rating[\"w_o_stopwords\"]:\n",
    "    for word in line:\n",
    "        all_words.append(word)\n",
    "\n",
    "dist = nltk.FreqDist(all_words)\n",
    "X = [nb[1] for nb in dist.most_common(20)]\n",
    "y = [nb[0] for nb in dist.most_common(20)]\n",
    "x = sns.barplot(np.array(X),np.array(y))\n",
    "x.set(xlabel='Word frequencies',ylabel='Words',title='Most common words in the Sex and The City Scripts')\n",
    "plt.show()"
   ]
  },
  {
   "cell_type": "markdown",
   "metadata": {},
   "source": [
    "Plotting the 20 most common names in the script shows us that \"Name\" and \"nan\" are among the top words, we take them out, as nan signifies not a number in our data base, and NAME is the result of an csv misformatting. "
   ]
  },
  {
   "cell_type": "code",
   "execution_count": 11,
   "metadata": {},
   "outputs": [
    {
     "name": "stderr",
     "output_type": "stream",
     "text": [
      "C:\\Users\\dorar_000\\Anaconda3\\lib\\site-packages\\seaborn\\categorical.py:1460: FutureWarning: remove_na is deprecated and is a private function. Do not use.\n",
      "  stat_data = remove_na(group_data)\n"
     ]
    },
    {
     "data": {
      "image/png": "[encoded data removed]",
      "text/plain": [
       "<matplotlib.figure.Figure at 0x1f405771be0>"
      ]
     },
     "metadata": {},
     "output_type": "display_data"
    }
   ],
   "source": [
    "#addingnan and na to the list of stopwords\n",
    "#main_chars = [\"charlotte\",\"samantha\",\"carrie\",\"miranda\"]\n",
    "new_stopw = stopw + [\"nan\",\"name\"] #+ main_chars\n",
    "satc_all_lines_w_rating[\"w_o_stopwords_2\"] = [[token for token in line if token not in new_stopw if len(token)>2] for line in satc_all_lines_w_rating.tokenized]\n",
    "\n",
    "\n",
    "all_words = []\n",
    "for line in satc_all_lines_w_rating[\"w_o_stopwords_2\"]:\n",
    "    for word in line:\n",
    "        all_words.append(word)\n",
    "\n",
    "dist = nltk.FreqDist(all_words)\n",
    "X = [nb[1] for nb in dist.most_common(20)]\n",
    "y = [nb[0] for nb in dist.most_common(20)]\n",
    "x = sns.barplot(np.array(X),np.array(y))\n",
    "x.set(xlabel='Word frequencies',ylabel='Words',title='Most common words in the Sex and The City Scripts, removing further stopwords')\n",
    "plt.show()"
   ]
  },
  {
   "cell_type": "code",
   "execution_count": 12,
   "metadata": {
    "collapsed": true
   },
   "outputs": [],
   "source": [
    "#saving tokenized data set\n",
    "#satc_all_lines_w_rating.to_csv(\"satc_all_lines_w_rating_tokenized.csv\")"
   ]
  },
  {
   "cell_type": "markdown",
   "metadata": {},
   "source": [
    "## Natural Language Processing <a class=\"anchor\" id=\"nlp\"></a>\n",
    "### Lemmatization <a class=\"anchor\" id=\"lemmatization\"></a>\n",
    "\n",
    "In order to combine words that represent the same meaning, we are using the WordNetLemmatizer() to transform our corpus. \"WordNet® is a large lexical database of English. Nouns, verbs, adjectives and adverbs are grouped into sets of cognitive synonyms (synsets), each expressing a distinct concept. Synsets are interlinked by means of conceptual-semantic and lexical relations.\" [Source: https://wordnet.princeton.edu]"
   ]
  },
  {
   "cell_type": "code",
   "execution_count": 13,
   "metadata": {
    "collapsed": true
   },
   "outputs": [],
   "source": [
    "# apply lemmatization from wordnet in order to merge words that come from the same meaning .- for example, \"friend\" and \"friends\" should be counted as the same word\n",
    "\n",
    "def lemmatize(tokens):\n",
    "    tokens = [WordNetLemmatizer().lemmatize(WordNetLemmatizer().lemmatize(WordNetLemmatizer().lemmatize(token,pos='a'),pos='v'),pos='n') for token in tokens]\n",
    "    return tokens  \n",
    "\n",
    "satc_all_lines_w_rating[\"lemmatized\"] = [lemmatize(line) for line in satc_all_lines_w_rating.w_o_stopwords_2]"
   ]
  },
  {
   "cell_type": "code",
   "execution_count": 14,
   "metadata": {},
   "outputs": [
    {
     "name": "stdout",
     "output_type": "stream",
     "text": [
      "0    [upon, time, english, journalist, came, new, y...\n",
      "1                      [elizabeth, attractive, bright]\n",
      "2    [right, away, hooked, one, city, typically, el...\n",
      "3           [question, remains, really, company, want]\n",
      "4    [tim, well, liked, respected, investment, bank...\n",
      "Name: w_o_stopwords_2, dtype: object\n",
      "0    [upon, time, english, journalist, come, new, y...\n",
      "1                      [elizabeth, attractive, bright]\n",
      "2    [right, away, hook, one, city, typically, elig...\n",
      "3            [question, remain, really, company, want]\n",
      "4    [tim, well, like, respect, investment, banker,...\n",
      "Name: lemmatized, dtype: object\n"
     ]
    }
   ],
   "source": [
    "#look at the difference in words \n",
    "print(satc_all_lines_w_rating.w_o_stopwords_2[0:5])\n",
    "print(satc_all_lines_w_rating.lemmatized[0:5])"
   ]
  },
  {
   "cell_type": "code",
   "execution_count": 15,
   "metadata": {},
   "outputs": [
    {
     "name": "stderr",
     "output_type": "stream",
     "text": [
      "C:\\Users\\dorar_000\\Anaconda3\\lib\\site-packages\\seaborn\\categorical.py:1460: FutureWarning: remove_na is deprecated and is a private function. Do not use.\n",
      "  stat_data = remove_na(group_data)\n"
     ]
    },
    {
     "data": {
      "image/png": "[encoded data removed]",
      "text/plain": [
       "<matplotlib.figure.Figure at 0x1f40a6e2cc0>"
      ]
     },
     "metadata": {},
     "output_type": "display_data"
    }
   ],
   "source": [
    "all_words = []\n",
    "for line in satc_all_lines_w_rating[\"lemmatized\"]:\n",
    "    for word in line:\n",
    "        all_words.append(word)\n",
    "\n",
    "dist = nltk.FreqDist(all_words)\n",
    "X = [nb[1] for nb in dist.most_common(20)]\n",
    "y = [nb[0] for nb in dist.most_common(20)]\n",
    "x = sns.barplot(np.array(X),np.array(y))\n",
    "x.set(xlabel='Word frequencies',ylabel='Words',title='Most common words in the Sex and The City Scripts, Lemmatized')\n",
    "plt.show()"
   ]
  },
  {
   "cell_type": "markdown",
   "metadata": {},
   "source": [
    "### TF-IDF <a class=\"anchor\" id=\"tfidf\"></a>\n",
    "\n",
    "\n",
    "Tf-Idf is a widely used statistic in the field of information retreival, used to quantify the relevance of a query or key word to a document inside a corpus.  It is commonly used in search engine optimization and text mining. The statistic is designed to assigns higher relevance to a term if it occurs often in the document, but penalize it if it occus in many different documents, i.e. it is not unique or specific to one or few documents. The general formula to compute the Tf-Idf score for term _t_ and documet _d_ in corpus _D_ is:"
   ]
  },
  {
   "cell_type": "markdown",
   "metadata": {},
   "source": [
    "<center> \n",
    "$tf.idf(t,d,D)=tf(t,d)*idf(t,D)$ <br><br>\n",
    "$=\\frac{n(t,d)}{N(d)}*log\\frac{|D|}{d(t)}$<br><br>\n",
    "</center>\n",
    "where:<br><br>\n",
    "$tf(t,d)$ is the term frequency function<br><br>\n",
    "$idf(t,D)$ is the inverse document frequency function<br><br>\n",
    "$n(t,d)$ is the number of times t occurs in d<br><br>\n",
    "$N(d)$ is the number of unique terms in d<br><br>\n",
    "$d(t)$ is the number of documents in D which contain t<br><br>"
   ]
  },
  {
   "cell_type": "markdown",
   "metadata": {},
   "source": [
    "We are using a TFIDF statistic across our data set in order to understand, which words are significant in describing the content per episode. In our dataset, a document are all the lines of text spoken in one episode, and the corpus are all episodes together. "
   ]
  },
  {
   "cell_type": "code",
   "execution_count": 16,
   "metadata": {},
   "outputs": [
    {
     "data": {
      "text/html": [
       "<div>\n",
       "<style scoped>\n",
       "    .dataframe tbody tr th:only-of-type {\n",
       "        vertical-align: middle;\n",
       "    }\n",
       "\n",
       "    .dataframe tbody tr th {\n",
       "        vertical-align: top;\n",
       "    }\n",
       "\n",
       "    .dataframe thead th {\n",
       "        text-align: right;\n",
       "    }\n",
       "</style>\n",
       "<table border=\"1\" class=\"dataframe\">\n",
       "  <thead>\n",
       "    <tr style=\"text-align: right;\">\n",
       "      <th></th>\n",
       "      <th>ep_data_name</th>\n",
       "      <th>ep_data_url</th>\n",
       "      <th>ID</th>\n",
       "      <th>Rating</th>\n",
       "      <th>S_E</th>\n",
       "      <th>all_speakers</th>\n",
       "      <th>all_text</th>\n",
       "      <th>lines_carrie</th>\n",
       "      <th>lines_charlotte</th>\n",
       "      <th>lines_miranda</th>\n",
       "      <th>lines_samantha</th>\n",
       "    </tr>\n",
       "  </thead>\n",
       "  <tbody>\n",
       "    <tr>\n",
       "      <th>0</th>\n",
       "      <td>Sex and the City</td>\n",
       "      <td>https://www.imdb.com/title/tt0698663/?ref_=tte...</td>\n",
       "      <td>698663</td>\n",
       "      <td>7.4</td>\n",
       "      <td>1_1</td>\n",
       "      <td>[Carrie, Carrie, Carrie, Tim, Carrie, Carrie, ...</td>\n",
       "      <td>[upon, time, english, journalist, come, new, y...</td>\n",
       "      <td>150.0</td>\n",
       "      <td>33.0</td>\n",
       "      <td>29.0</td>\n",
       "      <td>26.0</td>\n",
       "    </tr>\n",
       "    <tr>\n",
       "      <th>1</th>\n",
       "      <td>Models and Mortals</td>\n",
       "      <td>https://www.imdb.com/title/tt0698649/?ref_=tte...</td>\n",
       "      <td>698649</td>\n",
       "      <td>7.4</td>\n",
       "      <td>1_2</td>\n",
       "      <td>[Carrie, Nick, Nick , Miranda , Nick , Nick , ...</td>\n",
       "      <td>[date, nick, fairly, successful, sport, agent,...</td>\n",
       "      <td>108.0</td>\n",
       "      <td>6.0</td>\n",
       "      <td>9.0</td>\n",
       "      <td>25.0</td>\n",
       "    </tr>\n",
       "    <tr>\n",
       "      <th>2</th>\n",
       "      <td>Bay of Married Pigs</td>\n",
       "      <td>https://www.imdb.com/title/tt0698618/?ref_=tte...</td>\n",
       "      <td>698618</td>\n",
       "      <td>7.4</td>\n",
       "      <td>1_3</td>\n",
       "      <td>[Carrie, Carrie, Carrie, Carrie, Carrie, Carri...</td>\n",
       "      <td>[friend, patience, husband, invite, hampton, w...</td>\n",
       "      <td>137.0</td>\n",
       "      <td>19.0</td>\n",
       "      <td>39.0</td>\n",
       "      <td>27.0</td>\n",
       "    </tr>\n",
       "    <tr>\n",
       "      <th>3</th>\n",
       "      <td>Valley of the Twenty-Something Guys</td>\n",
       "      <td>https://www.imdb.com/title/tt0698697/?ref_=tte...</td>\n",
       "      <td>698697</td>\n",
       "      <td>7.5</td>\n",
       "      <td>1_4</td>\n",
       "      <td>[Carrie, Carrie, Carrie, Carrie, Carrie, Carri...</td>\n",
       "      <td>[seem, meet, everywhere, street, corner, party...</td>\n",
       "      <td>174.0</td>\n",
       "      <td>41.0</td>\n",
       "      <td>24.0</td>\n",
       "      <td>28.0</td>\n",
       "    </tr>\n",
       "    <tr>\n",
       "      <th>4</th>\n",
       "      <td>The Power of Female Sex</td>\n",
       "      <td>https://www.imdb.com/title/tt0698688/?ref_=tte...</td>\n",
       "      <td>698688</td>\n",
       "      <td>7.3</td>\n",
       "      <td>1_5</td>\n",
       "      <td>[Carrie, Carrie, Samantha, Samantha, Carrie, S...</td>\n",
       "      <td>[host, balzac, overnight, become, restaurant, ...</td>\n",
       "      <td>138.0</td>\n",
       "      <td>18.0</td>\n",
       "      <td>30.0</td>\n",
       "      <td>37.0</td>\n",
       "    </tr>\n",
       "  </tbody>\n",
       "</table>\n",
       "</div>"
      ],
      "text/plain": [
       "                          ep_data_name  \\\n",
       "0                     Sex and the City   \n",
       "1                   Models and Mortals   \n",
       "2                  Bay of Married Pigs   \n",
       "3  Valley of the Twenty-Something Guys   \n",
       "4              The Power of Female Sex   \n",
       "\n",
       "                                         ep_data_url      ID  Rating  S_E  \\\n",
       "0  https://www.imdb.com/title/tt0698663/?ref_=tte...  698663     7.4  1_1   \n",
       "1  https://www.imdb.com/title/tt0698649/?ref_=tte...  698649     7.4  1_2   \n",
       "2  https://www.imdb.com/title/tt0698618/?ref_=tte...  698618     7.4  1_3   \n",
       "3  https://www.imdb.com/title/tt0698697/?ref_=tte...  698697     7.5  1_4   \n",
       "4  https://www.imdb.com/title/tt0698688/?ref_=tte...  698688     7.3  1_5   \n",
       "\n",
       "                                        all_speakers  \\\n",
       "0  [Carrie, Carrie, Carrie, Tim, Carrie, Carrie, ...   \n",
       "1  [Carrie, Nick, Nick , Miranda , Nick , Nick , ...   \n",
       "2  [Carrie, Carrie, Carrie, Carrie, Carrie, Carri...   \n",
       "3  [Carrie, Carrie, Carrie, Carrie, Carrie, Carri...   \n",
       "4  [Carrie, Carrie, Samantha, Samantha, Carrie, S...   \n",
       "\n",
       "                                            all_text  lines_carrie  \\\n",
       "0  [upon, time, english, journalist, come, new, y...         150.0   \n",
       "1  [date, nick, fairly, successful, sport, agent,...         108.0   \n",
       "2  [friend, patience, husband, invite, hampton, w...         137.0   \n",
       "3  [seem, meet, everywhere, street, corner, party...         174.0   \n",
       "4  [host, balzac, overnight, become, restaurant, ...         138.0   \n",
       "\n",
       "   lines_charlotte  lines_miranda  lines_samantha  \n",
       "0             33.0           29.0            26.0  \n",
       "1              6.0            9.0            25.0  \n",
       "2             19.0           39.0            27.0  \n",
       "3             41.0           24.0            28.0  \n",
       "4             18.0           30.0            37.0  "
      ]
     },
     "execution_count": 16,
     "metadata": {},
     "output_type": "execute_result"
    }
   ],
   "source": [
    "#group by episode to define one episode as one document for tf-idf\n",
    "\n",
    "#initizalize new df\n",
    "satc_text_per_episode = pd.DataFrame(\n",
    "    columns=list(satc_all_lines_w_rating)[5:10])\n",
    "\n",
    "#init\n",
    "current_s_e = \"1_1\"\n",
    "all_lines = []\n",
    "#collect all speakers per episode \n",
    "all_speakers = []\n",
    "carrie = 0\n",
    "samantha = 0\n",
    "miranda = 0\n",
    "charlotte = 0\n",
    "\n",
    "for index, row in satc_all_lines_w_rating.iterrows():\n",
    "        if(row.S_E == current_s_e):\n",
    "            #we use the lemmatized version of the lines, change here for different choice of text preprocessing\n",
    "            all_lines.append(row.lemmatized)\n",
    "            all_speakers.append(row.Speaker)\n",
    "            \n",
    "        if row.S_E != current_s_e:\n",
    "            #flatten all tokens for previous episode and add them to the dataframe\n",
    "            flat_all_lines = [word for line in all_lines for word in line]\n",
    "            \n",
    "            #count lines per main character \n",
    "            for name in all_speakers:\n",
    "                if name == \"Carrie\":\n",
    "                    carrie = carrie + 1\n",
    "                if name == \"Samantha\":\n",
    "                    samantha = samantha + 1\n",
    "                if name == \"Miranda\":\n",
    "                    miranda = miranda + 1\n",
    "                if name == \"Charlotte\":\n",
    "                    charlotte = charlotte + 1                \n",
    "            \n",
    "            \n",
    "            #add a new row to new df, taking the information from the index-1 (the last s_e)\n",
    "            satc_text_per_episode = satc_text_per_episode.append({'ep_data_name': satc_all_lines_w_rating.ep_data_name[index-1],\n",
    "                                                                  'ep_data_url': satc_all_lines_w_rating.ep_data_url[index-1],\n",
    "                                                                  'ID': satc_all_lines_w_rating.ID[index-1],\n",
    "                                                                  'Rating': satc_all_lines_w_rating.Rating[index-1],\n",
    "                                                                  'S_E': satc_all_lines_w_rating.S_E[index-1],\n",
    "                                                                  'all_text': flat_all_lines,\n",
    "                                                                  'all_speakers': all_speakers,\n",
    "                                                                  'lines_carrie': carrie,\n",
    "                                                                  'lines_samantha': samantha,\n",
    "                                                                  'lines_charlotte':charlotte,\n",
    "                                                                  'lines_miranda': miranda,\n",
    "                                                                 \n",
    "                                                                 }, ignore_index=True)\n",
    "        \n",
    "            #update vars\n",
    "            all_lines = []\n",
    "            all_speakers = []\n",
    "            carrie = 0\n",
    "            samantha = 0\n",
    "            miranda = 0\n",
    "            charlotte = 0\n",
    "            current_s_e = row.S_E\n",
    "\n",
    "\n",
    "satc_text_per_episode.head()"
   ]
  },
  {
   "cell_type": "code",
   "execution_count": 17,
   "metadata": {},
   "outputs": [
    {
     "data": {
      "text/html": [
       "<div>\n",
       "<style scoped>\n",
       "    .dataframe tbody tr th:only-of-type {\n",
       "        vertical-align: middle;\n",
       "    }\n",
       "\n",
       "    .dataframe tbody tr th {\n",
       "        vertical-align: top;\n",
       "    }\n",
       "\n",
       "    .dataframe thead th {\n",
       "        text-align: right;\n",
       "    }\n",
       "</style>\n",
       "<table border=\"1\" class=\"dataframe\">\n",
       "  <thead>\n",
       "    <tr style=\"text-align: right;\">\n",
       "      <th></th>\n",
       "      <th>S_E</th>\n",
       "      <th>ep_data_name</th>\n",
       "      <th>ID</th>\n",
       "      <th>Rating</th>\n",
       "      <th>000</th>\n",
       "      <th>00am</th>\n",
       "      <th>00pm</th>\n",
       "      <th>100</th>\n",
       "      <th>1000</th>\n",
       "      <th>101</th>\n",
       "      <th>...</th>\n",
       "      <th>zoie</th>\n",
       "      <th>zone</th>\n",
       "      <th>zoo</th>\n",
       "      <th>zooey</th>\n",
       "      <th>zorro</th>\n",
       "      <th>zsa</th>\n",
       "      <th>zsu</th>\n",
       "      <th>zucchini</th>\n",
       "      <th>zygote</th>\n",
       "      <th>éclairs</th>\n",
       "    </tr>\n",
       "  </thead>\n",
       "  <tbody>\n",
       "    <tr>\n",
       "      <th>0</th>\n",
       "      <td>1_1</td>\n",
       "      <td>Sex and the City</td>\n",
       "      <td>698663</td>\n",
       "      <td>7.4</td>\n",
       "      <td>0.000000</td>\n",
       "      <td>0.0</td>\n",
       "      <td>0.0</td>\n",
       "      <td>0.0</td>\n",
       "      <td>0.0</td>\n",
       "      <td>0.0</td>\n",
       "      <td>...</td>\n",
       "      <td>0.0</td>\n",
       "      <td>0.0</td>\n",
       "      <td>0.0</td>\n",
       "      <td>0.0</td>\n",
       "      <td>0.0</td>\n",
       "      <td>0.0</td>\n",
       "      <td>0.0</td>\n",
       "      <td>0.0</td>\n",
       "      <td>0.0</td>\n",
       "      <td>0.0</td>\n",
       "    </tr>\n",
       "    <tr>\n",
       "      <th>1</th>\n",
       "      <td>1_2</td>\n",
       "      <td>Models and Mortals</td>\n",
       "      <td>698649</td>\n",
       "      <td>7.4</td>\n",
       "      <td>0.000000</td>\n",
       "      <td>0.0</td>\n",
       "      <td>0.0</td>\n",
       "      <td>0.0</td>\n",
       "      <td>0.0</td>\n",
       "      <td>0.0</td>\n",
       "      <td>...</td>\n",
       "      <td>0.0</td>\n",
       "      <td>0.0</td>\n",
       "      <td>0.0</td>\n",
       "      <td>0.0</td>\n",
       "      <td>0.0</td>\n",
       "      <td>0.0</td>\n",
       "      <td>0.0</td>\n",
       "      <td>0.0</td>\n",
       "      <td>0.0</td>\n",
       "      <td>0.0</td>\n",
       "    </tr>\n",
       "    <tr>\n",
       "      <th>2</th>\n",
       "      <td>1_3</td>\n",
       "      <td>Bay of Married Pigs</td>\n",
       "      <td>698618</td>\n",
       "      <td>7.4</td>\n",
       "      <td>0.017015</td>\n",
       "      <td>0.0</td>\n",
       "      <td>0.0</td>\n",
       "      <td>0.0</td>\n",
       "      <td>0.0</td>\n",
       "      <td>0.0</td>\n",
       "      <td>...</td>\n",
       "      <td>0.0</td>\n",
       "      <td>0.0</td>\n",
       "      <td>0.0</td>\n",
       "      <td>0.0</td>\n",
       "      <td>0.0</td>\n",
       "      <td>0.0</td>\n",
       "      <td>0.0</td>\n",
       "      <td>0.0</td>\n",
       "      <td>0.0</td>\n",
       "      <td>0.0</td>\n",
       "    </tr>\n",
       "    <tr>\n",
       "      <th>3</th>\n",
       "      <td>1_4</td>\n",
       "      <td>Valley of the Twenty-Something Guys</td>\n",
       "      <td>698697</td>\n",
       "      <td>7.5</td>\n",
       "      <td>0.000000</td>\n",
       "      <td>0.0</td>\n",
       "      <td>0.0</td>\n",
       "      <td>0.0</td>\n",
       "      <td>0.0</td>\n",
       "      <td>0.0</td>\n",
       "      <td>...</td>\n",
       "      <td>0.0</td>\n",
       "      <td>0.0</td>\n",
       "      <td>0.0</td>\n",
       "      <td>0.0</td>\n",
       "      <td>0.0</td>\n",
       "      <td>0.0</td>\n",
       "      <td>0.0</td>\n",
       "      <td>0.0</td>\n",
       "      <td>0.0</td>\n",
       "      <td>0.0</td>\n",
       "    </tr>\n",
       "    <tr>\n",
       "      <th>4</th>\n",
       "      <td>1_5</td>\n",
       "      <td>The Power of Female Sex</td>\n",
       "      <td>698688</td>\n",
       "      <td>7.3</td>\n",
       "      <td>0.069914</td>\n",
       "      <td>0.0</td>\n",
       "      <td>0.0</td>\n",
       "      <td>0.0</td>\n",
       "      <td>0.0</td>\n",
       "      <td>0.0</td>\n",
       "      <td>...</td>\n",
       "      <td>0.0</td>\n",
       "      <td>0.0</td>\n",
       "      <td>0.0</td>\n",
       "      <td>0.0</td>\n",
       "      <td>0.0</td>\n",
       "      <td>0.0</td>\n",
       "      <td>0.0</td>\n",
       "      <td>0.0</td>\n",
       "      <td>0.0</td>\n",
       "      <td>0.0</td>\n",
       "    </tr>\n",
       "  </tbody>\n",
       "</table>\n",
       "<p>5 rows × 8926 columns</p>\n",
       "</div>"
      ],
      "text/plain": [
       "   S_E                         ep_data_name      ID  Rating       000  00am  \\\n",
       "0  1_1                     Sex and the City  698663     7.4  0.000000   0.0   \n",
       "1  1_2                   Models and Mortals  698649     7.4  0.000000   0.0   \n",
       "2  1_3                  Bay of Married Pigs  698618     7.4  0.017015   0.0   \n",
       "3  1_4  Valley of the Twenty-Something Guys  698697     7.5  0.000000   0.0   \n",
       "4  1_5              The Power of Female Sex  698688     7.3  0.069914   0.0   \n",
       "\n",
       "   00pm  100  1000  101  ...  zoie  zone  zoo  zooey  zorro  zsa  zsu  \\\n",
       "0   0.0  0.0   0.0  0.0  ...   0.0   0.0  0.0    0.0    0.0  0.0  0.0   \n",
       "1   0.0  0.0   0.0  0.0  ...   0.0   0.0  0.0    0.0    0.0  0.0  0.0   \n",
       "2   0.0  0.0   0.0  0.0  ...   0.0   0.0  0.0    0.0    0.0  0.0  0.0   \n",
       "3   0.0  0.0   0.0  0.0  ...   0.0   0.0  0.0    0.0    0.0  0.0  0.0   \n",
       "4   0.0  0.0   0.0  0.0  ...   0.0   0.0  0.0    0.0    0.0  0.0  0.0   \n",
       "\n",
       "   zucchini  zygote  éclairs  \n",
       "0       0.0     0.0      0.0  \n",
       "1       0.0     0.0      0.0  \n",
       "2       0.0     0.0      0.0  \n",
       "3       0.0     0.0      0.0  \n",
       "4       0.0     0.0      0.0  \n",
       "\n",
       "[5 rows x 8926 columns]"
      ]
     },
     "execution_count": 17,
     "metadata": {},
     "output_type": "execute_result"
    }
   ],
   "source": [
    "##create the tfidf matrix\n",
    "vect = TfidfVectorizer(analyzer ='word',ngram_range=(1,1),encoding='latin1')\n",
    "vect_transformed = vect.fit_transform([text for text in satc_text_per_episode['all_text'].astype(str)])\n",
    "\n",
    "feature_names = np.array(vect.get_feature_names())\n",
    "\n",
    "satc_tfidf = pd.concat([satc_text_per_episode[['S_E','ep_data_name','ID','Rating']],\n",
    "                        pd.DataFrame(vect_transformed.todense(), columns = feature_names)],axis=1)\n",
    "\n",
    "#create a second dataframe containing the lines per character: \n",
    "satc_tfidf_LPC = pd.concat([satc_text_per_episode[['S_E','ep_data_name','ID','Rating','lines_carrie','lines_samantha','lines_charlotte','lines_miranda']],\n",
    "                        pd.DataFrame(vect_transformed.todense(), columns = feature_names)],axis=1)\n",
    "\n",
    "satc_tfidf.head()"
   ]
  },
  {
   "cell_type": "code",
   "execution_count": 18,
   "metadata": {},
   "outputs": [
    {
     "name": "stdout",
     "output_type": "stream",
     "text": [
      "Smallest tfidf:\n",
      "['tiny' 'whenever' 'familiar' 'obvious' 'track' 'skin' 'perform' 'hall'\n",
      " 'replace' 'tip']\n",
      "\n",
      "Largest tfidf: \n",
      "['laney' 'threesome' 'pattern' 'fake' 'soul' 'model' 'yankee' 'phil'\n",
      " 'javier' 'zsa']\n"
     ]
    }
   ],
   "source": [
    "#some words with smallest and largest tfids\n",
    "sorted_tfidf_index = vect_transformed.max(0).toarray()[0].argsort()\n",
    "print('Smallest tfidf:\\n{}\\n'.format(feature_names[sorted_tfidf_index[:10]]))\n",
    "print('Largest tfidf: \\n{}'.format(feature_names[sorted_tfidf_index[:-11:-1]]))"
   ]
  },
  {
   "cell_type": "markdown",
   "metadata": {},
   "source": [
    "## Predictive Modeling <a class=\"anchor\" id=\"prediction\"></a>"
   ]
  },
  {
   "cell_type": "markdown",
   "metadata": {},
   "source": [
    "### Model Comparison - Note\n",
    "\n",
    "In order to compare the performance of different models, using different kinds of preprocessing and features, we designed the function evaluate_model in the process in comparing them. We will present different models and show their predictive capability by comparing error metrics, as well as looking at prediction precision with plots and other visual aids (such as a modeling of regression trees later on)."
   ]
  },
  {
   "cell_type": "code",
   "execution_count": 19,
   "metadata": {
    "collapsed": true
   },
   "outputs": [],
   "source": [
    "# evaluate_model takes as argument\n",
    "# modelname a string - to create an easy overview for final comparison \n",
    "# a model as provided by the sklearn library\n",
    "# number of features: as selected with the function get_features based on their tfdif score \n",
    "# pca_dim: number of dimensions kept in pca, can be set to None if no PCA\n",
    "# df: should be satc_tfidf or satc_tfidf_LPC\n",
    "# LPC: boolean with default falue False, set to True if you want to include the lines per character as a feature \n",
    "\n",
    "# returns \n",
    "# results - dataframe containing results from 10 iterations\n",
    "# model_details_and_averages - description of the input and average over ten iterations \n",
    "# target_test,target_pred_test - y* and y_pred for the test set\n",
    "\n",
    "def evaluate_model(modelname,model,number_of_features,pca_dim,df,LPC=False):\n",
    "    \n",
    "    #get the words that we will look at in the analysis\n",
    "    selected_words = get_features('tfidf',number_of_features)\n",
    "    \n",
    "    #define the features and targets \n",
    "    if LPC == False:\n",
    "        features = df[df.columns[4:]].filter(selected_words,axis=1).values\n",
    "        target= df['Rating'].values\n",
    "    \n",
    "    #if we also use lines per character, we need to select different cols\n",
    "    if LPC == True:\n",
    "        features = df[df.columns[8:]].filter(selected_words,axis=1).values\n",
    "        target= df['Rating'].values\n",
    "    \n",
    "\n",
    "    #if pca_dim != None, create the pca model \n",
    "    if pca_dim: \n",
    "        pca = PCA(n_components=pca_dim)\n",
    "\n",
    "    \n",
    "    results={}\n",
    "    #labels = satc_tfidf['Rating'].unique()\n",
    "    num_run = 20\n",
    "\n",
    "    #get ten results to account for randomness \n",
    "    for i in range (num_run):\n",
    "\n",
    "        # separate datasets into training and test datasets once, no folding\n",
    "        features_train, features_test, target_train, target_test = train_test_split(features, target, test_size=0.3)\n",
    "        \n",
    "        #if pca, apply the dim reduction \n",
    "        if pca_dim: \n",
    "                features_train = pca.fit_transform(features_train)\n",
    "                features_test = pca.transform(features_test)\n",
    "\n",
    "        # train the features and target datasets and fit to a model\n",
    "        trained_model = model.fit(features_train, target_train)\n",
    "\n",
    "\n",
    "        # predict target with feature test set using trained model\n",
    "        target_pred_train = list(trained_model.predict(features_train))\n",
    "        target_pred_test = list(trained_model.predict(features_test))\n",
    "\n",
    "        results[i]=[metrics.mean_squared_error(target_test, target_pred_test),\n",
    "                metrics.mean_absolute_error (target_test, target_pred_test),\n",
    "                metrics.explained_variance_score(target_test, target_pred_test),\n",
    "                metrics.r2_score(target_test, target_pred_test),\n",
    "                   ]\n",
    "\n",
    "    results = pd.DataFrame.from_dict(data=results,orient='index',columns=['MSE','MAbsE', 'Explained_variance_score','R_squared']) \n",
    "    model_details_and_averages = [\n",
    "    str(modelname),\n",
    "    number_of_features,pca_dim,\n",
    "    results.MSE.mean(),\n",
    "    results.MAbsE.mean(),\n",
    "    results.Explained_variance_score.mean(),\n",
    "    results.R_squared.mean(),\n",
    "    ]\n",
    "\n",
    "    \n",
    "    return results,model_details_and_averages, target_test,target_pred_test\n",
    "\n",
    "#evaluate model without lines per char\n",
    "#evaluate_model(\"Lasso\",lasso_model,50,50,satc_tfidf)[1]\n",
    "#evaluate model with lines per char\n",
    "#evaluate_model(\"Lasso\",lasso_model,50,50,satc_tfidf_LPC,True)[1]"
   ]
  },
  {
   "cell_type": "markdown",
   "metadata": {},
   "source": [
    "### Dimensionality Reduction  <a class=\"anchor\" id=\"dimensionality\"></a> \n",
    "\n",
    "Calculating the TF-IDF scores for each word that occurs in the data set, we end up with a matrix of the shape 93x8926, 93x8930 if we want to includge the lines spoken per character per episode in our data set. We are dealing with p>>n, a data set where the number of then the number of variables is much higher then the number of observations. We furthermore have an extremely sparse matrix because of the nature of the TF-IDF matrix. \n",
    "\n",
    "We are going to look at different ways to reduce the dimensionality: \n",
    " + Preselection of features based on their TF-IDF scores\n",
    " + Dimensionality Reduction based on Principal Component Analysis\n"
   ]
  },
  {
   "cell_type": "code",
   "execution_count": 20,
   "metadata": {},
   "outputs": [
    {
     "data": {
      "text/plain": [
       "(93, 8926)"
      ]
     },
     "execution_count": 20,
     "metadata": {},
     "output_type": "execute_result"
    }
   ],
   "source": [
    "satc_tfidf.shape"
   ]
  },
  {
   "cell_type": "code",
   "execution_count": 21,
   "metadata": {},
   "outputs": [
    {
     "data": {
      "text/plain": [
       "(93, 8930)"
      ]
     },
     "execution_count": 21,
     "metadata": {},
     "output_type": "execute_result"
    }
   ],
   "source": [
    "satc_tfidf_LPC.shape"
   ]
  },
  {
   "cell_type": "markdown",
   "metadata": {},
   "source": [
    "#### Preselection of Features  <a class=\"anchor\" id=\"pre-feat\"></a> "
   ]
  },
  {
   "cell_type": "code",
   "execution_count": 22,
   "metadata": {
    "collapsed": true
   },
   "outputs": [],
   "source": [
    "from collections import Counter\n",
    "\n",
    "def get_features(method ='tf', k=100):\n",
    "    k=k\n",
    "    if (method == 'tfidf'):\n",
    "        #getting topK highest tfidf words\n",
    "        top_k = feature_names[sorted_tfidf_index[:-(k+1):-1]]\n",
    "    elif (method == 'tf'):\n",
    "        #topK most common words\n",
    "        counter = Counter([item for sublist in satc_text_per_episode['all_text'] for item in sublist])\n",
    "        top_k = counter.most_common(k)\n",
    "    else:\n",
    "        top_k = None\n",
    "        print(\"Bad input!! Choose tf or tfidf as first arg\")\n",
    "    \n",
    "    return list(top_k)"
   ]
  },
  {
   "cell_type": "code",
   "execution_count": 23,
   "metadata": {},
   "outputs": [
    {
     "data": {
      "text/plain": [
       "['laney',\n",
       " 'threesome',\n",
       " 'pattern',\n",
       " 'fake',\n",
       " 'soul',\n",
       " 'model',\n",
       " 'yankee',\n",
       " 'phil',\n",
       " 'javier',\n",
       " 'zsa',\n",
       " 'church',\n",
       " 'honeymoon',\n",
       " 'shrink',\n",
       " 'ghost',\n",
       " 'sandwich',\n",
       " 'whore',\n",
       " 'rabbit',\n",
       " 'sam',\n",
       " 'cheat',\n",
       " 'dildo',\n",
       " 'karma',\n",
       " 'jim',\n",
       " 'fetish',\n",
       " 'bitsy',\n",
       " 'jeremy',\n",
       " 'atlantic',\n",
       " 'leslie',\n",
       " 'review',\n",
       " 'berger',\n",
       " 'myth',\n",
       " 'paris',\n",
       " 'change',\n",
       " 'train',\n",
       " 'gay',\n",
       " 'money',\n",
       " 'mao',\n",
       " 'weight',\n",
       " 'vogue',\n",
       " 'shoe',\n",
       " 'pregnant',\n",
       " 'stewardess',\n",
       " 'ray',\n",
       " 'raw',\n",
       " 'marry',\n",
       " 'freak',\n",
       " 'ovary',\n",
       " 'keith',\n",
       " 'game',\n",
       " 'hubbell',\n",
       " 'taddy']"
      ]
     },
     "execution_count": 23,
     "metadata": {},
     "output_type": "execute_result"
    }
   ],
   "source": [
    "features_words = get_features('tfidf',50)\n",
    "features_words"
   ]
  },
  {
   "cell_type": "markdown",
   "metadata": {},
   "source": [
    " #### Principal Component Analysis  <a class=\"anchor\" id=\"pca\"></a> "
   ]
  },
  {
   "cell_type": "code",
   "execution_count": 24,
   "metadata": {
    "collapsed": true
   },
   "outputs": [],
   "source": [
    "from sklearn.decomposition import PCA\n",
    "\n",
    "pca = PCA(n_components=50)"
   ]
  },
  {
   "cell_type": "markdown",
   "metadata": {},
   "source": [
    "### Linear Regression <a class=\"anchor\" id=\"linreg\"></a>\n",
    "\n",
    "#### Linear Regression, no Regularization"
   ]
  },
  {
   "cell_type": "code",
   "execution_count": 32,
   "metadata": {},
   "outputs": [
    {
     "data": {
      "text/plain": [
       "Text(0,0.5,'y_star')"
      ]
     },
     "execution_count": 32,
     "metadata": {},
     "output_type": "execute_result"
    }
   ],
   "source": [
    "from sklearn.model_selection import train_test_split\n",
    "import sklearn.metrics as metrics \n",
    "\n",
    "linear_regression = LinearRegression() \n",
    "\n",
    "#Linear Regression with all features and 50 PCA Dimensions\n",
    "eval_linreg = evaluate_model(\"linreg\",linear_regression,900,10,satc_tfidf)\n",
    "y_star,y_pred = eval_linreg[2:4]\n",
    "\n",
    "# Plot the predicted vs the actual medv response\n",
    "fig, ax = plt.subplots(1,1, figsize=(8,6))\n",
    "ax.scatter(y_pred,y_star , facecolor='None', edgecolor='b')\n",
    "# add a reference unity line\n",
    "ax.plot([min(y_pred), max(y_pred)], [min(y_star), max(y_star)], linestyle='--', color='k');\n",
    "ax.set_xlabel('y_predicted')\n",
    "ax.set_ylabel('y_star')"
   ]
  },
  {
   "cell_type": "code",
   "execution_count": 33,
   "metadata": {
    "collapsed": true
   },
   "outputs": [],
   "source": [
    "#gridsearch_linreg = pd.DataFrame(columns=[\"Name\",\"features\",\"pca_dim\",'MSE','MAbsE', 'Explained_variance_score','R_squared'])\n",
    "\n",
    "#for pcadim in range(0,50,10):\n",
    " #   if pcadim == 0:\n",
    "  #      pcadim = None \n",
    "   # for featuredim in range (100,9000,500):\n",
    "    #    gridsearch_linreg.loc[len(gridsearch_linreg)] = evaluate_model(\"linear_reg\",linear_regression,featuredim,pcadim,satc_tfidf)[1]\n",
    "\n",
    "#gridsearch_linreg.to_csv(\"gridsearch_linreg.csv\")"
   ]
  },
  {
   "cell_type": "code",
   "execution_count": 34,
   "metadata": {
    "collapsed": true
   },
   "outputs": [],
   "source": [
    "#gridsearch_linreg.head()\n",
    "gridsearch_linreg= pd.read_csv(\"gridsearch_linreg.csv\").drop([\"Unnamed: 0\"],axis=1)"
   ]
  },
  {
   "cell_type": "code",
   "execution_count": 35,
   "metadata": {},
   "outputs": [
    {
     "data": {
      "text/plain": [
       "<seaborn.axisgrid.FacetGrid at 0x1f40b4f1be0>"
      ]
     },
     "execution_count": 35,
     "metadata": {},
     "output_type": "execute_result"
    }
   ],
   "source": [
    "seaborn.set(context=\"notebook\",style='ticks')\n",
    "\n",
    "fg = seaborn.FacetGrid(data=gridsearch_linreg, hue='pca_dim', \n",
    "                       #hue_order=_genders, \n",
    "                       aspect=1.61)\n",
    "fg.map(pyplot.scatter, 'features', 'MSE').add_legend()"
   ]
  },
  {
   "cell_type": "code",
   "execution_count": 36,
   "metadata": {},
   "outputs": [
    {
     "data": {
      "text/plain": [
       "<seaborn.axisgrid.FacetGrid at 0x1f40b4f1470>"
      ]
     },
     "execution_count": 36,
     "metadata": {},
     "output_type": "execute_result"
    }
   ],
   "source": [
    "fg = seaborn.FacetGrid(data=gridsearch_linreg, hue='features',)\n",
    "fg.map(pyplot.scatter, 'pca_dim', 'MSE').add_legend()"
   ]
  },
  {
   "cell_type": "code",
   "execution_count": 37,
   "metadata": {},
   "outputs": [
    {
     "data": {
      "text/html": [
       "<div>\n",
       "<style scoped>\n",
       "    .dataframe tbody tr th:only-of-type {\n",
       "        vertical-align: middle;\n",
       "    }\n",
       "\n",
       "    .dataframe tbody tr th {\n",
       "        vertical-align: top;\n",
       "    }\n",
       "\n",
       "    .dataframe thead th {\n",
       "        text-align: right;\n",
       "    }\n",
       "</style>\n",
       "<table border=\"1\" class=\"dataframe\">\n",
       "  <thead>\n",
       "    <tr style=\"text-align: right;\">\n",
       "      <th></th>\n",
       "      <th>Name</th>\n",
       "      <th>features</th>\n",
       "      <th>pca_dim</th>\n",
       "      <th>MSE</th>\n",
       "      <th>MAbsE</th>\n",
       "      <th>Explained_variance_score</th>\n",
       "      <th>R_squared</th>\n",
       "    </tr>\n",
       "  </thead>\n",
       "  <tbody>\n",
       "    <tr>\n",
       "      <th>0</th>\n",
       "      <td>linear_reg</td>\n",
       "      <td>100</td>\n",
       "      <td>NaN</td>\n",
       "      <td>1.623386</td>\n",
       "      <td>0.831357</td>\n",
       "      <td>-26.067094</td>\n",
       "      <td>-28.038848</td>\n",
       "    </tr>\n",
       "    <tr>\n",
       "      <th>1</th>\n",
       "      <td>linear_reg</td>\n",
       "      <td>600</td>\n",
       "      <td>NaN</td>\n",
       "      <td>0.075124</td>\n",
       "      <td>0.220369</td>\n",
       "      <td>-0.204553</td>\n",
       "      <td>-0.288242</td>\n",
       "    </tr>\n",
       "    <tr>\n",
       "      <th>2</th>\n",
       "      <td>linear_reg</td>\n",
       "      <td>1100</td>\n",
       "      <td>NaN</td>\n",
       "      <td>0.082495</td>\n",
       "      <td>0.222590</td>\n",
       "      <td>-0.558122</td>\n",
       "      <td>-0.624806</td>\n",
       "    </tr>\n",
       "    <tr>\n",
       "      <th>3</th>\n",
       "      <td>linear_reg</td>\n",
       "      <td>1600</td>\n",
       "      <td>NaN</td>\n",
       "      <td>0.071315</td>\n",
       "      <td>0.213852</td>\n",
       "      <td>-0.169534</td>\n",
       "      <td>-0.224683</td>\n",
       "    </tr>\n",
       "    <tr>\n",
       "      <th>4</th>\n",
       "      <td>linear_reg</td>\n",
       "      <td>2100</td>\n",
       "      <td>NaN</td>\n",
       "      <td>0.092592</td>\n",
       "      <td>0.239594</td>\n",
       "      <td>-0.421999</td>\n",
       "      <td>-0.562807</td>\n",
       "    </tr>\n",
       "  </tbody>\n",
       "</table>\n",
       "</div>"
      ],
      "text/plain": [
       "         Name  features  pca_dim       MSE     MAbsE  \\\n",
       "0  linear_reg       100      NaN  1.623386  0.831357   \n",
       "1  linear_reg       600      NaN  0.075124  0.220369   \n",
       "2  linear_reg      1100      NaN  0.082495  0.222590   \n",
       "3  linear_reg      1600      NaN  0.071315  0.213852   \n",
       "4  linear_reg      2100      NaN  0.092592  0.239594   \n",
       "\n",
       "   Explained_variance_score  R_squared  \n",
       "0                -26.067094 -28.038848  \n",
       "1                 -0.204553  -0.288242  \n",
       "2                 -0.558122  -0.624806  \n",
       "3                 -0.169534  -0.224683  \n",
       "4                 -0.421999  -0.562807  "
      ]
     },
     "execution_count": 37,
     "metadata": {},
     "output_type": "execute_result"
    }
   ],
   "source": [
    "#20 best mse \n",
    "gridsearch_linreg.head()\n",
    "#we get smallest mse 0.054556"
   ]
  },
  {
   "cell_type": "markdown",
   "metadata": {},
   "source": [
    "By doing a grid search for all possible combinations of dimension and PCA and ploting them against the MSE, we cannot identify a pattern. Since we prefer a less complex model to a more complex one, if they both possess the same explanatory power, we do another grid search looking at a small number of features and all PCA dimensions.  We get the best results for PCA dimensions <20, regardless of the number of features taken into account. This makes sense, since applying a PCA will modify the variables in a way that we expect to be ignoring most features anyway.\n",
    "\n",
    "We get an MSE of 0.053225, with an absolute Explained Erorr of around 0.186675 is our baseline score to judge further models. \n",
    "\n"
   ]
  },
  {
   "cell_type": "code",
   "execution_count": 38,
   "metadata": {
    "collapsed": true
   },
   "outputs": [],
   "source": [
    "gridsearch_linreg_small = pd.DataFrame(columns=[\"Name\",\"features\",\"pca_dim\",'MSE','MAbsE', 'Explained_variance_score','R_squared'])\n",
    "\n",
    "for featuredim in range (10,500,10):\n",
    "    for pcadim in range(0,50,10):\n",
    "        if featuredim < pcadim:\n",
    "            pcadim = featuredim\n",
    "        if pcadim == 0:\n",
    "            pcadim = None \n",
    "        gridsearch_linreg_small.loc[len(gridsearch_linreg_small)] = evaluate_model(\"linear_reg\",linear_regression,featuredim,pcadim,satc_tfidf)[1]"
   ]
  },
  {
   "cell_type": "code",
   "execution_count": 39,
   "metadata": {},
   "outputs": [
    {
     "data": {
      "text/html": [
       "<div>\n",
       "<style scoped>\n",
       "    .dataframe tbody tr th:only-of-type {\n",
       "        vertical-align: middle;\n",
       "    }\n",
       "\n",
       "    .dataframe tbody tr th {\n",
       "        vertical-align: top;\n",
       "    }\n",
       "\n",
       "    .dataframe thead th {\n",
       "        text-align: right;\n",
       "    }\n",
       "</style>\n",
       "<table border=\"1\" class=\"dataframe\">\n",
       "  <thead>\n",
       "    <tr style=\"text-align: right;\">\n",
       "      <th></th>\n",
       "      <th>Name</th>\n",
       "      <th>features</th>\n",
       "      <th>pca_dim</th>\n",
       "      <th>MSE</th>\n",
       "      <th>MAbsE</th>\n",
       "      <th>Explained_variance_score</th>\n",
       "      <th>R_squared</th>\n",
       "    </tr>\n",
       "  </thead>\n",
       "  <tbody>\n",
       "    <tr>\n",
       "      <th>97</th>\n",
       "      <td>linear_reg</td>\n",
       "      <td>200</td>\n",
       "      <td>20</td>\n",
       "      <td>0.052104</td>\n",
       "      <td>0.186330</td>\n",
       "      <td>0.000016</td>\n",
       "      <td>-0.030028</td>\n",
       "    </tr>\n",
       "    <tr>\n",
       "      <th>96</th>\n",
       "      <td>linear_reg</td>\n",
       "      <td>200</td>\n",
       "      <td>10</td>\n",
       "      <td>0.053325</td>\n",
       "      <td>0.188642</td>\n",
       "      <td>0.006788</td>\n",
       "      <td>-0.053052</td>\n",
       "    </tr>\n",
       "    <tr>\n",
       "      <th>67</th>\n",
       "      <td>linear_reg</td>\n",
       "      <td>140</td>\n",
       "      <td>20</td>\n",
       "      <td>0.055508</td>\n",
       "      <td>0.192745</td>\n",
       "      <td>0.012018</td>\n",
       "      <td>-0.024502</td>\n",
       "    </tr>\n",
       "    <tr>\n",
       "      <th>86</th>\n",
       "      <td>linear_reg</td>\n",
       "      <td>180</td>\n",
       "      <td>10</td>\n",
       "      <td>0.055516</td>\n",
       "      <td>0.192633</td>\n",
       "      <td>0.036501</td>\n",
       "      <td>-0.061314</td>\n",
       "    </tr>\n",
       "    <tr>\n",
       "      <th>76</th>\n",
       "      <td>linear_reg</td>\n",
       "      <td>160</td>\n",
       "      <td>10</td>\n",
       "      <td>0.055846</td>\n",
       "      <td>0.192887</td>\n",
       "      <td>-0.000204</td>\n",
       "      <td>-0.029214</td>\n",
       "    </tr>\n",
       "    <tr>\n",
       "      <th>121</th>\n",
       "      <td>linear_reg</td>\n",
       "      <td>250</td>\n",
       "      <td>10</td>\n",
       "      <td>0.056080</td>\n",
       "      <td>0.192897</td>\n",
       "      <td>-0.008478</td>\n",
       "      <td>-0.056720</td>\n",
       "    </tr>\n",
       "    <tr>\n",
       "      <th>236</th>\n",
       "      <td>linear_reg</td>\n",
       "      <td>480</td>\n",
       "      <td>10</td>\n",
       "      <td>0.056287</td>\n",
       "      <td>0.192156</td>\n",
       "      <td>-0.032156</td>\n",
       "      <td>-0.091020</td>\n",
       "    </tr>\n",
       "    <tr>\n",
       "      <th>206</th>\n",
       "      <td>linear_reg</td>\n",
       "      <td>420</td>\n",
       "      <td>10</td>\n",
       "      <td>0.056630</td>\n",
       "      <td>0.192987</td>\n",
       "      <td>-0.023869</td>\n",
       "      <td>-0.060729</td>\n",
       "    </tr>\n",
       "    <tr>\n",
       "      <th>106</th>\n",
       "      <td>linear_reg</td>\n",
       "      <td>220</td>\n",
       "      <td>10</td>\n",
       "      <td>0.056874</td>\n",
       "      <td>0.193221</td>\n",
       "      <td>0.008825</td>\n",
       "      <td>-0.035779</td>\n",
       "    </tr>\n",
       "    <tr>\n",
       "      <th>47</th>\n",
       "      <td>linear_reg</td>\n",
       "      <td>100</td>\n",
       "      <td>20</td>\n",
       "      <td>0.056952</td>\n",
       "      <td>0.192382</td>\n",
       "      <td>0.005983</td>\n",
       "      <td>-0.014416</td>\n",
       "    </tr>\n",
       "  </tbody>\n",
       "</table>\n",
       "</div>"
      ],
      "text/plain": [
       "           Name features pca_dim       MSE     MAbsE  \\\n",
       "97   linear_reg      200      20  0.052104  0.186330   \n",
       "96   linear_reg      200      10  0.053325  0.188642   \n",
       "67   linear_reg      140      20  0.055508  0.192745   \n",
       "86   linear_reg      180      10  0.055516  0.192633   \n",
       "76   linear_reg      160      10  0.055846  0.192887   \n",
       "121  linear_reg      250      10  0.056080  0.192897   \n",
       "236  linear_reg      480      10  0.056287  0.192156   \n",
       "206  linear_reg      420      10  0.056630  0.192987   \n",
       "106  linear_reg      220      10  0.056874  0.193221   \n",
       "47   linear_reg      100      20  0.056952  0.192382   \n",
       "\n",
       "     Explained_variance_score  R_squared  \n",
       "97                   0.000016  -0.030028  \n",
       "96                   0.006788  -0.053052  \n",
       "67                   0.012018  -0.024502  \n",
       "86                   0.036501  -0.061314  \n",
       "76                  -0.000204  -0.029214  \n",
       "121                 -0.008478  -0.056720  \n",
       "236                 -0.032156  -0.091020  \n",
       "206                 -0.023869  -0.060729  \n",
       "106                  0.008825  -0.035779  \n",
       "47                   0.005983  -0.014416  "
      ]
     },
     "execution_count": 39,
     "metadata": {},
     "output_type": "execute_result"
    }
   ],
   "source": [
    "gridsearch_linreg_small.sort_values(\"MSE\", inplace=True)\n",
    "gridsearch_linreg_small[0:10]\n",
    "#5.554742e-02 best score "
   ]
  },
  {
   "cell_type": "code",
   "execution_count": 40,
   "metadata": {},
   "outputs": [
    {
     "data": {
      "text/plain": [
       "<seaborn.axisgrid.FacetGrid at 0x1f40bf33dd8>"
      ]
     },
     "execution_count": 40,
     "metadata": {},
     "output_type": "execute_result"
    }
   ],
   "source": [
    "fg3 = seaborn.FacetGrid(data=gridsearch_linreg_small, hue='features')\n",
    "fg3.map(pyplot.scatter, 'pca_dim', 'MSE').add_legend()"
   ]
  },
  {
   "cell_type": "markdown",
   "metadata": {},
   "source": [
    "#### Penalized Regression using Lasso"
   ]
  },
  {
   "cell_type": "code",
   "execution_count": 41,
   "metadata": {
    "collapsed": true
   },
   "outputs": [],
   "source": [
    "\n",
    "\n",
    "lasso_model = LassoCV(n_alphas=100, alphas=[.01,.1,1,10,100]) \n",
    "\n",
    "#linear_regresson = LinearRegression() \n",
    "\n",
    "features_df = satc_tfidf[satc_tfidf.columns[4:]].filter(features_words,axis=1)\n",
    "features = features_df.values\n",
    "\n",
    "target_df = satc_tfidf['Rating']\n",
    "target = target_df.values\n",
    "\n",
    "#evaluate_model(\"Lasso\",lasso_model,50,50,satc_tfidf)[1]"
   ]
  },
  {
   "cell_type": "code",
   "execution_count": 42,
   "metadata": {},
   "outputs": [
    {
     "data": {
      "text/html": [
       "<div>\n",
       "<style scoped>\n",
       "    .dataframe tbody tr th:only-of-type {\n",
       "        vertical-align: middle;\n",
       "    }\n",
       "\n",
       "    .dataframe tbody tr th {\n",
       "        vertical-align: top;\n",
       "    }\n",
       "\n",
       "    .dataframe thead th {\n",
       "        text-align: right;\n",
       "    }\n",
       "</style>\n",
       "<table border=\"1\" class=\"dataframe\">\n",
       "  <thead>\n",
       "    <tr style=\"text-align: right;\">\n",
       "      <th></th>\n",
       "      <th>MSE</th>\n",
       "      <th>MAbsE</th>\n",
       "      <th>Explained_variance_score</th>\n",
       "      <th>R^2</th>\n",
       "    </tr>\n",
       "  </thead>\n",
       "  <tbody>\n",
       "    <tr>\n",
       "      <th>0</th>\n",
       "      <td>0.065765</td>\n",
       "      <td>0.208846</td>\n",
       "      <td>2.220446e-16</td>\n",
       "      <td>-0.038887</td>\n",
       "    </tr>\n",
       "    <tr>\n",
       "      <th>1</th>\n",
       "      <td>0.070676</td>\n",
       "      <td>0.203846</td>\n",
       "      <td>2.220446e-16</td>\n",
       "      <td>-0.000186</td>\n",
       "    </tr>\n",
       "    <tr>\n",
       "      <th>2</th>\n",
       "      <td>0.074989</td>\n",
       "      <td>0.221154</td>\n",
       "      <td>0.000000e+00</td>\n",
       "      <td>-0.004815</td>\n",
       "    </tr>\n",
       "    <tr>\n",
       "      <th>3</th>\n",
       "      <td>0.069447</td>\n",
       "      <td>0.229615</td>\n",
       "      <td>2.220446e-16</td>\n",
       "      <td>-0.022859</td>\n",
       "    </tr>\n",
       "    <tr>\n",
       "      <th>4</th>\n",
       "      <td>0.062522</td>\n",
       "      <td>0.194560</td>\n",
       "      <td>-2.220446e-16</td>\n",
       "      <td>-0.013803</td>\n",
       "    </tr>\n",
       "    <tr>\n",
       "      <th>5</th>\n",
       "      <td>0.066543</td>\n",
       "      <td>0.208242</td>\n",
       "      <td>0.000000e+00</td>\n",
       "      <td>-0.052653</td>\n",
       "    </tr>\n",
       "    <tr>\n",
       "      <th>6</th>\n",
       "      <td>0.073816</td>\n",
       "      <td>0.219835</td>\n",
       "      <td>-6.661338e-16</td>\n",
       "      <td>-0.000030</td>\n",
       "    </tr>\n",
       "    <tr>\n",
       "      <th>7</th>\n",
       "      <td>0.093398</td>\n",
       "      <td>0.243187</td>\n",
       "      <td>0.000000e+00</td>\n",
       "      <td>-0.178755</td>\n",
       "    </tr>\n",
       "    <tr>\n",
       "      <th>8</th>\n",
       "      <td>0.052780</td>\n",
       "      <td>0.197582</td>\n",
       "      <td>0.000000e+00</td>\n",
       "      <td>-0.269320</td>\n",
       "    </tr>\n",
       "    <tr>\n",
       "      <th>9</th>\n",
       "      <td>0.048032</td>\n",
       "      <td>0.189725</td>\n",
       "      <td>1.110223e-16</td>\n",
       "      <td>-0.002860</td>\n",
       "    </tr>\n",
       "  </tbody>\n",
       "</table>\n",
       "</div>"
      ],
      "text/plain": [
       "        MSE     MAbsE  Explained_variance_score       R^2\n",
       "0  0.065765  0.208846              2.220446e-16 -0.038887\n",
       "1  0.070676  0.203846              2.220446e-16 -0.000186\n",
       "2  0.074989  0.221154              0.000000e+00 -0.004815\n",
       "3  0.069447  0.229615              2.220446e-16 -0.022859\n",
       "4  0.062522  0.194560             -2.220446e-16 -0.013803\n",
       "5  0.066543  0.208242              0.000000e+00 -0.052653\n",
       "6  0.073816  0.219835             -6.661338e-16 -0.000030\n",
       "7  0.093398  0.243187              0.000000e+00 -0.178755\n",
       "8  0.052780  0.197582              0.000000e+00 -0.269320\n",
       "9  0.048032  0.189725              1.110223e-16 -0.002860"
      ]
     },
     "execution_count": 42,
     "metadata": {},
     "output_type": "execute_result"
    }
   ],
   "source": [
    "import warnings\n",
    "warnings.filterwarnings('ignore')\n",
    "\n",
    "\n",
    "#only keep 95% of vars \n",
    "from sklearn.decomposition import PCA\n",
    "\n",
    "pca = PCA(n_components=50)\n",
    "pca\n",
    "\n",
    "\n",
    "results={}\n",
    "labels = satc_tfidf['Rating'].unique()\n",
    "num_run = 10\n",
    "\n",
    "#get ten results to account for randomness \n",
    "for i in range (num_run):\n",
    "       \n",
    "    # separate datasets into training and test datasets once, no folding\n",
    "    features_train, features_test, target_train, target_test = train_test_split(features, target, test_size=0.3)\n",
    "   \n",
    "    # train the features and target datasets and fit to a model\n",
    "    trained_lm = lasso_model.fit(features_train, target_train)\n",
    "\n",
    "\n",
    "    # predict target with feature test set using trained model\n",
    "    target_pred_train = list(trained_lm.predict(features_train))\n",
    "    target_pred_test = list(trained_lm.predict(features_test))\n",
    "\n",
    "    results[i]=[metrics.mean_squared_error(target_test, target_pred_test),\n",
    "            metrics.mean_absolute_error (target_test, target_pred_test),\n",
    "            metrics.explained_variance_score(target_test, target_pred_test),\n",
    "            metrics.r2_score(target_test, target_pred_test),\n",
    "               ]\n",
    "\n",
    "res = pd.DataFrame.from_dict(data=results,orient='index',columns=['MSE','MAbsE', 'Explained_variance_score','R^2']) \n",
    "res\n",
    "\n"
   ]
  },
  {
   "cell_type": "code",
   "execution_count": 43,
   "metadata": {
    "collapsed": true
   },
   "outputs": [],
   "source": [
    "#model_comparison_df"
   ]
  },
  {
   "cell_type": "markdown",
   "metadata": {},
   "source": [
    "### Regression Trees <a class=\"anchor\" id=\"regtrees\"></a>\n"
   ]
  },
  {
   "cell_type": "code",
   "execution_count": 44,
   "metadata": {},
   "outputs": [
    {
     "data": {
      "text/plain": [
       "93"
      ]
     },
     "execution_count": 44,
     "metadata": {},
     "output_type": "execute_result"
    }
   ],
   "source": [
    "# Get the predictors and the response values\n",
    "X = satc_tfidf[satc_tfidf.columns[4:]].filter(features_words,axis=1).values\n",
    "\n",
    "y = satc_tfidf['Rating'].values\n",
    "# The lab uses a 50/50 split. We'll do the same\n",
    "X_train, X_test, y_train, y_test = train_test_split(X, y, train_size=0.5, random_state=0)\n",
    "\n",
    "satc_tfidf.head()\n",
    "len(X_train)\n",
    "len(satc_tfidf[satc_tfidf.columns[4:]].filter(features_words,axis=1).values)"
   ]
  },
  {
   "cell_type": "code",
   "execution_count": 45,
   "metadata": {},
   "outputs": [
    {
     "data": {
      "text/plain": [
       "DecisionTreeRegressor(criterion='mse', max_depth=None, max_features=None,\n",
       "           max_leaf_nodes=None, min_impurity_decrease=0.0,\n",
       "           min_impurity_split=None, min_samples_leaf=1,\n",
       "           min_samples_split=10, min_weight_fraction_leaf=0.0,\n",
       "           presort=False, random_state=None, splitter='best')"
      ]
     },
     "execution_count": 45,
     "metadata": {},
     "output_type": "execute_result"
    }
   ],
   "source": [
    "from sklearn.tree import DecisionTreeRegressor\n",
    "from sklearn.ensemble import RandomForestRegressor\n",
    "\n",
    "from sklearn.tree import tree, export_graphviz\n",
    "import graphviz\n",
    "\n",
    "\n",
    "# Create an sklearn decision tree object using the mse metric for splitting, considering all the features and \n",
    "# splitting if there are more than 10 samples at a node.\n",
    "tree = DecisionTreeRegressor(max_features=None, min_samples_split=10)\n",
    "tree_est = tree.fit(X_train, y_train)\n",
    "tree_est"
   ]
  },
  {
   "cell_type": "code",
   "execution_count": 49,
   "metadata": {
    "collapsed": true
   },
   "outputs": [],
   "source": [
    "# run this if grphviz throws error, after installing graphviz\n",
    "# import os\n",
    "# os.environ[\"PATH\"] += os.pathsep + 'C:/Program Files (x86)/Graphviz2.38/bin'"
   ]
  },
  {
   "cell_type": "code",
   "execution_count": 50,
   "metadata": {},
   "outputs": [
    {
     "data": {
      "image/png": "[encoded data removed]",
      "text/plain": [
       "<IPython.core.display.Image object>"
      ]
     },
     "execution_count": 50,
     "metadata": {},
     "output_type": "execute_result"
    }
   ],
   "source": [
    "from IPython.display import Image, display\n",
    "\n",
    "\n",
    "# use sklearn's export to generate the dot-data string file with all the nodes and their props.\n",
    "dot_data = export_graphviz(tree_est, out_file='boston_tree.dot',feature_names=satc_tfidf[satc_tfidf.columns[4:]].filter(features_words,axis=1).columns[0:],filled=True, \n",
    "                           rounded=True, special_characters=True)\n",
    "\n",
    "with open('boston_tree.dot') as f:\n",
    "    dot_graph = f.read()  \n",
    "\n",
    "# create the source object\n",
    "I = graphviz.Source(dot_graph, format='png', engine='dot')\n",
    "# Use ipython Image to shrink the rendered image of the source obj to fit into jupyter nb.\n",
    "Image(I.render())\n"
   ]
  },
  {
   "cell_type": "code",
   "execution_count": 51,
   "metadata": {},
   "outputs": [
    {
     "data": {
      "text/plain": [
       "freak         0.435905\n",
       "shoe          0.215900\n",
       "paris         0.098396\n",
       "gay           0.091571\n",
       "model         0.043560\n",
       "myth          0.040997\n",
       "marry         0.026079\n",
       "vogue         0.018950\n",
       "money         0.016596\n",
       "pregnant      0.012047\n",
       "honeymoon     0.000000\n",
       "shrink        0.000000\n",
       "taddy         0.000000\n",
       "sandwich      0.000000\n",
       "whore         0.000000\n",
       "rabbit        0.000000\n",
       "sam           0.000000\n",
       "ghost         0.000000\n",
       "javier        0.000000\n",
       "church        0.000000\n",
       "zsa           0.000000\n",
       "dildo         0.000000\n",
       "phil          0.000000\n",
       "yankee        0.000000\n",
       "soul          0.000000\n",
       "fake          0.000000\n",
       "pattern       0.000000\n",
       "threesome     0.000000\n",
       "cheat         0.000000\n",
       "jeremy        0.000000\n",
       "karma         0.000000\n",
       "jim           0.000000\n",
       "game          0.000000\n",
       "keith         0.000000\n",
       "ovary         0.000000\n",
       "raw           0.000000\n",
       "ray           0.000000\n",
       "stewardess    0.000000\n",
       "weight        0.000000\n",
       "mao           0.000000\n",
       "train         0.000000\n",
       "change        0.000000\n",
       "berger        0.000000\n",
       "review        0.000000\n",
       "leslie        0.000000\n",
       "atlantic      0.000000\n",
       "hubbell       0.000000\n",
       "bitsy         0.000000\n",
       "fetish        0.000000\n",
       "laney         0.000000\n",
       "dtype: float64"
      ]
     },
     "execution_count": 51,
     "metadata": {},
     "output_type": "execute_result"
    }
   ],
   "source": [
    "feature_importances = pd.Series(data=tree.feature_importances_, index=list(satc_tfidf[satc_tfidf.columns[4:]].filter(features_words,axis=1)))\n",
    "feature_importances.sort_values(axis=0, ascending=False)"
   ]
  },
  {
   "cell_type": "code",
   "execution_count": 52,
   "metadata": {},
   "outputs": [
    {
     "name": "stdout",
     "output_type": "stream",
     "text": [
      "Test MSE =  0.07010669959473155\n"
     ]
    }
   ],
   "source": [
    "# Get the predictions from the tree for the test set\n",
    "y_pred = tree_est.predict(X_test)\n",
    "\n",
    "# Scatter plot the predicted versus actual values\n",
    "fig,ax = plt.subplots(1,1, figsize=(8,6));\n",
    "ax.scatter(y_pred, y_test, facecolor='None', edgecolor='b');\n",
    "# add a reference unity line\n",
    "ax.plot([min(y_pred), max(y_pred)], [min(y_test), max(y_test)], linestyle='--', color='k');\n",
    "ax.set_xlabel('y_predicted')\n",
    "ax.set_ylabel('y_actual')\n",
    "\n",
    "# print the mse\n",
    "mse_dt = np.mean((y_pred-y_test)**2)\n",
    "print(\"Test MSE = \", mse_dt)"
   ]
  },
  {
   "cell_type": "code",
   "execution_count": 53,
   "metadata": {
    "collapsed": true
   },
   "outputs": [],
   "source": [
    "features_words = get_features('tfidf',150)"
   ]
  },
  {
   "cell_type": "code",
   "execution_count": 54,
   "metadata": {
    "collapsed": true
   },
   "outputs": [],
   "source": [
    "error_rates_regression_tree=[metrics.mean_squared_error(y_test, y_pred),\n",
    "            metrics.mean_absolute_error (y_test, y_pred),\n",
    "            metrics.explained_variance_score(y_test, y_pred),\n",
    "            metrics.r2_score(y_test, y_pred)]"
   ]
  },
  {
   "cell_type": "code",
   "execution_count": 55,
   "metadata": {},
   "outputs": [
    {
     "data": {
      "text/plain": [
       "[0.07010669959473155,\n",
       " 0.22406281661600808,\n",
       " -0.37596168786663675,\n",
       " -0.3844600340136064]"
      ]
     },
     "execution_count": 55,
     "metadata": {},
     "output_type": "execute_result"
    }
   ],
   "source": [
    "error_rates_regression_tree"
   ]
  },
  {
   "cell_type": "markdown",
   "metadata": {},
   "source": [
    "### Bagging Model <a class=\"anchor\" id=\"bagging\"></a>"
   ]
  },
  {
   "cell_type": "code",
   "execution_count": 56,
   "metadata": {
    "collapsed": true
   },
   "outputs": [],
   "source": [
    "from sklearn.ensemble import RandomForestRegressor\n",
    "\n",
    "bagger = RandomForestRegressor(n_estimators=500)\n",
    "bag_est =  bagger.fit(X_train, y_train)\n"
   ]
  },
  {
   "cell_type": "code",
   "execution_count": 57,
   "metadata": {},
   "outputs": [
    {
     "name": "stdout",
     "output_type": "stream",
     "text": [
      "Test MSE =  0.05340126042552982\n"
     ]
    }
   ],
   "source": [
    "y_pred = bagger.predict(X_test)\n",
    "\n",
    "# Plot the predicted vs the actual medv response\n",
    "fig, ax = plt.subplots(1,1, figsize=(8,6))\n",
    "ax.scatter(y_pred, y_test, facecolor='None', edgecolor='b')\n",
    "# add a reference unity line\n",
    "ax.plot([min(y_pred), max(y_pred)], [min(y_test), max(y_test)], linestyle='--', color='k');\n",
    "ax.set_xlabel('y_predicted')\n",
    "ax.set_ylabel('y_actual')\n",
    "\n",
    "mse_ba = np.mean((y_pred-y_test)**2)\n",
    "print(\"Test MSE = \", mse_ba)"
   ]
  },
  {
   "cell_type": "code",
   "execution_count": 58,
   "metadata": {
    "collapsed": true
   },
   "outputs": [],
   "source": [
    "error_rates_bagging=[metrics.mean_squared_error(y_test, y_pred),\n",
    "            metrics.mean_absolute_error (y_test, y_pred),\n",
    "            metrics.explained_variance_score(y_test, y_pred),\n",
    "            metrics.r2_score(y_test, y_pred)]"
   ]
  },
  {
   "cell_type": "code",
   "execution_count": 59,
   "metadata": {},
   "outputs": [
    {
     "data": {
      "text/plain": [
       "[0.05340126042552982,\n",
       " 0.1963787234042486,\n",
       " -0.05391389165023508,\n",
       " -0.05456270588231171]"
      ]
     },
     "execution_count": 59,
     "metadata": {},
     "output_type": "execute_result"
    }
   ],
   "source": [
    "error_rates_bagging"
   ]
  },
  {
   "cell_type": "markdown",
   "metadata": {},
   "source": [
    "### XG Boost <a class=\"anchor\" id=\"xgb\"></a>"
   ]
  },
  {
   "cell_type": "code",
   "execution_count": 60,
   "metadata": {
    "collapsed": true
   },
   "outputs": [],
   "source": [
    "import xgboost as xgb\n",
    "features_df \n",
    "#target_df\n",
    "test_df = pd.concat([target_df,features_df],axis=1)[0:60]\n",
    "train_df = pd.concat([target_df,features_df],axis=1)[60:]\n",
    "#train_df = pd.concat([target_df,features_df],axis=1)"
   ]
  },
  {
   "cell_type": "code",
   "execution_count": 61,
   "metadata": {
    "collapsed": true
   },
   "outputs": [],
   "source": [
    "model = xgb.XGBRegressor( max_depth=4)"
   ]
  },
  {
   "cell_type": "code",
   "execution_count": 62,
   "metadata": {},
   "outputs": [
    {
     "data": {
      "text/plain": [
       "XGBRegressor(base_score=0.5, booster='gbtree', colsample_bylevel=1,\n",
       "       colsample_bytree=1, gamma=0, importance_type='gain',\n",
       "       learning_rate=0.1, max_delta_step=0, max_depth=4,\n",
       "       min_child_weight=1, missing=None, n_estimators=100, n_jobs=1,\n",
       "       nthread=None, objective='reg:linear', random_state=0, reg_alpha=0,\n",
       "       reg_lambda=1, scale_pos_weight=1, seed=None, silent=True,\n",
       "       subsample=1)"
      ]
     },
     "execution_count": 62,
     "metadata": {},
     "output_type": "execute_result"
    }
   ],
   "source": [
    "model.fit(features_train,target_train)"
   ]
  },
  {
   "cell_type": "code",
   "execution_count": 63,
   "metadata": {
    "collapsed": true
   },
   "outputs": [],
   "source": [
    "y_pred = model.predict(features_test)"
   ]
  },
  {
   "cell_type": "code",
   "execution_count": 64,
   "metadata": {},
   "outputs": [
    {
     "name": "stdout",
     "output_type": "stream",
     "text": [
      "Test MSE =  0.05345671324742596\n"
     ]
    }
   ],
   "source": [
    "y_test=target_test\n",
    "# Plot the predicted vs the actual medv response\n",
    "fig, ax = plt.subplots(1,1, figsize=(8,6))\n",
    "ax.scatter(y_pred, y_test, facecolor='None', edgecolor='b')\n",
    "# add a reference unity line\n",
    "ax.plot([min(y_pred), max(y_pred)], [min(y_test), max(y_test)], linestyle='--', color='k');\n",
    "ax.set_xlabel('y_predicted')\n",
    "ax.set_ylabel('y_actual')\n",
    "\n",
    "mse_ba = np.mean((y_pred-y_test)**2)\n",
    "print(\"Test MSE = \", mse_ba)"
   ]
  },
  {
   "cell_type": "code",
   "execution_count": 65,
   "metadata": {
    "collapsed": true
   },
   "outputs": [],
   "source": [
    "#pd.DataFrame(y_test,y_pred)"
   ]
  },
  {
   "cell_type": "code",
   "execution_count": 66,
   "metadata": {
    "collapsed": true
   },
   "outputs": [],
   "source": [
    "error_rates_xgboost=[metrics.mean_squared_error(y_test, y_pred),\n",
    "            metrics.mean_absolute_error (y_test, y_pred),\n",
    "            metrics.explained_variance_score(y_test, y_pred),\n",
    "            metrics.r2_score(y_test, y_pred)]"
   ]
  },
  {
   "cell_type": "code",
   "execution_count": 67,
   "metadata": {},
   "outputs": [
    {
     "data": {
      "text/plain": [
       "[0.05345671324742596,\n",
       " 0.1908120972769602,\n",
       " -0.06549404479376886,\n",
       " -0.11611353358140986]"
      ]
     },
     "execution_count": 67,
     "metadata": {},
     "output_type": "execute_result"
    }
   ],
   "source": [
    "error_rates_xgboost\n"
   ]
  },
  {
   "cell_type": "markdown",
   "metadata": {},
   "source": [
    "### Prediction Including the Lines per Character <a class=\"anchor\" id=\"lpc\"></a>\n",
    "\n",
    "We added four additional columns to the dataframe in order to take into account the lines spoken per character per episode. Plotting the lines spoken per person against their Ratings "
   ]
  },
  {
   "cell_type": "code",
   "execution_count": 68,
   "metadata": {},
   "outputs": [
    {
     "name": "stdout",
     "output_type": "stream",
     "text": [
      "Correlation between the ratings and lines spoken by Samantha 0.004264035929862553\n",
      "\n",
      "Correlation between the ratings and lines spoken by Miranda 0.06440768413252036\n",
      "\n",
      "Correlation between the ratings and lines spoken by Charlotte 0.004248455475821382\n",
      "\n",
      "Correlation between the ratings and lines spoken by Carrie 0.15032605229827478\n",
      "\n"
     ]
    }
   ],
   "source": [
    "satc_tfidf_LPC.head()\n",
    "corr_carrie = satc_tfidf_LPC['Rating'].corr(satc_tfidf_LPC['lines_carrie'])\n",
    "corr_miranda = satc_tfidf_LPC['Rating'].corr(satc_tfidf_LPC['lines_miranda'])\n",
    "corr_charlotte = satc_tfidf_LPC['Rating'].corr(satc_tfidf_LPC['lines_charlotte'])\n",
    "corr_samantha = satc_tfidf_LPC['Rating'].corr(satc_tfidf_LPC['lines_samantha'])\n",
    "\n",
    "print(\"Correlation between the ratings and lines spoken by Samantha {corr_samantha}\\n\".format(corr_samantha=corr_samantha))\n",
    "print(\"Correlation between the ratings and lines spoken by Miranda {corr_miranda}\\n\".format(corr_miranda=corr_miranda))\n",
    "print(\"Correlation between the ratings and lines spoken by Charlotte {corr_charlotte}\\n\".format(corr_charlotte=corr_charlotte))\n",
    "print(\"Correlation between the ratings and lines spoken by Carrie {corr_carrie}\\n\".format(corr_carrie=corr_carrie))\n"
   ]
  },
  {
   "cell_type": "code",
   "execution_count": 69,
   "metadata": {},
   "outputs": [
    {
     "data": {
      "text/plain": [
       "<matplotlib.axes._subplots.AxesSubplot at 0x1f40c1386a0>"
      ]
     },
     "execution_count": 69,
     "metadata": {},
     "output_type": "execute_result"
    }
   ],
   "source": [
    "satc_tfidf_LPC.plot(x=\"Rating\",y=\"lines_carrie\",kind=\"scatter\",title=\"Number of Lines spoken by Carrie / Rating\")\n",
    "satc_tfidf_LPC.plot(x=\"Rating\",y=\"lines_miranda\",kind=\"scatter\",title=\"Number of Lines spoken by Miranda / Rating\")\n",
    "satc_tfidf_LPC.plot(x=\"Rating\",y=\"lines_charlotte\",kind=\"scatter\",title=\"Number of Lines spoken by Charlotte / Rating\")\n",
    "satc_tfidf_LPC.plot(x=\"Rating\",y=\"lines_samantha\",kind=\"scatter\",title=\"Number of Lines spoken by Samantha / Rating\")"
   ]
  },
  {
   "cell_type": "markdown",
   "metadata": {},
   "source": [
    "### Model Comparison <a class=\"anchor\" id=\"modelcomp\"></a>"
   ]
  },
  {
   "cell_type": "code",
   "execution_count": 70,
   "metadata": {
    "collapsed": true
   },
   "outputs": [],
   "source": [
    "model_comparison_df = pd.DataFrame(columns=[\"Name\",\"features\",\"pca_dim\",'MSE','MAbsE', 'Explained_variance_score','R_squared'])\n",
    "#evaluate_model(model, number_of_features,pca_dim,df):\n",
    "\n",
    "#get model scores, average of ten iterations \n",
    "lasso = evaluate_model(\"lasso\",lasso_model,50,50,satc_tfidf)[1]\n",
    "\n",
    "\n",
    "\n",
    "#add to model comparison df \n",
    "model_comparison_df.loc[len(model_comparison_df)] = lasso\n",
    "\n",
    "#add new models to compare like this\n",
    "model_comparison_df.loc[len(model_comparison_df)] = evaluate_model(\"lasso\",lasso_model,100,50,satc_tfidf)[1]\n",
    "\n",
    "model_comparison_df.loc[len(model_comparison_df)] = evaluate_model(\"lasso\",lasso_model,100,10,satc_tfidf)[1]\n",
    "model_comparison_df.loc[len(model_comparison_df)] = evaluate_model(\"lasso_LinesPerCharacter\",lasso_model,50,50,satc_tfidf_LPC,True)[1]\n",
    "\n",
    "#Decision Tree Regressor\n",
    "tree = DecisionTreeRegressor(max_features=None, min_samples_split=10)\n",
    "model_comparison_df.loc[len(model_comparison_df)] = evaluate_model(\"Tree\",tree,50,50,satc_tfidf)[1]\n",
    "model_comparison_df.loc[len(model_comparison_df)] = evaluate_model(\"Tree\",tree,100,50,satc_tfidf)[1]\n",
    "model_comparison_df.loc[len(model_comparison_df)] = evaluate_model(\"Tree\",tree,150,50,satc_tfidf)[1]\n",
    "model_comparison_df.loc[len(model_comparison_df)] = evaluate_model(\"Tree\",tree,25,None,satc_tfidf)[1]\n",
    "model_comparison_df.loc[len(model_comparison_df)] = evaluate_model(\"Tree\",tree,35,None,satc_tfidf)[1]\n",
    "\n",
    "\n",
    "model_comparison_df.loc[len(model_comparison_df)] = evaluate_model(\"Tree_LPC\",tree,50,None,satc_tfidf_LPC,True)[1]\n",
    "\n",
    "model_comparison_df.loc[len(model_comparison_df)] = evaluate_model(\"Tree\",tree,50,None,satc_tfidf)[1]\n",
    "model_comparison_df.loc[len(model_comparison_df)] = evaluate_model(\"Tree\",tree,100,None,satc_tfidf)[1]\n",
    "model_comparison_df.loc[len(model_comparison_df)] = evaluate_model(\"Tree\",tree,150,None,satc_tfidf)[1]\n",
    "\n",
    "#bagging\n",
    "bagger = RandomForestRegressor(n_estimators=500)\n",
    "model_comparison_df.loc[len(model_comparison_df)] = evaluate_model(\"Bagging_LPC\",bagger,50,None,satc_tfidf_LPC,True)[1]\n",
    "\n",
    "model_comparison_df.loc[len(model_comparison_df)] = evaluate_model(\"Bagging\",bagger,50,None,satc_tfidf)[1]\n",
    "model_comparison_df.loc[len(model_comparison_df)] = evaluate_model(\"Bagging\",bagger,100,None,satc_tfidf)[1]\n",
    "model_comparison_df.loc[len(model_comparison_df)] = evaluate_model(\"Bagging\",bagger,150,None,satc_tfidf)[1]\n",
    "model_comparison_df.loc[len(model_comparison_df)] = evaluate_model(\"Bagging\",bagger,50,50,satc_tfidf)[1]\n",
    "model_comparison_df.loc[len(model_comparison_df)] = evaluate_model(\"Bagging\",bagger,100,25,satc_tfidf)[1]\n",
    "model_comparison_df.loc[len(model_comparison_df)] = evaluate_model(\"Bagging\",bagger,150,2,satc_tfidf)[1]\n"
   ]
  },
  {
   "cell_type": "code",
   "execution_count": 75,
   "metadata": {},
   "outputs": [
    {
     "name": "stdout",
     "output_type": "stream",
     "text": [
      "Collecting package metadata: ...working... done\n",
      "Solving environment: ...working... failed\n"
     ]
    },
    {
     "name": "stderr",
     "output_type": "stream",
     "text": [
      "\n",
      "PackagesNotFoundError: The following packages are not available from current channels:\n",
      "\n",
      "  - xgboost\n",
      "\n",
      "Current channels:\n",
      "\n",
      "  - https://conda.anaconda.org/conda-forge/label/cf201901/win-64\n",
      "  - https://conda.anaconda.org/conda-forge/label/cf201901/noarch\n",
      "  - https://repo.anaconda.com/pkgs/main/win-64\n",
      "  - https://repo.anaconda.com/pkgs/main/noarch\n",
      "  - https://repo.anaconda.com/pkgs/free/win-64\n",
      "  - https://repo.anaconda.com/pkgs/free/noarch\n",
      "  - https://repo.anaconda.com/pkgs/r/win-64\n",
      "  - https://repo.anaconda.com/pkgs/r/noarch\n",
      "  - https://repo.anaconda.com/pkgs/msys2/win-64\n",
      "  - https://repo.anaconda.com/pkgs/msys2/noarch\n",
      "\n",
      "To search for alternate channels that may provide the conda package you're\n",
      "looking for, navigate to\n",
      "\n",
      "    https://anaconda.org\n",
      "\n",
      "and use the search bar at the top of the page.\n",
      "\n",
      "\n"
     ]
    }
   ],
   "source": [
    "!conda install -c conda-forge/label/cf201901 xgboost"
   ]
  },
  {
   "cell_type": "code",
   "execution_count": 71,
   "metadata": {},
   "outputs": [
    {
     "ename": "AttributeError",
     "evalue": "'XGBRegressor' object has no attribute 'XGBRegressor'",
     "output_type": "error",
     "traceback": [
      "\u001b[1;31m---------------------------------------------------------------------------\u001b[0m",
      "\u001b[1;31mAttributeError\u001b[0m                            Traceback (most recent call last)",
      "\u001b[1;32m<ipython-input-71-57f3c8dd8ad5>\u001b[0m in \u001b[0;36m<module>\u001b[1;34m()\u001b[0m\n\u001b[0;32m      9\u001b[0m \u001b[0mmodel_comparison_df\u001b[0m\u001b[1;33m.\u001b[0m\u001b[0mloc\u001b[0m\u001b[1;33m[\u001b[0m\u001b[0mlen\u001b[0m\u001b[1;33m(\u001b[0m\u001b[0mmodel_comparison_df\u001b[0m\u001b[1;33m)\u001b[0m\u001b[1;33m]\u001b[0m \u001b[1;33m=\u001b[0m \u001b[0mevaluate_model\u001b[0m\u001b[1;33m(\u001b[0m\u001b[1;34m\"xgb\"\u001b[0m\u001b[1;33m,\u001b[0m\u001b[0mxgb\u001b[0m\u001b[1;33m,\u001b[0m\u001b[1;36m50\u001b[0m\u001b[1;33m,\u001b[0m\u001b[1;32mNone\u001b[0m\u001b[1;33m,\u001b[0m\u001b[0msatc_tfidf\u001b[0m\u001b[1;33m)\u001b[0m\u001b[1;33m[\u001b[0m\u001b[1;36m1\u001b[0m\u001b[1;33m]\u001b[0m\u001b[1;33m\u001b[0m\u001b[0m\n\u001b[0;32m     10\u001b[0m \u001b[0mmodel_comparison_df\u001b[0m\u001b[1;33m.\u001b[0m\u001b[0mloc\u001b[0m\u001b[1;33m[\u001b[0m\u001b[0mlen\u001b[0m\u001b[1;33m(\u001b[0m\u001b[0mmodel_comparison_df\u001b[0m\u001b[1;33m)\u001b[0m\u001b[1;33m]\u001b[0m \u001b[1;33m=\u001b[0m \u001b[0mevaluate_model\u001b[0m\u001b[1;33m(\u001b[0m\u001b[1;34m\"xgb\"\u001b[0m\u001b[1;33m,\u001b[0m\u001b[0mxgb\u001b[0m\u001b[1;33m,\u001b[0m\u001b[1;36m100\u001b[0m\u001b[1;33m,\u001b[0m\u001b[1;32mNone\u001b[0m\u001b[1;33m,\u001b[0m\u001b[0msatc_tfidf\u001b[0m\u001b[1;33m)\u001b[0m\u001b[1;33m[\u001b[0m\u001b[1;36m1\u001b[0m\u001b[1;33m]\u001b[0m\u001b[1;33m\u001b[0m\u001b[0m\n\u001b[1;32m---> 11\u001b[1;33m \u001b[0mxgb_10\u001b[0m \u001b[1;33m=\u001b[0m \u001b[0mxgb\u001b[0m\u001b[1;33m.\u001b[0m\u001b[0mXGBRegressor\u001b[0m\u001b[1;33m(\u001b[0m\u001b[0mmax_depth\u001b[0m\u001b[1;33m=\u001b[0m\u001b[1;36m10\u001b[0m\u001b[1;33m)\u001b[0m\u001b[1;33m\u001b[0m\u001b[0m\n\u001b[0m\u001b[0;32m     12\u001b[0m \u001b[0mmodel_comparison_df\u001b[0m\u001b[1;33m.\u001b[0m\u001b[0mloc\u001b[0m\u001b[1;33m[\u001b[0m\u001b[0mlen\u001b[0m\u001b[1;33m(\u001b[0m\u001b[0mmodel_comparison_df\u001b[0m\u001b[1;33m)\u001b[0m\u001b[1;33m]\u001b[0m \u001b[1;33m=\u001b[0m \u001b[0mevaluate_model\u001b[0m\u001b[1;33m(\u001b[0m\u001b[1;34m\"xgb_10\"\u001b[0m\u001b[1;33m,\u001b[0m\u001b[0mxgb_10\u001b[0m\u001b[1;33m,\u001b[0m\u001b[1;36m150\u001b[0m\u001b[1;33m,\u001b[0m\u001b[1;32mNone\u001b[0m\u001b[1;33m,\u001b[0m\u001b[0msatc_tfidf\u001b[0m\u001b[1;33m)\u001b[0m\u001b[1;33m[\u001b[0m\u001b[1;36m1\u001b[0m\u001b[1;33m]\u001b[0m\u001b[1;33m\u001b[0m\u001b[0m\n\u001b[0;32m     13\u001b[0m \u001b[0mmodel_comparison_df\u001b[0m\u001b[1;33m.\u001b[0m\u001b[0mloc\u001b[0m\u001b[1;33m[\u001b[0m\u001b[0mlen\u001b[0m\u001b[1;33m(\u001b[0m\u001b[0mmodel_comparison_df\u001b[0m\u001b[1;33m)\u001b[0m\u001b[1;33m]\u001b[0m \u001b[1;33m=\u001b[0m \u001b[0mevaluate_model\u001b[0m\u001b[1;33m(\u001b[0m\u001b[1;34m\"xgb\"\u001b[0m\u001b[1;33m,\u001b[0m\u001b[0mxgb\u001b[0m\u001b[1;33m,\u001b[0m\u001b[1;36m50\u001b[0m\u001b[1;33m,\u001b[0m\u001b[1;36m50\u001b[0m\u001b[1;33m,\u001b[0m\u001b[0msatc_tfidf\u001b[0m\u001b[1;33m)\u001b[0m\u001b[1;33m[\u001b[0m\u001b[1;36m1\u001b[0m\u001b[1;33m]\u001b[0m\u001b[1;33m\u001b[0m\u001b[0m\n",
      "\u001b[1;31mAttributeError\u001b[0m: 'XGBRegressor' object has no attribute 'XGBRegressor'"
     ]
    }
   ],
   "source": [
    "import xgboost as xgb\n",
    "\n",
    "#XGB\n",
    "xgb_2 = xgb.XGBRegressor(max_depth=2)\n",
    "model_comparison_df.loc[len(model_comparison_df)] = evaluate_model(\"xgb_2\",xgb_2,50,None,satc_tfidf)[1]\n",
    "model_comparison_df.loc[len(model_comparison_df)] = evaluate_model(\"xgb_2\",xgb_2,2000,20,satc_tfidf)[1]\n",
    "\n",
    "xgb = xgb.XGBRegressor(max_depth=4)\n",
    "model_comparison_df.loc[len(model_comparison_df)] = evaluate_model(\"xgb\",xgb,50,None,satc_tfidf)[1]\n",
    "model_comparison_df.loc[len(model_comparison_df)] = evaluate_model(\"xgb\",xgb,100,None,satc_tfidf)[1]\n",
    "xgb_10 = xgb.XGBRegressor(max_depth=10)\n",
    "model_comparison_df.loc[len(model_comparison_df)] = evaluate_model(\"xgb_10\",xgb_10,150,None,satc_tfidf)[1]\n",
    "model_comparison_df.loc[len(model_comparison_df)] = evaluate_model(\"xgb\",xgb,50,50,satc_tfidf)[1]\n",
    "model_comparison_df.loc[len(model_comparison_df)] = evaluate_model(\"xgb\",xgb,50,2,satc_tfidf)[1]"
   ]
  },
  {
   "cell_type": "code",
   "execution_count": null,
   "metadata": {},
   "outputs": [],
   "source": [
    "model_comparison_df"
   ]
  },
  {
   "cell_type": "markdown",
   "metadata": {},
   "source": [
    "### Keyword Lookup"
   ]
  },
  {
   "cell_type": "code",
   "execution_count": null,
   "metadata": {
    "collapsed": true
   },
   "outputs": [],
   "source": [
    "import gensim\n",
    "from gensim.models.word2vec import Word2Vec\n",
    "from gensim.models import KeyedVectors"
   ]
  },
  {
   "cell_type": "code",
   "execution_count": null,
   "metadata": {
    "collapsed": true
   },
   "outputs": [],
   "source": [
    "w2v = KeyedVectors.load_word2vec_format(\"C:\\\\Users\\\\dorar_000\\\\Documents\\\\GoogleNews-vectors-negative300.bin.gz\", binary = True)"
   ]
  },
  {
   "cell_type": "code",
   "execution_count": null,
   "metadata": {
    "collapsed": true
   },
   "outputs": [],
   "source": [
    "def my_vector_getter(word, wv=w2v) :\n",
    "    # returns the vector of a word\n",
    "    try:\n",
    "        # we use reshape because cosine similarity in sklearn now works only for multidimensional arrays\n",
    "        word_array = wv[word].reshape(1,-1)\n",
    "        return word_array\n",
    "    except KeyError:\n",
    "        print('word: <', word, '> not in vocabulary!')"
   ]
  },
  {
   "cell_type": "code",
   "execution_count": null,
   "metadata": {
    "collapsed": true
   },
   "outputs": [],
   "source": [
    "my_vector_getter('carrie', w2v)"
   ]
  },
  {
   "cell_type": "code",
   "execution_count": null,
   "metadata": {
    "collapsed": true
   },
   "outputs": [],
   "source": []
  }
 ],
 "metadata": {
  "kernelspec": {
   "display_name": "Python 3",
   "language": "python",
   "name": "python3"
  },
  "language_info": {
   "codemirror_mode": {
    "name": "ipython",
    "version": 3
   },
   "file_extension": ".py",
   "mimetype": "text/x-python",
   "name": "python",
   "nbconvert_exporter": "python",
   "pygments_lexer": "ipython3",
   "version": "3.6.3"
  }
 },
 "nbformat": 4,
 "nbformat_minor": 2
}
