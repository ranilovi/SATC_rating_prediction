{
 "cells": [
  {
   "cell_type": "code",
   "execution_count": 25,
   "metadata": {
    "collapsed": true
   },
   "outputs": [],
   "source": [
    "from imdb import IMDb\n",
    "import pandas as pd"
   ]
  },
  {
   "cell_type": "code",
   "execution_count": 55,
   "metadata": {},
   "outputs": [],
   "source": [
    "eps = pd.read_csv(\"imdb_eps.csv\")\n",
    "ep_ids = eps['ID']"
   ]
  },
  {
   "cell_type": "code",
   "execution_count": 40,
   "metadata": {},
   "outputs": [],
   "source": [
    "# create an instance of the IMDb class\n",
    "ia = IMDb()\n",
    "\n",
    "# get the series\n",
    "episodes =list(map(lambda x:ia.get_movie(x), ep_ids))"
   ]
  },
  {
   "cell_type": "code",
   "execution_count": 41,
   "metadata": {},
   "outputs": [
    {
     "name": "stdout",
     "output_type": "stream",
     "text": [
      "Movie\n",
      "=====\n",
      "Title: \"Sex and the City\" To Market, to Market (2003)\n",
      "Genres: Comedy, Drama, Romance.\n",
      "Director: Michael Patrick King.\n",
      "Writer: Darren Star, Michael Patrick King, Candace Bushnell.\n",
      "Cast: Sarah Jessica Parker (Carrie Bradshaw), Kim Cattrall (Samantha Jones), Kristin Davis (Charlotte York), Cynthia Nixon (Miranda Hobbes), David Eigenberg (Steve Brady).\n",
      "Runtime: 30.\n",
      "Country: United States.\n",
      "Language: English.\n",
      "Rating: 7.5 (323 votes).\n",
      "Plot: Carrie has overslept and rushes like crazy trough bogged down traffic, for she has the honor to open Wall Street by ringing the bell, and has her first 'official' date with Jack Berger, but takes the girls' advice to date simultaneously, notably graphic designer Applegate, a disaster. Miranda finally admits being in love with Steve, baby Brady's father. Charlotte tests Harry's determination not to marry a non-Jew, but even sex fails. Samantha is happy in her sexy neighborhood, where a Pottery Barn looks more out of place then SM leather, and notices the incredibly attractive Wall Street yuppie Chip Kil-Kinney moving in at her building; when she welcomes him with a kinky gift basket, he accepts her dare to drop his towel to take it; they have hot sex and he gives her a hot stock tip. Alas when she has him handcuffed the next day...\n"
     ]
    }
   ],
   "source": [
    "print (episodes[0].summary())"
   ]
  },
  {
   "cell_type": "code",
   "execution_count": 73,
   "metadata": {},
   "outputs": [],
   "source": [
    "ratings = [x['rating'] for x in episodes]\n",
    "eps['Rating'] = ratings"
   ]
  },
  {
   "cell_type": "code",
   "execution_count": 64,
   "metadata": {},
   "outputs": [],
   "source": [
    "satc_all_lines = pd.read_csv(\"SATC_all_lines.csv\").drop([\"Unnamed: 0\"],axis=1)"
   ]
  },
  {
   "cell_type": "code",
   "execution_count": 75,
   "metadata": {},
   "outputs": [],
   "source": [
    "satc_all_lines_w_rating = pd.merge(satc_all_lines, eps, how='left', left_on=['Season', 'Episode'],right_on=['Season', 'Episode'])"
   ]
  },
  {
   "cell_type": "code",
   "execution_count": 77,
   "metadata": {},
   "outputs": [],
   "source": [
    "satc_all_lines_w_rating.to_csv(\"satc_all_lines_w_rating.csv\")"
   ]
  }
 ],
 "metadata": {
  "kernelspec": {
   "display_name": "Python 3",
   "language": "python",
   "name": "python3"
  },
  "language_info": {
   "codemirror_mode": {
    "name": "ipython",
    "version": 3
   },
   "file_extension": ".py",
   "mimetype": "text/x-python",
   "name": "python",
   "nbconvert_exporter": "python",
   "pygments_lexer": "ipython3",
   "version": "3.6.3"
  }
 },
 "nbformat": 4,
 "nbformat_minor": 2
}
